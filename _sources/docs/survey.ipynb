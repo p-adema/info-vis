{
 "cells": [
  {
   "cell_type": "code",
   "execution_count": 1,
   "metadata": {
    "collapsed": true,
    "ExecuteTime": {
     "end_time": "2023-06-15T11:59:44.209277Z",
     "start_time": "2023-06-15T11:59:44.201766Z"
    }
   },
   "outputs": [],
   "source": [
    "import pandas as pd\n",
    "import numpy as np"
   ]
  },
  {
   "cell_type": "code",
   "execution_count": 2,
   "outputs": [
    {
     "data": {
      "text/plain": "   Year    Salary  JobSat  YearsCode  YearsCodePro  Age  Education  \\\n0  2017       NaN    <NA>          2          <NA>  NaN  secondary   \n1  2017       NaN    <NA>          9          <NA>  NaN   tertiary   \n2  2017  113750.0       5         20            20  NaN   bachelor   \n3  2017       NaN       2         14             9  NaN     doctor   \n4  2017       NaN       4         20            10  NaN     master   \n\n                    OrgSize                 LastNewJob Employment  \\\n0                       NaN                        NaN    notwork   \n1        20 to 99 employees                        NaN   parttime   \n2  10,000 or more employees                        NaN   fulltime   \n3  10,000 or more employees  Between 2 and 4 years ago   fulltime   \n4        10 to 19 employees                        NaN   fulltime   \n\n  RespondentType JobSeek Gender Student         Country  \\\n0            stu   maybe    Man      no   United States   \n1            stu     NaN    Man     yes  United Kingdom   \n2            dev     NaN    Man      no  United Kingdom   \n3        non-dev     yes    Man      no   United States   \n4            dev     NaN    NaN      no     Switzerland   \n\n                           CodingActivities  \\\n0  Hobby;Contribute to open-source projects   \n1  Hobby;Contribute to open-source projects   \n2  Hobby;Contribute to open-source projects   \n3  Hobby;Contribute to open-source projects   \n4                                     Hobby   \n\n                                             DevType  \\\n0                                               <NA>   \n1                                               <NA>   \n2                                               <NA>   \n3      Data scientist or machine learning specialist   \n4  Developer, mobile;Developer, game or graphics;...   \n\n                                       LearnCodeFrom  \\\n0  Online Courses or Certification;Other online r...   \n1  Online Courses or Certification;Hackathons (vi...   \n2  Other online resources (e.g., videos, blogs, f...   \n3                                               <NA>   \n4                                               <NA>   \n\n                  LangPresent            LangFuture  \n0                       Swift                 Swift  \n1  JavaScript;Python;Ruby;SQL  Java;Python;Ruby;SQL  \n2             Java;PHP;Python         C;Python;Rust  \n3         MATLAB;Python;R;SQL   MATLAB;Python;R;SQL  \n4                        <NA>                  <NA>  ",
      "text/html": "<div>\n<style scoped>\n    .dataframe tbody tr th:only-of-type {\n        vertical-align: middle;\n    }\n\n    .dataframe tbody tr th {\n        vertical-align: top;\n    }\n\n    .dataframe thead th {\n        text-align: right;\n    }\n</style>\n<table border=\"1\" class=\"dataframe\">\n  <thead>\n    <tr style=\"text-align: right;\">\n      <th></th>\n      <th>Year</th>\n      <th>Salary</th>\n      <th>JobSat</th>\n      <th>YearsCode</th>\n      <th>YearsCodePro</th>\n      <th>Age</th>\n      <th>Education</th>\n      <th>OrgSize</th>\n      <th>LastNewJob</th>\n      <th>Employment</th>\n      <th>RespondentType</th>\n      <th>JobSeek</th>\n      <th>Gender</th>\n      <th>Student</th>\n      <th>Country</th>\n      <th>CodingActivities</th>\n      <th>DevType</th>\n      <th>LearnCodeFrom</th>\n      <th>LangPresent</th>\n      <th>LangFuture</th>\n    </tr>\n  </thead>\n  <tbody>\n    <tr>\n      <th>0</th>\n      <td>2017</td>\n      <td>NaN</td>\n      <td>&lt;NA&gt;</td>\n      <td>2</td>\n      <td>&lt;NA&gt;</td>\n      <td>NaN</td>\n      <td>secondary</td>\n      <td>NaN</td>\n      <td>NaN</td>\n      <td>notwork</td>\n      <td>stu</td>\n      <td>maybe</td>\n      <td>Man</td>\n      <td>no</td>\n      <td>United States</td>\n      <td>Hobby;Contribute to open-source projects</td>\n      <td>&lt;NA&gt;</td>\n      <td>Online Courses or Certification;Other online r...</td>\n      <td>Swift</td>\n      <td>Swift</td>\n    </tr>\n    <tr>\n      <th>1</th>\n      <td>2017</td>\n      <td>NaN</td>\n      <td>&lt;NA&gt;</td>\n      <td>9</td>\n      <td>&lt;NA&gt;</td>\n      <td>NaN</td>\n      <td>tertiary</td>\n      <td>20 to 99 employees</td>\n      <td>NaN</td>\n      <td>parttime</td>\n      <td>stu</td>\n      <td>NaN</td>\n      <td>Man</td>\n      <td>yes</td>\n      <td>United Kingdom</td>\n      <td>Hobby;Contribute to open-source projects</td>\n      <td>&lt;NA&gt;</td>\n      <td>Online Courses or Certification;Hackathons (vi...</td>\n      <td>JavaScript;Python;Ruby;SQL</td>\n      <td>Java;Python;Ruby;SQL</td>\n    </tr>\n    <tr>\n      <th>2</th>\n      <td>2017</td>\n      <td>113750.0</td>\n      <td>5</td>\n      <td>20</td>\n      <td>20</td>\n      <td>NaN</td>\n      <td>bachelor</td>\n      <td>10,000 or more employees</td>\n      <td>NaN</td>\n      <td>fulltime</td>\n      <td>dev</td>\n      <td>NaN</td>\n      <td>Man</td>\n      <td>no</td>\n      <td>United Kingdom</td>\n      <td>Hobby;Contribute to open-source projects</td>\n      <td>&lt;NA&gt;</td>\n      <td>Other online resources (e.g., videos, blogs, f...</td>\n      <td>Java;PHP;Python</td>\n      <td>C;Python;Rust</td>\n    </tr>\n    <tr>\n      <th>3</th>\n      <td>2017</td>\n      <td>NaN</td>\n      <td>2</td>\n      <td>14</td>\n      <td>9</td>\n      <td>NaN</td>\n      <td>doctor</td>\n      <td>10,000 or more employees</td>\n      <td>Between 2 and 4 years ago</td>\n      <td>fulltime</td>\n      <td>non-dev</td>\n      <td>yes</td>\n      <td>Man</td>\n      <td>no</td>\n      <td>United States</td>\n      <td>Hobby;Contribute to open-source projects</td>\n      <td>Data scientist or machine learning specialist</td>\n      <td>&lt;NA&gt;</td>\n      <td>MATLAB;Python;R;SQL</td>\n      <td>MATLAB;Python;R;SQL</td>\n    </tr>\n    <tr>\n      <th>4</th>\n      <td>2017</td>\n      <td>NaN</td>\n      <td>4</td>\n      <td>20</td>\n      <td>10</td>\n      <td>NaN</td>\n      <td>master</td>\n      <td>10 to 19 employees</td>\n      <td>NaN</td>\n      <td>fulltime</td>\n      <td>dev</td>\n      <td>NaN</td>\n      <td>NaN</td>\n      <td>no</td>\n      <td>Switzerland</td>\n      <td>Hobby</td>\n      <td>Developer, mobile;Developer, game or graphics;...</td>\n      <td>&lt;NA&gt;</td>\n      <td>&lt;NA&gt;</td>\n      <td>&lt;NA&gt;</td>\n    </tr>\n  </tbody>\n</table>\n</div>"
     },
     "execution_count": 2,
     "metadata": {},
     "output_type": "execute_result"
    }
   ],
   "source": [
    "df = pd.read_parquet('../data/SO_2_0.pq.gz')\n",
    "df.head()"
   ],
   "metadata": {
    "collapsed": false,
    "ExecuteTime": {
     "end_time": "2023-06-15T11:59:44.869362Z",
     "start_time": "2023-06-15T11:59:44.523520Z"
    }
   }
  }
 ],
 "metadata": {
  "kernelspec": {
   "display_name": "Python 3",
   "language": "python",
   "name": "python3"
  },
  "language_info": {
   "codemirror_mode": {
    "name": "ipython",
    "version": 2
   },
   "file_extension": ".py",
   "mimetype": "text/x-python",
   "name": "python",
   "nbconvert_exporter": "python",
   "pygments_lexer": "ipython2",
   "version": "2.7.6"
  }
 },
 "nbformat": 4,
 "nbformat_minor": 0
}
