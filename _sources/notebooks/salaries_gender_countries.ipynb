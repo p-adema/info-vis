{
 "cells": [
  {
   "cell_type": "code",
   "execution_count": 12,
   "metadata": {
    "ExecuteTime": {
     "end_time": "2023-06-27T11:56:02.125720Z",
     "start_time": "2023-06-27T11:56:02.094262Z"
    }
   },
   "outputs": [],
   "source": [
    "%run set_theme.ipynb"
   ]
  },
  {
   "cell_type": "code",
   "execution_count": null,
   "metadata": {},
   "outputs": [],
   "source": [
    "import pandas as pd\n",
    "import plotly.graph_objs as go\n",
    "import plotly.express as px\n",
    "from plotly.offline import init_notebook_mode\n",
    "init_notebook_mode(connected=True)"
   ]
  },
  {
   "cell_type": "code",
   "execution_count": null,
   "metadata": {},
   "outputs": [],
   "source": [
    "df = pd.read_parquet('../data/SO_2014_2022.pq')\n",
    "\n",
    "df = df[(df['Salary'] > 0) & (df['Salary'] < 250000)]\n",
    "\n",
    "df.head()"
   ]
  },
  {
   "cell_type": "code",
   "execution_count": null,
   "metadata": {},
   "outputs": [],
   "source": [
    "# Show the top-n countries in the plot.\n",
    "TOP_N_COUNTRIES = 10\n",
    "\n",
    "# Take the top-n countries that have the most developers.\n",
    "countries = df[['Country', 'RespondentType']] \\\n",
    "    .query('RespondentType == \"dev\"') \\\n",
    "    .query('Country != \"Brazil\"') \\\n",
    "    .query('Country != \"India\"') \\\n",
    "    .query('Country != \"Russia\"') \\\n",
    "    .query('Country != \"Sweden\"') \\\n",
    "    .groupby('Country', as_index=False) \\\n",
    "    .count() \\\n",
    "    .sort_values('RespondentType', ascending=False) \\\n",
    "    .head(TOP_N_COUNTRIES) \\\n",
    "    ['Country'] \\\n",
    "    .tolist()\n",
    "\n",
    "countries_df = df[df['Country'].isin(countries)]\n",
    "    \n",
    "# Calculate the salary gap in percentage.\n",
    "salary_men_df = countries_df.query('Gender == \"male\"') \\\n",
    "    .groupby(['Year', 'Country']) \\\n",
    "    .agg({'Salary': 'mean' }) \\\n",
    "    .reset_index() \\\n",
    "    .rename(columns={'Salary': 'SalaryMen'})\n",
    "\n",
    "salary_women_df = countries_df.query('Gender == \"female\"') \\\n",
    "    .groupby(['Year', 'Country']) \\\n",
    "    .agg({'Salary': 'mean' }) \\\n",
    "    .reset_index() \\\n",
    "    .rename(columns={'Salary': 'SalaryWomen'})\n",
    "\n",
    "salary_gap_df = pd.merge(salary_men_df, salary_women_df, on=['Year', 'Country']).dropna()\n",
    "salary_gap_df['SalaryGap'] = abs(salary_gap_df['SalaryMen'] - salary_gap_df['SalaryWomen'])\n",
    "salary_gap_df['SalaryGapPercent'] = (salary_gap_df['SalaryMen'] - salary_gap_df['SalaryWomen']) / salary_gap_df['SalaryMen'] * 100\n",
    "\n",
    "salary_gap_df.head()"
   ]
  },
  {
   "cell_type": "code",
   "execution_count": null,
   "metadata": {},
   "outputs": [],
   "source": [
    "# Calculate the mean salary gap for all countries for all genders.\n",
    "mean_salary_men_df = countries_df.query('Gender == \"male\"') \\\n",
    "    .groupby(['Year', 'Country']) \\\n",
    "    .agg({'Salary': 'mean' }) \\\n",
    "    .reset_index() \\\n",
    "    .rename(columns={'Salary': 'SalaryMen'})\n",
    "\n",
    "mean_salary_women_df = countries_df.query('Gender == \"female\"') \\\n",
    "    .groupby(['Year', 'Country']) \\\n",
    "    .agg({'Salary': 'mean' }) \\\n",
    "    .reset_index() \\\n",
    "    .rename(columns={'Salary': 'SalaryWomen'})\n",
    "\n",
    "mean_salary_gap_df = pd.merge(mean_salary_men_df, mean_salary_women_df, on=['Year', 'Country']).dropna()\n",
    "mean_salary_gap_df['SalaryGap'] = abs(mean_salary_gap_df['SalaryMen'] - mean_salary_gap_df['SalaryWomen'])\n",
    "mean_salary_gap_df['SalaryGapPercent'] = (mean_salary_gap_df['SalaryMen'] - mean_salary_gap_df['SalaryWomen']) / mean_salary_gap_df['SalaryMen'] * 100\n",
    "\n",
    "mean_salary_gap = mean_salary_gap_df.groupby('Year', as_index=False)['SalaryGapPercent'].mean()\n",
    "\n",
    "mean_salary_gap"
   ]
  },
  {
   "cell_type": "code",
   "execution_count": 14,
   "metadata": {
    "ExecuteTime": {
     "end_time": "2023-06-27T11:56:48.530485Z",
     "start_time": "2023-06-27T11:56:48.401819Z"
    }
   },
   "outputs": [
    {
     "data": {
      "application/vnd.plotly.v1+json": {
       "data": [
        {
         "customdata": [
          [
           "Australia"
          ],
          [
           "Australia"
          ],
          [
           "Australia"
          ],
          [
           "Australia"
          ],
          [
           "Australia"
          ],
          [
           "Australia"
          ],
          [
           "Australia"
          ],
          [
           "Australia"
          ],
          [
           "Australia"
          ]
         ],
         "hovertemplate": "<b>Australia</b><br>Year: %{x:d} </br>Salary gap: %{y:d}%<extra></extra>",
         "hovertext": [
          "Australia",
          "Australia",
          "Australia",
          "Australia",
          "Australia",
          "Australia",
          "Australia",
          "Australia",
          "Australia"
         ],
         "legendgroup": "Australia (1/16)",
         "line": {
          "color": "rgba(233, 146, 119, 0.7)",
          "dash": "solid"
         },
         "marker": {
          "symbol": "circle"
         },
         "mode": "lines",
         "name": "Australia (1/16)",
         "orientation": "v",
         "showlegend": true,
         "x": [
          2014,
          2015,
          2016,
          2017,
          2018,
          2019,
          2020,
          2021,
          2022
         ],
         "xaxis": "x",
         "y": [
          13.957495692130959,
          21.210106382978726,
          7.232126778318023,
          15.640834960034688,
          19.570323320683958,
          17.284825622149576,
          15.08411922895953,
          23.36406322131421,
          17.127689490239973
         ],
         "yaxis": "y",
         "type": "scatter"
        },
        {
         "customdata": [
          [
           "Canada"
          ],
          [
           "Canada"
          ],
          [
           "Canada"
          ],
          [
           "Canada"
          ],
          [
           "Canada"
          ],
          [
           "Canada"
          ],
          [
           "Canada"
          ],
          [
           "Canada"
          ],
          [
           "Canada"
          ]
         ],
         "hovertemplate": "<b>Canada</b><br>Year: %{x:d} </br>Salary gap: %{y:d}%<extra></extra>",
         "hovertext": [
          "Canada",
          "Canada",
          "Canada",
          "Canada",
          "Canada",
          "Canada",
          "Canada",
          "Canada",
          "Canada"
         ],
         "legendgroup": "Canada (1/12)",
         "line": {
          "color": "rgba(148, 233, 119, 0.7)",
          "dash": "solid"
         },
         "marker": {
          "symbol": "circle"
         },
         "mode": "lines",
         "name": "Canada (1/12)",
         "orientation": "v",
         "showlegend": true,
         "x": [
          2014,
          2015,
          2016,
          2017,
          2018,
          2019,
          2020,
          2021,
          2022
         ],
         "xaxis": "x",
         "y": [
          18.885191347753743,
          32.29425939050319,
          20.756195513762364,
          16.15595687586354,
          12.696908631032294,
          13.095491332013529,
          12.4994837977156,
          10.094763151878297,
          11.836323249786686
         ],
         "yaxis": "y",
         "type": "scatter"
        },
        {
         "customdata": [
          [
           "France"
          ],
          [
           "France"
          ],
          [
           "France"
          ],
          [
           "France"
          ],
          [
           "France"
          ],
          [
           "France"
          ],
          [
           "France"
          ],
          [
           "France"
          ],
          [
           "France"
          ]
         ],
         "hovertemplate": "<b>France</b><br>Year: %{x:d} </br>Salary gap: %{y:d}%<extra></extra>",
         "hovertext": [
          "France",
          "France",
          "France",
          "France",
          "France",
          "France",
          "France",
          "France",
          "France"
         ],
         "legendgroup": "France (1/20)",
         "line": {
          "color": "rgba(119, 127, 233, 0.7)",
          "dash": "solid"
         },
         "marker": {
          "symbol": "circle"
         },
         "mode": "lines",
         "name": "France (1/20)",
         "orientation": "v",
         "showlegend": true,
         "x": [
          2014,
          2015,
          2016,
          2017,
          2018,
          2019,
          2020,
          2021,
          2022
         ],
         "xaxis": "x",
         "y": [
          14.11510791366907,
          6.56623735050597,
          17.36000747873235,
          13.873423424021706,
          11.039129258668973,
          10.589286024492385,
          17.250648520384058,
          25.460604728812104,
          24.602957919250937
         ],
         "yaxis": "y",
         "type": "scatter"
        },
        {
         "customdata": [
          [
           "Germany"
          ],
          [
           "Germany"
          ],
          [
           "Germany"
          ],
          [
           "Germany"
          ],
          [
           "Germany"
          ],
          [
           "Germany"
          ],
          [
           "Germany"
          ],
          [
           "Germany"
          ],
          [
           "Germany"
          ]
         ],
         "hovertemplate": "<b>Germany</b><br>Year: %{x:d} </br>Salary gap: %{y:d}%<extra></extra>",
         "hovertext": [
          "Germany",
          "Germany",
          "Germany",
          "Germany",
          "Germany",
          "Germany",
          "Germany",
          "Germany",
          "Germany"
         ],
         "legendgroup": "Germany (1/21)",
         "line": {
          "color": "rgba(218, 119, 233, 0.7)",
          "dash": "solid"
         },
         "marker": {
          "symbol": "circle"
         },
         "mode": "lines",
         "name": "Germany (1/21)",
         "orientation": "v",
         "showlegend": true,
         "x": [
          2014,
          2015,
          2016,
          2017,
          2018,
          2019,
          2020,
          2021,
          2022
         ],
         "xaxis": "x",
         "y": [
          17.526477622138707,
          18.035849413545215,
          21.29440898553722,
          3.756773894765065,
          9.044773268827615,
          14.656101885954351,
          18.597207868540067,
          16.344386829753514,
          13.87602329624176
         ],
         "yaxis": "y",
         "type": "scatter"
        },
        {
         "customdata": [
          [
           "Italy"
          ],
          [
           "Italy"
          ],
          [
           "Italy"
          ],
          [
           "Italy"
          ],
          [
           "Italy"
          ],
          [
           "Italy"
          ],
          [
           "Italy"
          ],
          [
           "Italy"
          ],
          [
           "Italy"
          ]
         ],
         "hovertemplate": "<b>Italy</b><br>Year: %{x:d} </br>Salary gap: %{y:d}%<extra></extra>",
         "hovertext": [
          "Italy",
          "Italy",
          "Italy",
          "Italy",
          "Italy",
          "Italy",
          "Italy",
          "Italy",
          "Italy"
         ],
         "legendgroup": "Italy (1/32)",
         "line": {
          "color": "rgba(218, 191, 162, 0.7)",
          "dash": "solid"
         },
         "marker": {
          "symbol": "circle"
         },
         "mode": "lines",
         "name": "Italy (1/32)",
         "orientation": "v",
         "showlegend": true,
         "x": [
          2014,
          2015,
          2016,
          2017,
          2018,
          2019,
          2020,
          2021,
          2022
         ],
         "xaxis": "x",
         "y": [
          26.303854875283445,
          43.30882352941176,
          17.9120965832873,
          13.88284853541758,
          33.27488907525568,
          23.577626659285933,
          31.537348074723347,
          20.845272223280816,
          18.949828636773333
         ],
         "yaxis": "y",
         "type": "scatter"
        },
        {
         "customdata": [
          [
           "Netherlands"
          ],
          [
           "Netherlands"
          ],
          [
           "Netherlands"
          ],
          [
           "Netherlands"
          ],
          [
           "Netherlands"
          ],
          [
           "Netherlands"
          ],
          [
           "Netherlands"
          ],
          [
           "Netherlands"
          ],
          [
           "Netherlands"
          ]
         ],
         "hovertemplate": "<b>Netherlands</b><br>Year: %{x:d} </br>Salary gap: %{y:d}%<extra></extra>",
         "hovertext": [
          "Netherlands",
          "Netherlands",
          "Netherlands",
          "Netherlands",
          "Netherlands",
          "Netherlands",
          "Netherlands",
          "Netherlands",
          "Netherlands"
         ],
         "legendgroup": "Netherlands (1/18)",
         "line": {
          "color": "rgba(207, 150, 150, 0.7)",
          "dash": "solid"
         },
         "marker": {
          "symbol": "circle"
         },
         "mode": "lines",
         "name": "Netherlands (1/18)",
         "orientation": "v",
         "showlegend": true,
         "x": [
          2014,
          2015,
          2016,
          2017,
          2018,
          2019,
          2020,
          2021,
          2022
         ],
         "xaxis": "x",
         "y": [
          25.085518814139114,
          31.46974063400576,
          7.534315198877866,
          18.557285885671295,
          7.697670998619133,
          24.351013348241196,
          25.638567835758362,
          21.95803662005263,
          24.446754744578044
         ],
         "yaxis": "y",
         "type": "scatter"
        },
        {
         "customdata": [
          [
           "Poland"
          ],
          [
           "Poland"
          ],
          [
           "Poland"
          ],
          [
           "Poland"
          ],
          [
           "Poland"
          ],
          [
           "Poland"
          ],
          [
           "Poland"
          ],
          [
           "Poland"
          ],
          [
           "Poland"
          ]
         ],
         "hovertemplate": "<b>Poland</b><br>Year: %{x:d} </br>Salary gap: %{y:d}%<extra></extra>",
         "hovertext": [
          "Poland",
          "Poland",
          "Poland",
          "Poland",
          "Poland",
          "Poland",
          "Poland",
          "Poland",
          "Poland"
         ],
         "legendgroup": "Poland (1/23)",
         "line": {
          "color": "rgba(167, 199, 213, 0.7)",
          "dash": "solid"
         },
         "marker": {
          "symbol": "circle"
         },
         "mode": "lines",
         "name": "Poland (1/23)",
         "orientation": "v",
         "showlegend": true,
         "x": [
          2014,
          2015,
          2016,
          2017,
          2018,
          2019,
          2020,
          2021,
          2022
         ],
         "xaxis": "x",
         "y": [
          46.74556213017752,
          19.39188842742142,
          41.706238445644686,
          24.28023445247764,
          17.116379714997787,
          30.028013673046893,
          29.535810906688496,
          37.963002498039,
          15.699992264397148
         ],
         "yaxis": "y",
         "type": "scatter"
        },
        {
         "customdata": [
          [
           "Spain"
          ],
          [
           "Spain"
          ],
          [
           "Spain"
          ],
          [
           "Spain"
          ],
          [
           "Spain"
          ],
          [
           "Spain"
          ],
          [
           "Spain"
          ],
          [
           "Spain"
          ],
          [
           "Spain"
          ]
         ],
         "hovertemplate": "<b>Spain</b><br>Year: %{x:d} </br>Salary gap: %{y:d}%<extra></extra>",
         "hovertext": [
          "Spain",
          "Spain",
          "Spain",
          "Spain",
          "Spain",
          "Spain",
          "Spain",
          "Spain",
          "Spain"
         ],
         "legendgroup": "Spain (1/20)",
         "line": {
          "color": "rgba(233, 119, 186, 0.7)",
          "dash": "solid"
         },
         "marker": {
          "symbol": "circle"
         },
         "mode": "lines",
         "name": "Spain (1/20)",
         "orientation": "v",
         "showlegend": true,
         "x": [
          2014,
          2015,
          2016,
          2017,
          2018,
          2019,
          2020,
          2021,
          2022
         ],
         "xaxis": "x",
         "y": [
          44.14335664335665,
          23.212913143735584,
          23.176770663464925,
          17.95583662967833,
          3.768188100999248,
          7.391530148720444,
          16.146529667041424,
          24.130084301297437,
          11.562852895062193
         ],
         "yaxis": "y",
         "type": "scatter"
        },
        {
         "customdata": [
          [
           "United Kingdom"
          ],
          [
           "United Kingdom"
          ],
          [
           "United Kingdom"
          ],
          [
           "United Kingdom"
          ],
          [
           "United Kingdom"
          ],
          [
           "United Kingdom"
          ],
          [
           "United Kingdom"
          ],
          [
           "United Kingdom"
          ],
          [
           "United Kingdom"
          ]
         ],
         "hovertemplate": "<b>United Kingdom</b><br>Year: %{x:d} </br>Salary gap: %{y:d}%<extra></extra>",
         "hovertext": [
          "United Kingdom",
          "United Kingdom",
          "United Kingdom",
          "United Kingdom",
          "United Kingdom",
          "United Kingdom",
          "United Kingdom",
          "United Kingdom",
          "United Kingdom"
         ],
         "legendgroup": "United Kingdom (1/15)",
         "line": {
          "color": "rgba(154, 162, 221, 0.7)",
          "dash": "solid"
         },
         "marker": {
          "symbol": "circle"
         },
         "mode": "lines",
         "name": "United Kingdom (1/15)",
         "orientation": "v",
         "showlegend": true,
         "x": [
          2014,
          2015,
          2016,
          2017,
          2018,
          2019,
          2020,
          2021,
          2022
         ],
         "xaxis": "x",
         "y": [
          35.41706191108582,
          28.0578596813942,
          20.149750638986813,
          13.37883023775702,
          22.271963665903343,
          15.273830205321865,
          13.50978981889189,
          21.27902087215123,
          15.479095317701507
         ],
         "yaxis": "y",
         "type": "scatter"
        },
        {
         "customdata": [
          [
           "United States"
          ],
          [
           "United States"
          ],
          [
           "United States"
          ],
          [
           "United States"
          ],
          [
           "United States"
          ],
          [
           "United States"
          ],
          [
           "United States"
          ],
          [
           "United States"
          ],
          [
           "United States"
          ]
         ],
         "hovertemplate": "<b>United States</b><br>Year: %{x:d} </br>Salary gap: %{y:d}%<extra></extra>",
         "hovertext": [
          "United States",
          "United States",
          "United States",
          "United States",
          "United States",
          "United States",
          "United States",
          "United States",
          "United States"
         ],
         "legendgroup": "United States (1/10)",
         "line": {
          "color": "rgba(154, 221, 209, 0.7)",
          "dash": "solid"
         },
         "marker": {
          "symbol": "circle"
         },
         "mode": "lines",
         "name": "United States (1/10)",
         "orientation": "v",
         "showlegend": true,
         "x": [
          2014,
          2015,
          2016,
          2017,
          2018,
          2019,
          2020,
          2021,
          2022
         ],
         "xaxis": "x",
         "y": [
          8.470369028419235,
          12.950463106815363,
          12.46431731038739,
          6.79814385362892,
          12.793368561409627,
          9.610040157299819,
          8.862034489716603,
          11.70640021451836,
          7.548858316473223
         ],
         "yaxis": "y",
         "type": "scatter"
        },
        {
         "hovertemplate": "<b></b><br>Year: %{x:d} </br>Mean salary gap: %{y:d}%<extra></extra>",
         "legendgroup": "",
         "line": {
          "color": "#636efa",
          "dash": "solid"
         },
         "marker": {
          "symbol": "circle"
         },
         "mode": "lines+markers",
         "name": "",
         "orientation": "v",
         "showlegend": false,
         "x": [
          2014,
          2015,
          2016,
          2017,
          2018,
          2019,
          2020,
          2021,
          2022
         ],
         "xaxis": "x",
         "y": [
          25.064999597815426,
          23.64981410603172,
          18.958622759699892,
          14.428016874931577,
          14.927359459639765,
          16.5857759056526,
          18.86615402084194,
          21.31456346610976,
          16.11303761305048
         ],
         "yaxis": "y",
         "type": "scatter"
        }
       ],
       "layout": {
        "template": {
         "data": {
          "histogram2dcontour": [
           {
            "type": "histogram2dcontour",
            "colorbar": {
             "outlinewidth": 0,
             "ticks": ""
            },
            "colorscale": [
             [
              0.0,
              "#0d0887"
             ],
             [
              0.1111111111111111,
              "#46039f"
             ],
             [
              0.2222222222222222,
              "#7201a8"
             ],
             [
              0.3333333333333333,
              "#9c179e"
             ],
             [
              0.4444444444444444,
              "#bd3786"
             ],
             [
              0.5555555555555556,
              "#d8576b"
             ],
             [
              0.6666666666666666,
              "#ed7953"
             ],
             [
              0.7777777777777778,
              "#fb9f3a"
             ],
             [
              0.8888888888888888,
              "#fdca26"
             ],
             [
              1.0,
              "#f0f921"
             ]
            ]
           }
          ],
          "choropleth": [
           {
            "type": "choropleth",
            "colorbar": {
             "outlinewidth": 0,
             "ticks": ""
            }
           }
          ],
          "histogram2d": [
           {
            "type": "histogram2d",
            "colorbar": {
             "outlinewidth": 0,
             "ticks": ""
            },
            "colorscale": [
             [
              0.0,
              "#0d0887"
             ],
             [
              0.1111111111111111,
              "#46039f"
             ],
             [
              0.2222222222222222,
              "#7201a8"
             ],
             [
              0.3333333333333333,
              "#9c179e"
             ],
             [
              0.4444444444444444,
              "#bd3786"
             ],
             [
              0.5555555555555556,
              "#d8576b"
             ],
             [
              0.6666666666666666,
              "#ed7953"
             ],
             [
              0.7777777777777778,
              "#fb9f3a"
             ],
             [
              0.8888888888888888,
              "#fdca26"
             ],
             [
              1.0,
              "#f0f921"
             ]
            ]
           }
          ],
          "heatmap": [
           {
            "type": "heatmap",
            "colorbar": {
             "outlinewidth": 0,
             "ticks": ""
            },
            "colorscale": [
             [
              0.0,
              "#0d0887"
             ],
             [
              0.1111111111111111,
              "#46039f"
             ],
             [
              0.2222222222222222,
              "#7201a8"
             ],
             [
              0.3333333333333333,
              "#9c179e"
             ],
             [
              0.4444444444444444,
              "#bd3786"
             ],
             [
              0.5555555555555556,
              "#d8576b"
             ],
             [
              0.6666666666666666,
              "#ed7953"
             ],
             [
              0.7777777777777778,
              "#fb9f3a"
             ],
             [
              0.8888888888888888,
              "#fdca26"
             ],
             [
              1.0,
              "#f0f921"
             ]
            ]
           }
          ],
          "heatmapgl": [
           {
            "type": "heatmapgl",
            "colorbar": {
             "outlinewidth": 0,
             "ticks": ""
            },
            "colorscale": [
             [
              0.0,
              "#0d0887"
             ],
             [
              0.1111111111111111,
              "#46039f"
             ],
             [
              0.2222222222222222,
              "#7201a8"
             ],
             [
              0.3333333333333333,
              "#9c179e"
             ],
             [
              0.4444444444444444,
              "#bd3786"
             ],
             [
              0.5555555555555556,
              "#d8576b"
             ],
             [
              0.6666666666666666,
              "#ed7953"
             ],
             [
              0.7777777777777778,
              "#fb9f3a"
             ],
             [
              0.8888888888888888,
              "#fdca26"
             ],
             [
              1.0,
              "#f0f921"
             ]
            ]
           }
          ],
          "contourcarpet": [
           {
            "type": "contourcarpet",
            "colorbar": {
             "outlinewidth": 0,
             "ticks": ""
            }
           }
          ],
          "contour": [
           {
            "type": "contour",
            "colorbar": {
             "outlinewidth": 0,
             "ticks": ""
            },
            "colorscale": [
             [
              0.0,
              "#0d0887"
             ],
             [
              0.1111111111111111,
              "#46039f"
             ],
             [
              0.2222222222222222,
              "#7201a8"
             ],
             [
              0.3333333333333333,
              "#9c179e"
             ],
             [
              0.4444444444444444,
              "#bd3786"
             ],
             [
              0.5555555555555556,
              "#d8576b"
             ],
             [
              0.6666666666666666,
              "#ed7953"
             ],
             [
              0.7777777777777778,
              "#fb9f3a"
             ],
             [
              0.8888888888888888,
              "#fdca26"
             ],
             [
              1.0,
              "#f0f921"
             ]
            ]
           }
          ],
          "surface": [
           {
            "type": "surface",
            "colorbar": {
             "outlinewidth": 0,
             "ticks": ""
            },
            "colorscale": [
             [
              0.0,
              "#0d0887"
             ],
             [
              0.1111111111111111,
              "#46039f"
             ],
             [
              0.2222222222222222,
              "#7201a8"
             ],
             [
              0.3333333333333333,
              "#9c179e"
             ],
             [
              0.4444444444444444,
              "#bd3786"
             ],
             [
              0.5555555555555556,
              "#d8576b"
             ],
             [
              0.6666666666666666,
              "#ed7953"
             ],
             [
              0.7777777777777778,
              "#fb9f3a"
             ],
             [
              0.8888888888888888,
              "#fdca26"
             ],
             [
              1.0,
              "#f0f921"
             ]
            ]
           }
          ],
          "mesh3d": [
           {
            "type": "mesh3d",
            "colorbar": {
             "outlinewidth": 0,
             "ticks": ""
            }
           }
          ],
          "scatter": [
           {
            "fillpattern": {
             "fillmode": "overlay",
             "size": 10,
             "solidity": 0.2
            },
            "type": "scatter"
           }
          ],
          "parcoords": [
           {
            "type": "parcoords",
            "line": {
             "colorbar": {
              "outlinewidth": 0,
              "ticks": ""
             }
            }
           }
          ],
          "scatterpolargl": [
           {
            "type": "scatterpolargl",
            "marker": {
             "colorbar": {
              "outlinewidth": 0,
              "ticks": ""
             }
            }
           }
          ],
          "bar": [
           {
            "error_x": {
             "color": "#2a3f5f"
            },
            "error_y": {
             "color": "#2a3f5f"
            },
            "marker": {
             "line": {
              "color": "#E5ECF6",
              "width": 0.5
             },
             "pattern": {
              "fillmode": "overlay",
              "size": 10,
              "solidity": 0.2
             }
            },
            "type": "bar"
           }
          ],
          "scattergeo": [
           {
            "type": "scattergeo",
            "marker": {
             "colorbar": {
              "outlinewidth": 0,
              "ticks": ""
             }
            }
           }
          ],
          "scatterpolar": [
           {
            "type": "scatterpolar",
            "marker": {
             "colorbar": {
              "outlinewidth": 0,
              "ticks": ""
             }
            }
           }
          ],
          "histogram": [
           {
            "marker": {
             "pattern": {
              "fillmode": "overlay",
              "size": 10,
              "solidity": 0.2
             }
            },
            "type": "histogram"
           }
          ],
          "scattergl": [
           {
            "type": "scattergl",
            "marker": {
             "colorbar": {
              "outlinewidth": 0,
              "ticks": ""
             }
            }
           }
          ],
          "scatter3d": [
           {
            "type": "scatter3d",
            "line": {
             "colorbar": {
              "outlinewidth": 0,
              "ticks": ""
             }
            },
            "marker": {
             "colorbar": {
              "outlinewidth": 0,
              "ticks": ""
             }
            }
           }
          ],
          "scattermapbox": [
           {
            "type": "scattermapbox",
            "marker": {
             "colorbar": {
              "outlinewidth": 0,
              "ticks": ""
             }
            }
           }
          ],
          "scatterternary": [
           {
            "type": "scatterternary",
            "marker": {
             "colorbar": {
              "outlinewidth": 0,
              "ticks": ""
             }
            }
           }
          ],
          "scattercarpet": [
           {
            "type": "scattercarpet",
            "marker": {
             "colorbar": {
              "outlinewidth": 0,
              "ticks": ""
             }
            }
           }
          ],
          "carpet": [
           {
            "aaxis": {
             "endlinecolor": "#2a3f5f",
             "gridcolor": "white",
             "linecolor": "white",
             "minorgridcolor": "white",
             "startlinecolor": "#2a3f5f"
            },
            "baxis": {
             "endlinecolor": "#2a3f5f",
             "gridcolor": "white",
             "linecolor": "white",
             "minorgridcolor": "white",
             "startlinecolor": "#2a3f5f"
            },
            "type": "carpet"
           }
          ],
          "table": [
           {
            "cells": {
             "fill": {
              "color": "#EBF0F8"
             },
             "line": {
              "color": "white"
             }
            },
            "header": {
             "fill": {
              "color": "#C8D4E3"
             },
             "line": {
              "color": "white"
             }
            },
            "type": "table"
           }
          ],
          "barpolar": [
           {
            "marker": {
             "line": {
              "color": "#E5ECF6",
              "width": 0.5
             },
             "pattern": {
              "fillmode": "overlay",
              "size": 10,
              "solidity": 0.2
             }
            },
            "type": "barpolar"
           }
          ],
          "pie": [
           {
            "automargin": true,
            "type": "pie"
           }
          ]
         },
         "layout": {
          "autotypenumbers": "strict",
          "colorway": [
           "#636efa",
           "#EF553B",
           "#00cc96",
           "#ab63fa",
           "#FFA15A",
           "#19d3f3",
           "#FF6692",
           "#B6E880",
           "#FF97FF",
           "#FECB52"
          ],
          "font": {
           "color": "#2a3f5f"
          },
          "hovermode": "closest",
          "hoverlabel": {
           "align": "left"
          },
          "paper_bgcolor": "white",
          "plot_bgcolor": "#E5ECF6",
          "polar": {
           "bgcolor": "#E5ECF6",
           "angularaxis": {
            "gridcolor": "white",
            "linecolor": "white",
            "ticks": ""
           },
           "radialaxis": {
            "gridcolor": "white",
            "linecolor": "white",
            "ticks": ""
           }
          },
          "ternary": {
           "bgcolor": "#E5ECF6",
           "aaxis": {
            "gridcolor": "white",
            "linecolor": "white",
            "ticks": ""
           },
           "baxis": {
            "gridcolor": "white",
            "linecolor": "white",
            "ticks": ""
           },
           "caxis": {
            "gridcolor": "white",
            "linecolor": "white",
            "ticks": ""
           }
          },
          "coloraxis": {
           "colorbar": {
            "outlinewidth": 0,
            "ticks": ""
           }
          },
          "colorscale": {
           "sequential": [
            [
             0.0,
             "#0d0887"
            ],
            [
             0.1111111111111111,
             "#46039f"
            ],
            [
             0.2222222222222222,
             "#7201a8"
            ],
            [
             0.3333333333333333,
             "#9c179e"
            ],
            [
             0.4444444444444444,
             "#bd3786"
            ],
            [
             0.5555555555555556,
             "#d8576b"
            ],
            [
             0.6666666666666666,
             "#ed7953"
            ],
            [
             0.7777777777777778,
             "#fb9f3a"
            ],
            [
             0.8888888888888888,
             "#fdca26"
            ],
            [
             1.0,
             "#f0f921"
            ]
           ],
           "sequentialminus": [
            [
             0.0,
             "#0d0887"
            ],
            [
             0.1111111111111111,
             "#46039f"
            ],
            [
             0.2222222222222222,
             "#7201a8"
            ],
            [
             0.3333333333333333,
             "#9c179e"
            ],
            [
             0.4444444444444444,
             "#bd3786"
            ],
            [
             0.5555555555555556,
             "#d8576b"
            ],
            [
             0.6666666666666666,
             "#ed7953"
            ],
            [
             0.7777777777777778,
             "#fb9f3a"
            ],
            [
             0.8888888888888888,
             "#fdca26"
            ],
            [
             1.0,
             "#f0f921"
            ]
           ],
           "diverging": [
            [
             0,
             "#8e0152"
            ],
            [
             0.1,
             "#c51b7d"
            ],
            [
             0.2,
             "#de77ae"
            ],
            [
             0.3,
             "#f1b6da"
            ],
            [
             0.4,
             "#fde0ef"
            ],
            [
             0.5,
             "#f7f7f7"
            ],
            [
             0.6,
             "#e6f5d0"
            ],
            [
             0.7,
             "#b8e186"
            ],
            [
             0.8,
             "#7fbc41"
            ],
            [
             0.9,
             "#4d9221"
            ],
            [
             1,
             "#276419"
            ]
           ]
          },
          "xaxis": {
           "gridcolor": "white",
           "linecolor": "white",
           "ticks": "",
           "title": {
            "standoff": 15
           },
           "zerolinecolor": "white",
           "automargin": true,
           "zerolinewidth": 2
          },
          "yaxis": {
           "gridcolor": "white",
           "linecolor": "white",
           "ticks": "",
           "title": {
            "standoff": 15
           },
           "zerolinecolor": "white",
           "automargin": true,
           "zerolinewidth": 2
          },
          "scene": {
           "xaxis": {
            "backgroundcolor": "#E5ECF6",
            "gridcolor": "white",
            "linecolor": "white",
            "showbackground": true,
            "ticks": "",
            "zerolinecolor": "white",
            "gridwidth": 2
           },
           "yaxis": {
            "backgroundcolor": "#E5ECF6",
            "gridcolor": "white",
            "linecolor": "white",
            "showbackground": true,
            "ticks": "",
            "zerolinecolor": "white",
            "gridwidth": 2
           },
           "zaxis": {
            "backgroundcolor": "#E5ECF6",
            "gridcolor": "white",
            "linecolor": "white",
            "showbackground": true,
            "ticks": "",
            "zerolinecolor": "white",
            "gridwidth": 2
           }
          },
          "shapedefaults": {
           "line": {
            "color": "#2a3f5f"
           }
          },
          "annotationdefaults": {
           "arrowcolor": "#2a3f5f",
           "arrowhead": 0,
           "arrowwidth": 1
          },
          "geo": {
           "bgcolor": "white",
           "landcolor": "#E5ECF6",
           "subunitcolor": "white",
           "showland": true,
           "showlakes": true,
           "lakecolor": "white"
          },
          "title": {
           "x": 0.05
          },
          "mapbox": {
           "style": "light"
          }
         }
        },
        "xaxis": {
         "anchor": "y",
         "domain": [
          0.0,
          1.0
         ],
         "title": {
          "text": "Year"
         }
        },
        "yaxis": {
         "anchor": "x",
         "domain": [
          0.0,
          1.0
         ],
         "title": {
          "text": "Salary gap in percentage"
         },
         "range": [
          0,
          48
         ]
        },
        "legend": {
         "title": {
          "text": "Country with<br>female/male ratio<br>"
         },
         "tracegroupgap": 0
        },
        "title": {
         "text": "Top-10 Country Salary Gap Between Men and Women<br><sup>Generally decreasing, but still male-favoured</sup>"
        },
        "width": 790,
        "annotations": [
         {
          "showarrow": false,
          "text": "mean salary gap",
          "textangle": -16,
          "x": 2019.7,
          "xanchor": "center",
          "y": 17.75,
          "yanchor": "bottom"
         },
         {
          "align": "left",
          "showarrow": false,
          "text": "Salary gaps across ten of the countries with the most survey respondents.<br>Positive percentages indicates a male-favoured salary gap.",
          "x": -0.11,
          "xanchor": "left",
          "xref": "paper",
          "y": -0.35,
          "yanchor": "bottom",
          "yref": "paper"
         }
        ],
        "margin": {
         "b": 130,
         "t": 100,
         "l": 90
        }
       },
       "config": {
        "plotlyServerURL": "https://plot.ly"
       }
      },
      "text/html": "<div>                            <div id=\"5e7b3f56-265d-4147-8194-1611173f90fd\" class=\"plotly-graph-div\" style=\"height:525px; width:790px;\"></div>            <script type=\"text/javascript\">                require([\"plotly\"], function(Plotly) {                    window.PLOTLYENV=window.PLOTLYENV || {};                                    if (document.getElementById(\"5e7b3f56-265d-4147-8194-1611173f90fd\")) {                    Plotly.newPlot(                        \"5e7b3f56-265d-4147-8194-1611173f90fd\",                        [{\"customdata\":[[\"Australia\"],[\"Australia\"],[\"Australia\"],[\"Australia\"],[\"Australia\"],[\"Australia\"],[\"Australia\"],[\"Australia\"],[\"Australia\"]],\"hovertemplate\":\"\\u003cb\\u003eAustralia\\u003c\\u002fb\\u003e\\u003cbr\\u003eYear: %{x:d} \\u003c\\u002fbr\\u003eSalary gap: %{y:d}%\\u003cextra\\u003e\\u003c\\u002fextra\\u003e\",\"hovertext\":[\"Australia\",\"Australia\",\"Australia\",\"Australia\",\"Australia\",\"Australia\",\"Australia\",\"Australia\",\"Australia\"],\"legendgroup\":\"Australia (1\\u002f16)\",\"line\":{\"color\":\"rgba(233, 146, 119, 0.7)\",\"dash\":\"solid\"},\"marker\":{\"symbol\":\"circle\"},\"mode\":\"lines\",\"name\":\"Australia (1\\u002f16)\",\"orientation\":\"v\",\"showlegend\":true,\"x\":[2014,2015,2016,2017,2018,2019,2020,2021,2022],\"xaxis\":\"x\",\"y\":[13.957495692130959,21.210106382978726,7.232126778318023,15.640834960034688,19.570323320683958,17.284825622149576,15.08411922895953,23.36406322131421,17.127689490239973],\"yaxis\":\"y\",\"type\":\"scatter\"},{\"customdata\":[[\"Canada\"],[\"Canada\"],[\"Canada\"],[\"Canada\"],[\"Canada\"],[\"Canada\"],[\"Canada\"],[\"Canada\"],[\"Canada\"]],\"hovertemplate\":\"\\u003cb\\u003eCanada\\u003c\\u002fb\\u003e\\u003cbr\\u003eYear: %{x:d} \\u003c\\u002fbr\\u003eSalary gap: %{y:d}%\\u003cextra\\u003e\\u003c\\u002fextra\\u003e\",\"hovertext\":[\"Canada\",\"Canada\",\"Canada\",\"Canada\",\"Canada\",\"Canada\",\"Canada\",\"Canada\",\"Canada\"],\"legendgroup\":\"Canada (1\\u002f12)\",\"line\":{\"color\":\"rgba(148, 233, 119, 0.7)\",\"dash\":\"solid\"},\"marker\":{\"symbol\":\"circle\"},\"mode\":\"lines\",\"name\":\"Canada (1\\u002f12)\",\"orientation\":\"v\",\"showlegend\":true,\"x\":[2014,2015,2016,2017,2018,2019,2020,2021,2022],\"xaxis\":\"x\",\"y\":[18.885191347753743,32.29425939050319,20.756195513762364,16.15595687586354,12.696908631032294,13.095491332013529,12.4994837977156,10.094763151878297,11.836323249786686],\"yaxis\":\"y\",\"type\":\"scatter\"},{\"customdata\":[[\"France\"],[\"France\"],[\"France\"],[\"France\"],[\"France\"],[\"France\"],[\"France\"],[\"France\"],[\"France\"]],\"hovertemplate\":\"\\u003cb\\u003eFrance\\u003c\\u002fb\\u003e\\u003cbr\\u003eYear: %{x:d} \\u003c\\u002fbr\\u003eSalary gap: %{y:d}%\\u003cextra\\u003e\\u003c\\u002fextra\\u003e\",\"hovertext\":[\"France\",\"France\",\"France\",\"France\",\"France\",\"France\",\"France\",\"France\",\"France\"],\"legendgroup\":\"France (1\\u002f20)\",\"line\":{\"color\":\"rgba(119, 127, 233, 0.7)\",\"dash\":\"solid\"},\"marker\":{\"symbol\":\"circle\"},\"mode\":\"lines\",\"name\":\"France (1\\u002f20)\",\"orientation\":\"v\",\"showlegend\":true,\"x\":[2014,2015,2016,2017,2018,2019,2020,2021,2022],\"xaxis\":\"x\",\"y\":[14.11510791366907,6.56623735050597,17.36000747873235,13.873423424021706,11.039129258668973,10.589286024492385,17.250648520384058,25.460604728812104,24.602957919250937],\"yaxis\":\"y\",\"type\":\"scatter\"},{\"customdata\":[[\"Germany\"],[\"Germany\"],[\"Germany\"],[\"Germany\"],[\"Germany\"],[\"Germany\"],[\"Germany\"],[\"Germany\"],[\"Germany\"]],\"hovertemplate\":\"\\u003cb\\u003eGermany\\u003c\\u002fb\\u003e\\u003cbr\\u003eYear: %{x:d} \\u003c\\u002fbr\\u003eSalary gap: %{y:d}%\\u003cextra\\u003e\\u003c\\u002fextra\\u003e\",\"hovertext\":[\"Germany\",\"Germany\",\"Germany\",\"Germany\",\"Germany\",\"Germany\",\"Germany\",\"Germany\",\"Germany\"],\"legendgroup\":\"Germany (1\\u002f21)\",\"line\":{\"color\":\"rgba(218, 119, 233, 0.7)\",\"dash\":\"solid\"},\"marker\":{\"symbol\":\"circle\"},\"mode\":\"lines\",\"name\":\"Germany (1\\u002f21)\",\"orientation\":\"v\",\"showlegend\":true,\"x\":[2014,2015,2016,2017,2018,2019,2020,2021,2022],\"xaxis\":\"x\",\"y\":[17.526477622138707,18.035849413545215,21.29440898553722,3.756773894765065,9.044773268827615,14.656101885954351,18.597207868540067,16.344386829753514,13.87602329624176],\"yaxis\":\"y\",\"type\":\"scatter\"},{\"customdata\":[[\"Italy\"],[\"Italy\"],[\"Italy\"],[\"Italy\"],[\"Italy\"],[\"Italy\"],[\"Italy\"],[\"Italy\"],[\"Italy\"]],\"hovertemplate\":\"\\u003cb\\u003eItaly\\u003c\\u002fb\\u003e\\u003cbr\\u003eYear: %{x:d} \\u003c\\u002fbr\\u003eSalary gap: %{y:d}%\\u003cextra\\u003e\\u003c\\u002fextra\\u003e\",\"hovertext\":[\"Italy\",\"Italy\",\"Italy\",\"Italy\",\"Italy\",\"Italy\",\"Italy\",\"Italy\",\"Italy\"],\"legendgroup\":\"Italy (1\\u002f32)\",\"line\":{\"color\":\"rgba(218, 191, 162, 0.7)\",\"dash\":\"solid\"},\"marker\":{\"symbol\":\"circle\"},\"mode\":\"lines\",\"name\":\"Italy (1\\u002f32)\",\"orientation\":\"v\",\"showlegend\":true,\"x\":[2014,2015,2016,2017,2018,2019,2020,2021,2022],\"xaxis\":\"x\",\"y\":[26.303854875283445,43.30882352941176,17.9120965832873,13.88284853541758,33.27488907525568,23.577626659285933,31.537348074723347,20.845272223280816,18.949828636773333],\"yaxis\":\"y\",\"type\":\"scatter\"},{\"customdata\":[[\"Netherlands\"],[\"Netherlands\"],[\"Netherlands\"],[\"Netherlands\"],[\"Netherlands\"],[\"Netherlands\"],[\"Netherlands\"],[\"Netherlands\"],[\"Netherlands\"]],\"hovertemplate\":\"\\u003cb\\u003eNetherlands\\u003c\\u002fb\\u003e\\u003cbr\\u003eYear: %{x:d} \\u003c\\u002fbr\\u003eSalary gap: %{y:d}%\\u003cextra\\u003e\\u003c\\u002fextra\\u003e\",\"hovertext\":[\"Netherlands\",\"Netherlands\",\"Netherlands\",\"Netherlands\",\"Netherlands\",\"Netherlands\",\"Netherlands\",\"Netherlands\",\"Netherlands\"],\"legendgroup\":\"Netherlands (1\\u002f18)\",\"line\":{\"color\":\"rgba(207, 150, 150, 0.7)\",\"dash\":\"solid\"},\"marker\":{\"symbol\":\"circle\"},\"mode\":\"lines\",\"name\":\"Netherlands (1\\u002f18)\",\"orientation\":\"v\",\"showlegend\":true,\"x\":[2014,2015,2016,2017,2018,2019,2020,2021,2022],\"xaxis\":\"x\",\"y\":[25.085518814139114,31.46974063400576,7.534315198877866,18.557285885671295,7.697670998619133,24.351013348241196,25.638567835758362,21.95803662005263,24.446754744578044],\"yaxis\":\"y\",\"type\":\"scatter\"},{\"customdata\":[[\"Poland\"],[\"Poland\"],[\"Poland\"],[\"Poland\"],[\"Poland\"],[\"Poland\"],[\"Poland\"],[\"Poland\"],[\"Poland\"]],\"hovertemplate\":\"\\u003cb\\u003ePoland\\u003c\\u002fb\\u003e\\u003cbr\\u003eYear: %{x:d} \\u003c\\u002fbr\\u003eSalary gap: %{y:d}%\\u003cextra\\u003e\\u003c\\u002fextra\\u003e\",\"hovertext\":[\"Poland\",\"Poland\",\"Poland\",\"Poland\",\"Poland\",\"Poland\",\"Poland\",\"Poland\",\"Poland\"],\"legendgroup\":\"Poland (1\\u002f23)\",\"line\":{\"color\":\"rgba(167, 199, 213, 0.7)\",\"dash\":\"solid\"},\"marker\":{\"symbol\":\"circle\"},\"mode\":\"lines\",\"name\":\"Poland (1\\u002f23)\",\"orientation\":\"v\",\"showlegend\":true,\"x\":[2014,2015,2016,2017,2018,2019,2020,2021,2022],\"xaxis\":\"x\",\"y\":[46.74556213017752,19.39188842742142,41.706238445644686,24.28023445247764,17.116379714997787,30.028013673046893,29.535810906688496,37.963002498039,15.699992264397148],\"yaxis\":\"y\",\"type\":\"scatter\"},{\"customdata\":[[\"Spain\"],[\"Spain\"],[\"Spain\"],[\"Spain\"],[\"Spain\"],[\"Spain\"],[\"Spain\"],[\"Spain\"],[\"Spain\"]],\"hovertemplate\":\"\\u003cb\\u003eSpain\\u003c\\u002fb\\u003e\\u003cbr\\u003eYear: %{x:d} \\u003c\\u002fbr\\u003eSalary gap: %{y:d}%\\u003cextra\\u003e\\u003c\\u002fextra\\u003e\",\"hovertext\":[\"Spain\",\"Spain\",\"Spain\",\"Spain\",\"Spain\",\"Spain\",\"Spain\",\"Spain\",\"Spain\"],\"legendgroup\":\"Spain (1\\u002f20)\",\"line\":{\"color\":\"rgba(233, 119, 186, 0.7)\",\"dash\":\"solid\"},\"marker\":{\"symbol\":\"circle\"},\"mode\":\"lines\",\"name\":\"Spain (1\\u002f20)\",\"orientation\":\"v\",\"showlegend\":true,\"x\":[2014,2015,2016,2017,2018,2019,2020,2021,2022],\"xaxis\":\"x\",\"y\":[44.14335664335665,23.212913143735584,23.176770663464925,17.95583662967833,3.768188100999248,7.391530148720444,16.146529667041424,24.130084301297437,11.562852895062193],\"yaxis\":\"y\",\"type\":\"scatter\"},{\"customdata\":[[\"United Kingdom\"],[\"United Kingdom\"],[\"United Kingdom\"],[\"United Kingdom\"],[\"United Kingdom\"],[\"United Kingdom\"],[\"United Kingdom\"],[\"United Kingdom\"],[\"United Kingdom\"]],\"hovertemplate\":\"\\u003cb\\u003eUnited Kingdom\\u003c\\u002fb\\u003e\\u003cbr\\u003eYear: %{x:d} \\u003c\\u002fbr\\u003eSalary gap: %{y:d}%\\u003cextra\\u003e\\u003c\\u002fextra\\u003e\",\"hovertext\":[\"United Kingdom\",\"United Kingdom\",\"United Kingdom\",\"United Kingdom\",\"United Kingdom\",\"United Kingdom\",\"United Kingdom\",\"United Kingdom\",\"United Kingdom\"],\"legendgroup\":\"United Kingdom (1\\u002f15)\",\"line\":{\"color\":\"rgba(154, 162, 221, 0.7)\",\"dash\":\"solid\"},\"marker\":{\"symbol\":\"circle\"},\"mode\":\"lines\",\"name\":\"United Kingdom (1\\u002f15)\",\"orientation\":\"v\",\"showlegend\":true,\"x\":[2014,2015,2016,2017,2018,2019,2020,2021,2022],\"xaxis\":\"x\",\"y\":[35.41706191108582,28.0578596813942,20.149750638986813,13.37883023775702,22.271963665903343,15.273830205321865,13.50978981889189,21.27902087215123,15.479095317701507],\"yaxis\":\"y\",\"type\":\"scatter\"},{\"customdata\":[[\"United States\"],[\"United States\"],[\"United States\"],[\"United States\"],[\"United States\"],[\"United States\"],[\"United States\"],[\"United States\"],[\"United States\"]],\"hovertemplate\":\"\\u003cb\\u003eUnited States\\u003c\\u002fb\\u003e\\u003cbr\\u003eYear: %{x:d} \\u003c\\u002fbr\\u003eSalary gap: %{y:d}%\\u003cextra\\u003e\\u003c\\u002fextra\\u003e\",\"hovertext\":[\"United States\",\"United States\",\"United States\",\"United States\",\"United States\",\"United States\",\"United States\",\"United States\",\"United States\"],\"legendgroup\":\"United States (1\\u002f10)\",\"line\":{\"color\":\"rgba(154, 221, 209, 0.7)\",\"dash\":\"solid\"},\"marker\":{\"symbol\":\"circle\"},\"mode\":\"lines\",\"name\":\"United States (1\\u002f10)\",\"orientation\":\"v\",\"showlegend\":true,\"x\":[2014,2015,2016,2017,2018,2019,2020,2021,2022],\"xaxis\":\"x\",\"y\":[8.470369028419235,12.950463106815363,12.46431731038739,6.79814385362892,12.793368561409627,9.610040157299819,8.862034489716603,11.70640021451836,7.548858316473223],\"yaxis\":\"y\",\"type\":\"scatter\"},{\"hovertemplate\":\"\\u003cb\\u003e\\u003c\\u002fb\\u003e\\u003cbr\\u003eYear: %{x:d} \\u003c\\u002fbr\\u003eMean salary gap: %{y:d}%\\u003cextra\\u003e\\u003c\\u002fextra\\u003e\",\"legendgroup\":\"\",\"line\":{\"color\":\"#636efa\",\"dash\":\"solid\"},\"marker\":{\"symbol\":\"circle\"},\"mode\":\"lines+markers\",\"name\":\"\",\"orientation\":\"v\",\"showlegend\":false,\"x\":[2014,2015,2016,2017,2018,2019,2020,2021,2022],\"xaxis\":\"x\",\"y\":[25.064999597815426,23.64981410603172,18.958622759699892,14.428016874931577,14.927359459639765,16.5857759056526,18.86615402084194,21.31456346610976,16.11303761305048],\"yaxis\":\"y\",\"type\":\"scatter\"}],                        {\"template\":{\"data\":{\"histogram2dcontour\":[{\"type\":\"histogram2dcontour\",\"colorbar\":{\"outlinewidth\":0,\"ticks\":\"\"},\"colorscale\":[[0.0,\"#0d0887\"],[0.1111111111111111,\"#46039f\"],[0.2222222222222222,\"#7201a8\"],[0.3333333333333333,\"#9c179e\"],[0.4444444444444444,\"#bd3786\"],[0.5555555555555556,\"#d8576b\"],[0.6666666666666666,\"#ed7953\"],[0.7777777777777778,\"#fb9f3a\"],[0.8888888888888888,\"#fdca26\"],[1.0,\"#f0f921\"]]}],\"choropleth\":[{\"type\":\"choropleth\",\"colorbar\":{\"outlinewidth\":0,\"ticks\":\"\"}}],\"histogram2d\":[{\"type\":\"histogram2d\",\"colorbar\":{\"outlinewidth\":0,\"ticks\":\"\"},\"colorscale\":[[0.0,\"#0d0887\"],[0.1111111111111111,\"#46039f\"],[0.2222222222222222,\"#7201a8\"],[0.3333333333333333,\"#9c179e\"],[0.4444444444444444,\"#bd3786\"],[0.5555555555555556,\"#d8576b\"],[0.6666666666666666,\"#ed7953\"],[0.7777777777777778,\"#fb9f3a\"],[0.8888888888888888,\"#fdca26\"],[1.0,\"#f0f921\"]]}],\"heatmap\":[{\"type\":\"heatmap\",\"colorbar\":{\"outlinewidth\":0,\"ticks\":\"\"},\"colorscale\":[[0.0,\"#0d0887\"],[0.1111111111111111,\"#46039f\"],[0.2222222222222222,\"#7201a8\"],[0.3333333333333333,\"#9c179e\"],[0.4444444444444444,\"#bd3786\"],[0.5555555555555556,\"#d8576b\"],[0.6666666666666666,\"#ed7953\"],[0.7777777777777778,\"#fb9f3a\"],[0.8888888888888888,\"#fdca26\"],[1.0,\"#f0f921\"]]}],\"heatmapgl\":[{\"type\":\"heatmapgl\",\"colorbar\":{\"outlinewidth\":0,\"ticks\":\"\"},\"colorscale\":[[0.0,\"#0d0887\"],[0.1111111111111111,\"#46039f\"],[0.2222222222222222,\"#7201a8\"],[0.3333333333333333,\"#9c179e\"],[0.4444444444444444,\"#bd3786\"],[0.5555555555555556,\"#d8576b\"],[0.6666666666666666,\"#ed7953\"],[0.7777777777777778,\"#fb9f3a\"],[0.8888888888888888,\"#fdca26\"],[1.0,\"#f0f921\"]]}],\"contourcarpet\":[{\"type\":\"contourcarpet\",\"colorbar\":{\"outlinewidth\":0,\"ticks\":\"\"}}],\"contour\":[{\"type\":\"contour\",\"colorbar\":{\"outlinewidth\":0,\"ticks\":\"\"},\"colorscale\":[[0.0,\"#0d0887\"],[0.1111111111111111,\"#46039f\"],[0.2222222222222222,\"#7201a8\"],[0.3333333333333333,\"#9c179e\"],[0.4444444444444444,\"#bd3786\"],[0.5555555555555556,\"#d8576b\"],[0.6666666666666666,\"#ed7953\"],[0.7777777777777778,\"#fb9f3a\"],[0.8888888888888888,\"#fdca26\"],[1.0,\"#f0f921\"]]}],\"surface\":[{\"type\":\"surface\",\"colorbar\":{\"outlinewidth\":0,\"ticks\":\"\"},\"colorscale\":[[0.0,\"#0d0887\"],[0.1111111111111111,\"#46039f\"],[0.2222222222222222,\"#7201a8\"],[0.3333333333333333,\"#9c179e\"],[0.4444444444444444,\"#bd3786\"],[0.5555555555555556,\"#d8576b\"],[0.6666666666666666,\"#ed7953\"],[0.7777777777777778,\"#fb9f3a\"],[0.8888888888888888,\"#fdca26\"],[1.0,\"#f0f921\"]]}],\"mesh3d\":[{\"type\":\"mesh3d\",\"colorbar\":{\"outlinewidth\":0,\"ticks\":\"\"}}],\"scatter\":[{\"fillpattern\":{\"fillmode\":\"overlay\",\"size\":10,\"solidity\":0.2},\"type\":\"scatter\"}],\"parcoords\":[{\"type\":\"parcoords\",\"line\":{\"colorbar\":{\"outlinewidth\":0,\"ticks\":\"\"}}}],\"scatterpolargl\":[{\"type\":\"scatterpolargl\",\"marker\":{\"colorbar\":{\"outlinewidth\":0,\"ticks\":\"\"}}}],\"bar\":[{\"error_x\":{\"color\":\"#2a3f5f\"},\"error_y\":{\"color\":\"#2a3f5f\"},\"marker\":{\"line\":{\"color\":\"#E5ECF6\",\"width\":0.5},\"pattern\":{\"fillmode\":\"overlay\",\"size\":10,\"solidity\":0.2}},\"type\":\"bar\"}],\"scattergeo\":[{\"type\":\"scattergeo\",\"marker\":{\"colorbar\":{\"outlinewidth\":0,\"ticks\":\"\"}}}],\"scatterpolar\":[{\"type\":\"scatterpolar\",\"marker\":{\"colorbar\":{\"outlinewidth\":0,\"ticks\":\"\"}}}],\"histogram\":[{\"marker\":{\"pattern\":{\"fillmode\":\"overlay\",\"size\":10,\"solidity\":0.2}},\"type\":\"histogram\"}],\"scattergl\":[{\"type\":\"scattergl\",\"marker\":{\"colorbar\":{\"outlinewidth\":0,\"ticks\":\"\"}}}],\"scatter3d\":[{\"type\":\"scatter3d\",\"line\":{\"colorbar\":{\"outlinewidth\":0,\"ticks\":\"\"}},\"marker\":{\"colorbar\":{\"outlinewidth\":0,\"ticks\":\"\"}}}],\"scattermapbox\":[{\"type\":\"scattermapbox\",\"marker\":{\"colorbar\":{\"outlinewidth\":0,\"ticks\":\"\"}}}],\"scatterternary\":[{\"type\":\"scatterternary\",\"marker\":{\"colorbar\":{\"outlinewidth\":0,\"ticks\":\"\"}}}],\"scattercarpet\":[{\"type\":\"scattercarpet\",\"marker\":{\"colorbar\":{\"outlinewidth\":0,\"ticks\":\"\"}}}],\"carpet\":[{\"aaxis\":{\"endlinecolor\":\"#2a3f5f\",\"gridcolor\":\"white\",\"linecolor\":\"white\",\"minorgridcolor\":\"white\",\"startlinecolor\":\"#2a3f5f\"},\"baxis\":{\"endlinecolor\":\"#2a3f5f\",\"gridcolor\":\"white\",\"linecolor\":\"white\",\"minorgridcolor\":\"white\",\"startlinecolor\":\"#2a3f5f\"},\"type\":\"carpet\"}],\"table\":[{\"cells\":{\"fill\":{\"color\":\"#EBF0F8\"},\"line\":{\"color\":\"white\"}},\"header\":{\"fill\":{\"color\":\"#C8D4E3\"},\"line\":{\"color\":\"white\"}},\"type\":\"table\"}],\"barpolar\":[{\"marker\":{\"line\":{\"color\":\"#E5ECF6\",\"width\":0.5},\"pattern\":{\"fillmode\":\"overlay\",\"size\":10,\"solidity\":0.2}},\"type\":\"barpolar\"}],\"pie\":[{\"automargin\":true,\"type\":\"pie\"}]},\"layout\":{\"autotypenumbers\":\"strict\",\"colorway\":[\"#636efa\",\"#EF553B\",\"#00cc96\",\"#ab63fa\",\"#FFA15A\",\"#19d3f3\",\"#FF6692\",\"#B6E880\",\"#FF97FF\",\"#FECB52\"],\"font\":{\"color\":\"#2a3f5f\"},\"hovermode\":\"closest\",\"hoverlabel\":{\"align\":\"left\"},\"paper_bgcolor\":\"white\",\"plot_bgcolor\":\"#E5ECF6\",\"polar\":{\"bgcolor\":\"#E5ECF6\",\"angularaxis\":{\"gridcolor\":\"white\",\"linecolor\":\"white\",\"ticks\":\"\"},\"radialaxis\":{\"gridcolor\":\"white\",\"linecolor\":\"white\",\"ticks\":\"\"}},\"ternary\":{\"bgcolor\":\"#E5ECF6\",\"aaxis\":{\"gridcolor\":\"white\",\"linecolor\":\"white\",\"ticks\":\"\"},\"baxis\":{\"gridcolor\":\"white\",\"linecolor\":\"white\",\"ticks\":\"\"},\"caxis\":{\"gridcolor\":\"white\",\"linecolor\":\"white\",\"ticks\":\"\"}},\"coloraxis\":{\"colorbar\":{\"outlinewidth\":0,\"ticks\":\"\"}},\"colorscale\":{\"sequential\":[[0.0,\"#0d0887\"],[0.1111111111111111,\"#46039f\"],[0.2222222222222222,\"#7201a8\"],[0.3333333333333333,\"#9c179e\"],[0.4444444444444444,\"#bd3786\"],[0.5555555555555556,\"#d8576b\"],[0.6666666666666666,\"#ed7953\"],[0.7777777777777778,\"#fb9f3a\"],[0.8888888888888888,\"#fdca26\"],[1.0,\"#f0f921\"]],\"sequentialminus\":[[0.0,\"#0d0887\"],[0.1111111111111111,\"#46039f\"],[0.2222222222222222,\"#7201a8\"],[0.3333333333333333,\"#9c179e\"],[0.4444444444444444,\"#bd3786\"],[0.5555555555555556,\"#d8576b\"],[0.6666666666666666,\"#ed7953\"],[0.7777777777777778,\"#fb9f3a\"],[0.8888888888888888,\"#fdca26\"],[1.0,\"#f0f921\"]],\"diverging\":[[0,\"#8e0152\"],[0.1,\"#c51b7d\"],[0.2,\"#de77ae\"],[0.3,\"#f1b6da\"],[0.4,\"#fde0ef\"],[0.5,\"#f7f7f7\"],[0.6,\"#e6f5d0\"],[0.7,\"#b8e186\"],[0.8,\"#7fbc41\"],[0.9,\"#4d9221\"],[1,\"#276419\"]]},\"xaxis\":{\"gridcolor\":\"white\",\"linecolor\":\"white\",\"ticks\":\"\",\"title\":{\"standoff\":15},\"zerolinecolor\":\"white\",\"automargin\":true,\"zerolinewidth\":2},\"yaxis\":{\"gridcolor\":\"white\",\"linecolor\":\"white\",\"ticks\":\"\",\"title\":{\"standoff\":15},\"zerolinecolor\":\"white\",\"automargin\":true,\"zerolinewidth\":2},\"scene\":{\"xaxis\":{\"backgroundcolor\":\"#E5ECF6\",\"gridcolor\":\"white\",\"linecolor\":\"white\",\"showbackground\":true,\"ticks\":\"\",\"zerolinecolor\":\"white\",\"gridwidth\":2},\"yaxis\":{\"backgroundcolor\":\"#E5ECF6\",\"gridcolor\":\"white\",\"linecolor\":\"white\",\"showbackground\":true,\"ticks\":\"\",\"zerolinecolor\":\"white\",\"gridwidth\":2},\"zaxis\":{\"backgroundcolor\":\"#E5ECF6\",\"gridcolor\":\"white\",\"linecolor\":\"white\",\"showbackground\":true,\"ticks\":\"\",\"zerolinecolor\":\"white\",\"gridwidth\":2}},\"shapedefaults\":{\"line\":{\"color\":\"#2a3f5f\"}},\"annotationdefaults\":{\"arrowcolor\":\"#2a3f5f\",\"arrowhead\":0,\"arrowwidth\":1},\"geo\":{\"bgcolor\":\"white\",\"landcolor\":\"#E5ECF6\",\"subunitcolor\":\"white\",\"showland\":true,\"showlakes\":true,\"lakecolor\":\"white\"},\"title\":{\"x\":0.05},\"mapbox\":{\"style\":\"light\"}}},\"xaxis\":{\"anchor\":\"y\",\"domain\":[0.0,1.0],\"title\":{\"text\":\"Year\"}},\"yaxis\":{\"anchor\":\"x\",\"domain\":[0.0,1.0],\"title\":{\"text\":\"Salary gap in percentage\"},\"range\":[0,48]},\"legend\":{\"title\":{\"text\":\"Country with\\u003cbr\\u003efemale\\u002fmale ratio\\u003cbr\\u003e\"},\"tracegroupgap\":0},\"title\":{\"text\":\"Top-10 Country Salary Gap Between Men and Women\\u003cbr\\u003e\\u003csup\\u003eGenerally decreasing, but still male-favoured\\u003c\\u002fsup\\u003e\"},\"width\":790,\"annotations\":[{\"showarrow\":false,\"text\":\"mean salary gap\",\"textangle\":-16,\"x\":2019.7,\"xanchor\":\"center\",\"y\":17.75,\"yanchor\":\"bottom\"},{\"align\":\"left\",\"showarrow\":false,\"text\":\"Salary gaps across ten of the countries with the most survey respondents.\\u003cbr\\u003ePositive percentages indicates a male-favoured salary gap.\",\"x\":-0.11,\"xanchor\":\"left\",\"xref\":\"paper\",\"y\":-0.35,\"yanchor\":\"bottom\",\"yref\":\"paper\"}],\"margin\":{\"b\":130,\"t\":100,\"l\":90}},                        {\"responsive\": true}                    ).then(function(){\n                            \nvar gd = document.getElementById('5e7b3f56-265d-4147-8194-1611173f90fd');\nvar x = new MutationObserver(function (mutations, observer) {{\n        var display = window.getComputedStyle(gd).display;\n        if (!display || display === 'none') {{\n            console.log([gd, 'removed!']);\n            Plotly.purge(gd);\n            observer.disconnect();\n        }}\n}});\n\n// Listen for the removal of the full notebook cells\nvar notebookContainer = gd.closest('#notebook-container');\nif (notebookContainer) {{\n    x.observe(notebookContainer, {childList: true});\n}}\n\n// Listen for the clearing of the current output cell\nvar outputEl = gd.closest('.output');\nif (outputEl) {{\n    x.observe(outputEl, {childList: true});\n}}\n\n                        })                };                });            </script>        </div>"
     },
     "metadata": {},
     "output_type": "display_data"
    }
   ],
   "source": [
    "color_alpha = 0.7\n",
    "\n",
    "fig = px.line(\n",
    "    salary_gap_df,\n",
    "    x='Year',\n",
    "    y='SalaryGapPercent',\n",
    "    color='Country',\n",
    "    hover_name='Country',\n",
    "    title='Top-10 Country Salary Gap Between Men and Women<br><sup>Generally decreasing, but still male-favoured</sup>',\n",
    "    custom_data=['Country'],\n",
    "    color_discrete_sequence=[\n",
    "        f'rgba(233, 146, 119, {color_alpha})',\n",
    "        f'rgba(148, 233, 119, {color_alpha})',\n",
    "        f'rgba(119, 127, 233, {color_alpha})',\n",
    "        f'rgba(218, 119, 233, {color_alpha})',\n",
    "        f'rgba(218, 191, 162, {color_alpha})',\n",
    "        f'rgba(207, 150, 150, {color_alpha})',\n",
    "        f'rgba(167, 199, 213, {color_alpha})',\n",
    "        f'rgba(233, 119, 186, {color_alpha})',\n",
    "        f'rgba(154, 162, 221, {color_alpha})',\n",
    "        f'rgba(154, 221, 209, {color_alpha})',\n",
    "    ],\n",
    "    range_y=[0, 48],\n",
    "    width=790,\n",
    ")\n",
    "\n",
    "fig.update_layout(yaxis_title='Salary gap in percentage')\n",
    "\n",
    "# Add male/female ratio in the legend names\n",
    "total_male_participants_per_country_df = countries_df.query('Gender == \"male\"') \\\n",
    "    .groupby('Country', as_index=False) \\\n",
    "    .size() \\\n",
    "    .rename(columns={'size': 'TotalMale'})\n",
    "\n",
    "total_female_participants_per_country_df = countries_df.query('Gender == \"female\"') \\\n",
    "    .groupby('Country', as_index=False) \\\n",
    "    .size() \\\n",
    "    .rename(columns={'size': 'TotalFemale'})\n",
    "\n",
    "total_participants_per_country_df = pd.merge(total_male_participants_per_country_df, total_female_participants_per_country_df)\n",
    "total_participants_per_country_df['MaleRatioPerFemale'] = total_participants_per_country_df['TotalMale'] / total_participants_per_country_df['TotalFemale']\n",
    "\n",
    "# Add female/male ratio for each legend name.\n",
    "\n",
    "# Example: {'oldname': 'newname'}\n",
    "legend_names = {}\n",
    "for _, row in total_participants_per_country_df.iterrows():\n",
    "    legend_names[row['Country']] = f\"{row['Country']} (1/{int(row['MaleRatioPerFemale'])})\"\n",
    "\n",
    "fig.for_each_trace(lambda t: t.update(name=legend_names[t.name], \n",
    "                                      legendgroup=legend_names[t.name],\n",
    "                                      hovertemplate='<b>' + t.name + '</b><br>Year: %{x:d} </br>Salary gap: %{y:d}%<extra></extra>'))\n",
    "\n",
    "# Plot the mean salary scatters\n",
    "mean_salary_line_fig = px.line(mean_salary_gap,\n",
    "                               x='Year',\n",
    "                               y='SalaryGapPercent',\n",
    "                               markers=True)\n",
    "for trace in mean_salary_line_fig.data:\n",
    "    trace.hovertemplate = '<b>' + trace.name + '</b><br>Year: %{x:d} </br>Mean salary gap: %{y:d}%<extra></extra>'\n",
    "\n",
    "fig.add_traces(list(mean_salary_line_fig.select_traces()))\n",
    "fig.add_annotation(x=2019.7, y=17.75,\n",
    "                   showarrow=False,\n",
    "                   xanchor='center',\n",
    "                   yanchor='bottom',\n",
    "                   textangle=-16,\n",
    "                   text='mean salary gap')\n",
    "\n",
    "# Add caption\n",
    "fig.add_annotation(x=-0.11, y=-0.35,\n",
    "                   xref='paper', yref='paper',\n",
    "                   showarrow=False,\n",
    "                   xanchor='left', yanchor='bottom',\n",
    "                   align='left',\n",
    "                   text='Salary gaps across ten of the countries with the most survey respondents.<br>Positive percentages indicates a male-favoured salary gap.')\n",
    "\n",
    "fig.update_layout(\n",
    "    legend={\n",
    "        'title': 'Country with<br>female/male ratio<br>'\n",
    "    },\n",
    "    margin={'b': 130, 't': 100, 'l': 90}\n",
    ")\n",
    "\n",
    "fig.show()"
   ]
  }
 ],
 "metadata": {
  "kernelspec": {
   "display_name": "Python 3 (ipykernel)",
   "language": "python",
   "name": "python3"
  },
  "language_info": {
   "codemirror_mode": {
    "name": "ipython",
    "version": 3
   },
   "file_extension": ".py",
   "mimetype": "text/x-python",
   "name": "python",
   "nbconvert_exporter": "python",
   "pygments_lexer": "ipython3",
   "version": "3.10.6"
  }
 },
 "nbformat": 4,
 "nbformat_minor": 2
}
