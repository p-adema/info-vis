{
 "cells": [
  {
   "cell_type": "code",
   "execution_count": 1,
   "metadata": {},
   "outputs": [],
   "source": [
    "%run set_theme.ipynb"
   ]
  },
  {
   "cell_type": "code",
   "execution_count": 2,
   "metadata": {},
   "outputs": [
    {
     "data": {
      "text/html": [
       "        <script type=\"text/javascript\">\n",
       "        window.PlotlyConfig = {MathJaxConfig: 'local'};\n",
       "        if (window.MathJax && window.MathJax.Hub && window.MathJax.Hub.Config) {window.MathJax.Hub.Config({SVG: {font: \"STIX-Web\"}});}\n",
       "        if (typeof require !== 'undefined') {\n",
       "        require.undef(\"plotly\");\n",
       "        requirejs.config({\n",
       "            paths: {\n",
       "                'plotly': ['https://cdn.plot.ly/plotly-2.24.1.min']\n",
       "            }\n",
       "        });\n",
       "        require(['plotly'], function(Plotly) {\n",
       "            window._Plotly = Plotly;\n",
       "        });\n",
       "        }\n",
       "        </script>\n",
       "        "
      ]
     },
     "metadata": {},
     "output_type": "display_data"
    }
   ],
   "source": [
    "import pandas as pd\n",
    "import plotly.graph_objs as go\n",
    "import plotly.express as px\n",
    "from plotly.offline import init_notebook_mode\n",
    "init_notebook_mode(connected=True)"
   ]
  },
  {
   "cell_type": "code",
   "execution_count": 3,
   "metadata": {},
   "outputs": [
    {
     "data": {
      "text/html": [
       "<div>\n",
       "<style scoped>\n",
       "    .dataframe tbody tr th:only-of-type {\n",
       "        vertical-align: middle;\n",
       "    }\n",
       "\n",
       "    .dataframe tbody tr th {\n",
       "        vertical-align: top;\n",
       "    }\n",
       "\n",
       "    .dataframe thead th {\n",
       "        text-align: right;\n",
       "    }\n",
       "</style>\n",
       "<table border=\"1\" class=\"dataframe\">\n",
       "  <thead>\n",
       "    <tr style=\"text-align: right;\">\n",
       "      <th></th>\n",
       "      <th>Year</th>\n",
       "      <th>Salary</th>\n",
       "      <th>JobSat</th>\n",
       "      <th>YearsCode</th>\n",
       "      <th>YearsCodePro</th>\n",
       "      <th>Age</th>\n",
       "      <th>Education</th>\n",
       "      <th>OrgSize</th>\n",
       "      <th>LastNewJob</th>\n",
       "      <th>Employment</th>\n",
       "      <th>RespondentType</th>\n",
       "      <th>JobSeek</th>\n",
       "      <th>Gender</th>\n",
       "      <th>Student</th>\n",
       "      <th>Country</th>\n",
       "      <th>CodingActivities</th>\n",
       "      <th>DevType</th>\n",
       "      <th>LearnCodeFrom</th>\n",
       "      <th>LangPresent</th>\n",
       "    </tr>\n",
       "  </thead>\n",
       "  <tbody>\n",
       "    <tr>\n",
       "      <th>0</th>\n",
       "      <td>2022</td>\n",
       "      <td>69318.0</td>\n",
       "      <td>&lt;NA&gt;</td>\n",
       "      <td>10</td>\n",
       "      <td>5</td>\n",
       "      <td>25-34</td>\n",
       "      <td>master</td>\n",
       "      <td>500 to 999 employees</td>\n",
       "      <td>&lt;NA&gt;</td>\n",
       "      <td>fulltime</td>\n",
       "      <td>dev</td>\n",
       "      <td>&lt;NA&gt;</td>\n",
       "      <td>male</td>\n",
       "      <td>no</td>\n",
       "      <td>Germany</td>\n",
       "      <td>School or academic work</td>\n",
       "      <td>Data scientist or machine learning specialist;...</td>\n",
       "      <td>Books / Physical media;School (i.e., Universit...</td>\n",
       "      <td>C;C++;Java;JavaScript;MATLAB;Python;Scala;SQL;...</td>\n",
       "    </tr>\n",
       "    <tr>\n",
       "      <th>6</th>\n",
       "      <td>2022</td>\n",
       "      <td>27652.0</td>\n",
       "      <td>&lt;NA&gt;</td>\n",
       "      <td>18</td>\n",
       "      <td>10</td>\n",
       "      <td>25-34</td>\n",
       "      <td>bachelor</td>\n",
       "      <td>1,000 to 4,999 employees</td>\n",
       "      <td>&lt;NA&gt;</td>\n",
       "      <td>fulltime</td>\n",
       "      <td>dev</td>\n",
       "      <td>&lt;NA&gt;</td>\n",
       "      <td>male</td>\n",
       "      <td>no</td>\n",
       "      <td>Colombia</td>\n",
       "      <td>Hobby</td>\n",
       "      <td>Developer, full-stack;Developer, back-end</td>\n",
       "      <td>Books / Physical media;Other online resources ...</td>\n",
       "      <td>Bash/Shell/PowerShell;Elixir;HTML/CSS;JavaScri...</td>\n",
       "    </tr>\n",
       "    <tr>\n",
       "      <th>9</th>\n",
       "      <td>2022</td>\n",
       "      <td>15431.0</td>\n",
       "      <td>&lt;NA&gt;</td>\n",
       "      <td>5</td>\n",
       "      <td>5</td>\n",
       "      <td>25-34</td>\n",
       "      <td>bachelor</td>\n",
       "      <td>20 to 99 employees</td>\n",
       "      <td>&lt;NA&gt;</td>\n",
       "      <td>fulltime</td>\n",
       "      <td>dev</td>\n",
       "      <td>&lt;NA&gt;</td>\n",
       "      <td>male</td>\n",
       "      <td>no</td>\n",
       "      <td>Ghana</td>\n",
       "      <td>Freelance/contract work</td>\n",
       "      <td>Developer, back-end</td>\n",
       "      <td>On the job training;Coding Bootcamp</td>\n",
       "      <td>JavaScript;Ruby</td>\n",
       "    </tr>\n",
       "    <tr>\n",
       "      <th>13</th>\n",
       "      <td>2022</td>\n",
       "      <td>47352.0</td>\n",
       "      <td>&lt;NA&gt;</td>\n",
       "      <td>7</td>\n",
       "      <td>7</td>\n",
       "      <td>45-54</td>\n",
       "      <td>master</td>\n",
       "      <td>10 to 19 employees</td>\n",
       "      <td>&lt;NA&gt;</td>\n",
       "      <td>fulltime</td>\n",
       "      <td>non-dev</td>\n",
       "      <td>&lt;NA&gt;</td>\n",
       "      <td>male</td>\n",
       "      <td>no</td>\n",
       "      <td>Belgium</td>\n",
       "      <td>Hobby</td>\n",
       "      <td>Developer, back-end;Educator or academic;Datab...</td>\n",
       "      <td>Books / Physical media;On the job training;Col...</td>\n",
       "      <td>Delphi;SQL</td>\n",
       "    </tr>\n",
       "    <tr>\n",
       "      <th>22</th>\n",
       "      <td>2022</td>\n",
       "      <td>78084.0</td>\n",
       "      <td>&lt;NA&gt;</td>\n",
       "      <td>25</td>\n",
       "      <td>25</td>\n",
       "      <td>45-54</td>\n",
       "      <td>bachelor</td>\n",
       "      <td>500 to 999 employees</td>\n",
       "      <td>&lt;NA&gt;</td>\n",
       "      <td>fulltime</td>\n",
       "      <td>non-dev</td>\n",
       "      <td>&lt;NA&gt;</td>\n",
       "      <td>male</td>\n",
       "      <td>no</td>\n",
       "      <td>Canada</td>\n",
       "      <td>Hobby;Contribute to open-source projects</td>\n",
       "      <td>Engineer, site reliability;Security professional</td>\n",
       "      <td>Books / Physical media;Other online resources ...</td>\n",
       "      <td>Bash/Shell/PowerShell;C;JavaScript;Perl;PHP;Py...</td>\n",
       "    </tr>\n",
       "  </tbody>\n",
       "</table>\n",
       "</div>"
      ],
      "text/plain": [
       "    Year   Salary  JobSat  YearsCode  YearsCodePro    Age Education  \\\n",
       "0   2022  69318.0    <NA>         10             5  25-34    master   \n",
       "6   2022  27652.0    <NA>         18            10  25-34  bachelor   \n",
       "9   2022  15431.0    <NA>          5             5  25-34  bachelor   \n",
       "13  2022  47352.0    <NA>          7             7  45-54    master   \n",
       "22  2022  78084.0    <NA>         25            25  45-54  bachelor   \n",
       "\n",
       "                     OrgSize LastNewJob Employment RespondentType JobSeek  \\\n",
       "0       500 to 999 employees       <NA>   fulltime            dev    <NA>   \n",
       "6   1,000 to 4,999 employees       <NA>   fulltime            dev    <NA>   \n",
       "9         20 to 99 employees       <NA>   fulltime            dev    <NA>   \n",
       "13        10 to 19 employees       <NA>   fulltime        non-dev    <NA>   \n",
       "22      500 to 999 employees       <NA>   fulltime        non-dev    <NA>   \n",
       "\n",
       "   Gender Student   Country                          CodingActivities  \\\n",
       "0    male      no   Germany                   School or academic work   \n",
       "6    male      no  Colombia                                     Hobby   \n",
       "9    male      no     Ghana                   Freelance/contract work   \n",
       "13   male      no   Belgium                                     Hobby   \n",
       "22   male      no    Canada  Hobby;Contribute to open-source projects   \n",
       "\n",
       "                                              DevType  \\\n",
       "0   Data scientist or machine learning specialist;...   \n",
       "6           Developer, full-stack;Developer, back-end   \n",
       "9                                 Developer, back-end   \n",
       "13  Developer, back-end;Educator or academic;Datab...   \n",
       "22   Engineer, site reliability;Security professional   \n",
       "\n",
       "                                        LearnCodeFrom  \\\n",
       "0   Books / Physical media;School (i.e., Universit...   \n",
       "6   Books / Physical media;Other online resources ...   \n",
       "9                 On the job training;Coding Bootcamp   \n",
       "13  Books / Physical media;On the job training;Col...   \n",
       "22  Books / Physical media;Other online resources ...   \n",
       "\n",
       "                                          LangPresent  \n",
       "0   C;C++;Java;JavaScript;MATLAB;Python;Scala;SQL;...  \n",
       "6   Bash/Shell/PowerShell;Elixir;HTML/CSS;JavaScri...  \n",
       "9                                     JavaScript;Ruby  \n",
       "13                                         Delphi;SQL  \n",
       "22  Bash/Shell/PowerShell;C;JavaScript;Perl;PHP;Py...  "
      ]
     },
     "execution_count": 3,
     "metadata": {},
     "output_type": "execute_result"
    }
   ],
   "source": [
    "df = pd.read_parquet('../data/SO_2014_2022.pq')\n",
    "\n",
    "df = df[(df['Salary'] > 0) & (df['Salary'] < 250000)]\n",
    "\n",
    "df.head()"
   ]
  },
  {
   "cell_type": "code",
   "execution_count": 4,
   "metadata": {},
   "outputs": [
    {
     "data": {
      "text/html": [
       "<div>\n",
       "<style scoped>\n",
       "    .dataframe tbody tr th:only-of-type {\n",
       "        vertical-align: middle;\n",
       "    }\n",
       "\n",
       "    .dataframe tbody tr th {\n",
       "        vertical-align: top;\n",
       "    }\n",
       "\n",
       "    .dataframe thead th {\n",
       "        text-align: right;\n",
       "    }\n",
       "</style>\n",
       "<table border=\"1\" class=\"dataframe\">\n",
       "  <thead>\n",
       "    <tr style=\"text-align: right;\">\n",
       "      <th></th>\n",
       "      <th>Year</th>\n",
       "      <th>Country</th>\n",
       "      <th>SalaryMen</th>\n",
       "      <th>SalaryWomen</th>\n",
       "      <th>SalaryGap</th>\n",
       "      <th>SalaryGapPercent</th>\n",
       "    </tr>\n",
       "  </thead>\n",
       "  <tbody>\n",
       "    <tr>\n",
       "      <th>0</th>\n",
       "      <td>2014</td>\n",
       "      <td>Australia</td>\n",
       "      <td>81355.140187</td>\n",
       "      <td>70000.0</td>\n",
       "      <td>11355.140187</td>\n",
       "      <td>13.957496</td>\n",
       "    </tr>\n",
       "    <tr>\n",
       "      <th>1</th>\n",
       "      <td>2014</td>\n",
       "      <td>Canada</td>\n",
       "      <td>71124.260355</td>\n",
       "      <td>57692.307692</td>\n",
       "      <td>13431.952663</td>\n",
       "      <td>18.885191</td>\n",
       "    </tr>\n",
       "    <tr>\n",
       "      <th>2</th>\n",
       "      <td>2014</td>\n",
       "      <td>France</td>\n",
       "      <td>54724.409449</td>\n",
       "      <td>47000.0</td>\n",
       "      <td>7724.409449</td>\n",
       "      <td>14.115108</td>\n",
       "    </tr>\n",
       "    <tr>\n",
       "      <th>3</th>\n",
       "      <td>2014</td>\n",
       "      <td>Germany</td>\n",
       "      <td>61491.596639</td>\n",
       "      <td>50714.285714</td>\n",
       "      <td>10777.310924</td>\n",
       "      <td>17.526478</td>\n",
       "    </tr>\n",
       "    <tr>\n",
       "      <th>4</th>\n",
       "      <td>2014</td>\n",
       "      <td>Italy</td>\n",
       "      <td>33923.076923</td>\n",
       "      <td>25000.0</td>\n",
       "      <td>8923.076923</td>\n",
       "      <td>26.303855</td>\n",
       "    </tr>\n",
       "  </tbody>\n",
       "</table>\n",
       "</div>"
      ],
      "text/plain": [
       "   Year    Country     SalaryMen   SalaryWomen     SalaryGap  SalaryGapPercent\n",
       "0  2014  Australia  81355.140187       70000.0  11355.140187         13.957496\n",
       "1  2014     Canada  71124.260355  57692.307692  13431.952663         18.885191\n",
       "2  2014     France  54724.409449       47000.0   7724.409449         14.115108\n",
       "3  2014    Germany  61491.596639  50714.285714  10777.310924         17.526478\n",
       "4  2014      Italy  33923.076923       25000.0   8923.076923         26.303855"
      ]
     },
     "execution_count": 4,
     "metadata": {},
     "output_type": "execute_result"
    }
   ],
   "source": [
    "# Show the top-n countries in the plot.\n",
    "TOP_N_COUNTRIES = 10\n",
    "\n",
    "# Take the top-n countries that have the most developers.\n",
    "countries = df[['Country', 'RespondentType']] \\\n",
    "    .query('RespondentType == \"dev\"') \\\n",
    "    .query('Country != \"Brazil\"') \\\n",
    "    .query('Country != \"India\"') \\\n",
    "    .query('Country != \"Russia\"') \\\n",
    "    .query('Country != \"Sweden\"') \\\n",
    "    .groupby('Country', as_index=False) \\\n",
    "    .count() \\\n",
    "    .sort_values('RespondentType', ascending=False) \\\n",
    "    .head(TOP_N_COUNTRIES) \\\n",
    "    ['Country'] \\\n",
    "    .tolist()\n",
    "\n",
    "countries_df = df[df['Country'].isin(countries)]\n",
    "    \n",
    "# Calculate the salary gap in percentage.\n",
    "salary_men_df = countries_df.query('Gender == \"male\"') \\\n",
    "    .groupby(['Year', 'Country']) \\\n",
    "    .agg({'Salary': 'mean' }) \\\n",
    "    .reset_index() \\\n",
    "    .rename(columns={'Salary': 'SalaryMen'})\n",
    "\n",
    "salary_women_df = countries_df.query('Gender == \"female\"') \\\n",
    "    .groupby(['Year', 'Country']) \\\n",
    "    .agg({'Salary': 'mean' }) \\\n",
    "    .reset_index() \\\n",
    "    .rename(columns={'Salary': 'SalaryWomen'})\n",
    "\n",
    "salary_gap_df = pd.merge(salary_men_df, salary_women_df, on=['Year', 'Country']).dropna()\n",
    "salary_gap_df['SalaryGap'] = abs(salary_gap_df['SalaryMen'] - salary_gap_df['SalaryWomen'])\n",
    "salary_gap_df['SalaryGapPercent'] = (salary_gap_df['SalaryMen'] - salary_gap_df['SalaryWomen']) / salary_gap_df['SalaryMen'] * 100\n",
    "\n",
    "salary_gap_df.head()"
   ]
  },
  {
   "cell_type": "code",
   "execution_count": 5,
   "metadata": {},
   "outputs": [
    {
     "data": {
      "text/html": [
       "<div>\n",
       "<style scoped>\n",
       "    .dataframe tbody tr th:only-of-type {\n",
       "        vertical-align: middle;\n",
       "    }\n",
       "\n",
       "    .dataframe tbody tr th {\n",
       "        vertical-align: top;\n",
       "    }\n",
       "\n",
       "    .dataframe thead th {\n",
       "        text-align: right;\n",
       "    }\n",
       "</style>\n",
       "<table border=\"1\" class=\"dataframe\">\n",
       "  <thead>\n",
       "    <tr style=\"text-align: right;\">\n",
       "      <th></th>\n",
       "      <th>Year</th>\n",
       "      <th>SalaryGapPercent</th>\n",
       "    </tr>\n",
       "  </thead>\n",
       "  <tbody>\n",
       "    <tr>\n",
       "      <th>0</th>\n",
       "      <td>2014</td>\n",
       "      <td>25.065</td>\n",
       "    </tr>\n",
       "    <tr>\n",
       "      <th>1</th>\n",
       "      <td>2015</td>\n",
       "      <td>23.649814</td>\n",
       "    </tr>\n",
       "    <tr>\n",
       "      <th>2</th>\n",
       "      <td>2016</td>\n",
       "      <td>18.958623</td>\n",
       "    </tr>\n",
       "    <tr>\n",
       "      <th>3</th>\n",
       "      <td>2017</td>\n",
       "      <td>14.428017</td>\n",
       "    </tr>\n",
       "    <tr>\n",
       "      <th>4</th>\n",
       "      <td>2018</td>\n",
       "      <td>14.927359</td>\n",
       "    </tr>\n",
       "    <tr>\n",
       "      <th>5</th>\n",
       "      <td>2019</td>\n",
       "      <td>16.585776</td>\n",
       "    </tr>\n",
       "    <tr>\n",
       "      <th>6</th>\n",
       "      <td>2020</td>\n",
       "      <td>18.866154</td>\n",
       "    </tr>\n",
       "    <tr>\n",
       "      <th>7</th>\n",
       "      <td>2021</td>\n",
       "      <td>21.314563</td>\n",
       "    </tr>\n",
       "    <tr>\n",
       "      <th>8</th>\n",
       "      <td>2022</td>\n",
       "      <td>16.113038</td>\n",
       "    </tr>\n",
       "  </tbody>\n",
       "</table>\n",
       "</div>"
      ],
      "text/plain": [
       "   Year  SalaryGapPercent\n",
       "0  2014            25.065\n",
       "1  2015         23.649814\n",
       "2  2016         18.958623\n",
       "3  2017         14.428017\n",
       "4  2018         14.927359\n",
       "5  2019         16.585776\n",
       "6  2020         18.866154\n",
       "7  2021         21.314563\n",
       "8  2022         16.113038"
      ]
     },
     "execution_count": 5,
     "metadata": {},
     "output_type": "execute_result"
    }
   ],
   "source": [
    "# Calculate the mean salary gap for all countries for all genders.\n",
    "mean_salary_men_df = countries_df.query('Gender == \"male\"') \\\n",
    "    .groupby(['Year', 'Country']) \\\n",
    "    .agg({'Salary': 'mean' }) \\\n",
    "    .reset_index() \\\n",
    "    .rename(columns={'Salary': 'SalaryMen'})\n",
    "\n",
    "mean_salary_women_df = countries_df.query('Gender == \"female\"') \\\n",
    "    .groupby(['Year', 'Country']) \\\n",
    "    .agg({'Salary': 'mean' }) \\\n",
    "    .reset_index() \\\n",
    "    .rename(columns={'Salary': 'SalaryWomen'})\n",
    "\n",
    "mean_salary_gap_df = pd.merge(mean_salary_men_df, mean_salary_women_df, on=['Year', 'Country']).dropna()\n",
    "mean_salary_gap_df['SalaryGap'] = abs(mean_salary_gap_df['SalaryMen'] - mean_salary_gap_df['SalaryWomen'])\n",
    "mean_salary_gap_df['SalaryGapPercent'] = (mean_salary_gap_df['SalaryMen'] - mean_salary_gap_df['SalaryWomen']) / mean_salary_gap_df['SalaryMen'] * 100\n",
    "\n",
    "mean_salary_gap = mean_salary_gap_df.groupby('Year', as_index=False)['SalaryGapPercent'].mean()\n",
    "\n",
    "mean_salary_gap"
   ]
  },
  {
   "cell_type": "code",
   "execution_count": 11,
   "metadata": {},
   "outputs": [
    {
     "data": {
      "application/vnd.plotly.v1+json": {
       "config": {
        "plotlyServerURL": "https://plot.ly"
       },
       "data": [
        {
         "customdata": [
          [
           "Australia"
          ],
          [
           "Australia"
          ],
          [
           "Australia"
          ],
          [
           "Australia"
          ],
          [
           "Australia"
          ],
          [
           "Australia"
          ],
          [
           "Australia"
          ],
          [
           "Australia"
          ],
          [
           "Australia"
          ]
         ],
         "hovertemplate": "<b>Australia</b><br>Year: %{x:d} </br>Salary gap: %{y:d}%<extra></extra>",
         "hovertext": [
          "Australia",
          "Australia",
          "Australia",
          "Australia",
          "Australia",
          "Australia",
          "Australia",
          "Australia",
          "Australia"
         ],
         "legendgroup": "Australia (1/16)",
         "line": {
          "color": "rgba(233, 146, 119, 0.7)",
          "dash": "solid"
         },
         "marker": {
          "symbol": "circle"
         },
         "mode": "lines",
         "name": "Australia (1/16)",
         "orientation": "v",
         "showlegend": true,
         "type": "scatter",
         "x": [
          2014,
          2015,
          2016,
          2017,
          2018,
          2019,
          2020,
          2021,
          2022
         ],
         "xaxis": "x",
         "y": [
          13.957495692130959,
          21.210106382978726,
          7.232126778318023,
          15.640834960034688,
          19.570323320683958,
          17.284825622149576,
          15.08411922895953,
          23.36406322131421,
          17.127689490239973
         ],
         "yaxis": "y"
        },
        {
         "customdata": [
          [
           "Canada"
          ],
          [
           "Canada"
          ],
          [
           "Canada"
          ],
          [
           "Canada"
          ],
          [
           "Canada"
          ],
          [
           "Canada"
          ],
          [
           "Canada"
          ],
          [
           "Canada"
          ],
          [
           "Canada"
          ]
         ],
         "hovertemplate": "<b>Canada</b><br>Year: %{x:d} </br>Salary gap: %{y:d}%<extra></extra>",
         "hovertext": [
          "Canada",
          "Canada",
          "Canada",
          "Canada",
          "Canada",
          "Canada",
          "Canada",
          "Canada",
          "Canada"
         ],
         "legendgroup": "Canada (1/12)",
         "line": {
          "color": "rgba(148, 233, 119, 0.7)",
          "dash": "solid"
         },
         "marker": {
          "symbol": "circle"
         },
         "mode": "lines",
         "name": "Canada (1/12)",
         "orientation": "v",
         "showlegend": true,
         "type": "scatter",
         "x": [
          2014,
          2015,
          2016,
          2017,
          2018,
          2019,
          2020,
          2021,
          2022
         ],
         "xaxis": "x",
         "y": [
          18.885191347753743,
          32.29425939050319,
          20.756195513762364,
          16.15595687586354,
          12.696908631032294,
          13.095491332013529,
          12.4994837977156,
          10.094763151878297,
          11.836323249786686
         ],
         "yaxis": "y"
        },
        {
         "customdata": [
          [
           "France"
          ],
          [
           "France"
          ],
          [
           "France"
          ],
          [
           "France"
          ],
          [
           "France"
          ],
          [
           "France"
          ],
          [
           "France"
          ],
          [
           "France"
          ],
          [
           "France"
          ]
         ],
         "hovertemplate": "<b>France</b><br>Year: %{x:d} </br>Salary gap: %{y:d}%<extra></extra>",
         "hovertext": [
          "France",
          "France",
          "France",
          "France",
          "France",
          "France",
          "France",
          "France",
          "France"
         ],
         "legendgroup": "France (1/20)",
         "line": {
          "color": "rgba(119, 127, 233, 0.7)",
          "dash": "solid"
         },
         "marker": {
          "symbol": "circle"
         },
         "mode": "lines",
         "name": "France (1/20)",
         "orientation": "v",
         "showlegend": true,
         "type": "scatter",
         "x": [
          2014,
          2015,
          2016,
          2017,
          2018,
          2019,
          2020,
          2021,
          2022
         ],
         "xaxis": "x",
         "y": [
          14.11510791366907,
          6.56623735050597,
          17.36000747873235,
          13.873423424021706,
          11.039129258668973,
          10.589286024492385,
          17.250648520384058,
          25.460604728812104,
          24.602957919250937
         ],
         "yaxis": "y"
        },
        {
         "customdata": [
          [
           "Germany"
          ],
          [
           "Germany"
          ],
          [
           "Germany"
          ],
          [
           "Germany"
          ],
          [
           "Germany"
          ],
          [
           "Germany"
          ],
          [
           "Germany"
          ],
          [
           "Germany"
          ],
          [
           "Germany"
          ]
         ],
         "hovertemplate": "<b>Germany</b><br>Year: %{x:d} </br>Salary gap: %{y:d}%<extra></extra>",
         "hovertext": [
          "Germany",
          "Germany",
          "Germany",
          "Germany",
          "Germany",
          "Germany",
          "Germany",
          "Germany",
          "Germany"
         ],
         "legendgroup": "Germany (1/21)",
         "line": {
          "color": "rgba(218, 119, 233, 0.7)",
          "dash": "solid"
         },
         "marker": {
          "symbol": "circle"
         },
         "mode": "lines",
         "name": "Germany (1/21)",
         "orientation": "v",
         "showlegend": true,
         "type": "scatter",
         "x": [
          2014,
          2015,
          2016,
          2017,
          2018,
          2019,
          2020,
          2021,
          2022
         ],
         "xaxis": "x",
         "y": [
          17.526477622138707,
          18.035849413545215,
          21.29440898553722,
          3.756773894765065,
          9.044773268827615,
          14.656101885954351,
          18.597207868540067,
          16.344386829753514,
          13.87602329624176
         ],
         "yaxis": "y"
        },
        {
         "customdata": [
          [
           "Italy"
          ],
          [
           "Italy"
          ],
          [
           "Italy"
          ],
          [
           "Italy"
          ],
          [
           "Italy"
          ],
          [
           "Italy"
          ],
          [
           "Italy"
          ],
          [
           "Italy"
          ],
          [
           "Italy"
          ]
         ],
         "hovertemplate": "<b>Italy</b><br>Year: %{x:d} </br>Salary gap: %{y:d}%<extra></extra>",
         "hovertext": [
          "Italy",
          "Italy",
          "Italy",
          "Italy",
          "Italy",
          "Italy",
          "Italy",
          "Italy",
          "Italy"
         ],
         "legendgroup": "Italy (1/32)",
         "line": {
          "color": "rgba(218, 191, 162, 0.7)",
          "dash": "solid"
         },
         "marker": {
          "symbol": "circle"
         },
         "mode": "lines",
         "name": "Italy (1/32)",
         "orientation": "v",
         "showlegend": true,
         "type": "scatter",
         "x": [
          2014,
          2015,
          2016,
          2017,
          2018,
          2019,
          2020,
          2021,
          2022
         ],
         "xaxis": "x",
         "y": [
          26.303854875283445,
          43.30882352941176,
          17.9120965832873,
          13.88284853541758,
          33.27488907525568,
          23.577626659285933,
          31.537348074723347,
          20.845272223280816,
          18.949828636773333
         ],
         "yaxis": "y"
        },
        {
         "customdata": [
          [
           "Netherlands"
          ],
          [
           "Netherlands"
          ],
          [
           "Netherlands"
          ],
          [
           "Netherlands"
          ],
          [
           "Netherlands"
          ],
          [
           "Netherlands"
          ],
          [
           "Netherlands"
          ],
          [
           "Netherlands"
          ],
          [
           "Netherlands"
          ]
         ],
         "hovertemplate": "<b>Netherlands</b><br>Year: %{x:d} </br>Salary gap: %{y:d}%<extra></extra>",
         "hovertext": [
          "Netherlands",
          "Netherlands",
          "Netherlands",
          "Netherlands",
          "Netherlands",
          "Netherlands",
          "Netherlands",
          "Netherlands",
          "Netherlands"
         ],
         "legendgroup": "Netherlands (1/18)",
         "line": {
          "color": "rgba(207, 150, 150, 0.7)",
          "dash": "solid"
         },
         "marker": {
          "symbol": "circle"
         },
         "mode": "lines",
         "name": "Netherlands (1/18)",
         "orientation": "v",
         "showlegend": true,
         "type": "scatter",
         "x": [
          2014,
          2015,
          2016,
          2017,
          2018,
          2019,
          2020,
          2021,
          2022
         ],
         "xaxis": "x",
         "y": [
          25.085518814139114,
          31.46974063400576,
          7.534315198877866,
          18.557285885671295,
          7.697670998619133,
          24.351013348241196,
          25.638567835758362,
          21.95803662005263,
          24.446754744578044
         ],
         "yaxis": "y"
        },
        {
         "customdata": [
          [
           "Poland"
          ],
          [
           "Poland"
          ],
          [
           "Poland"
          ],
          [
           "Poland"
          ],
          [
           "Poland"
          ],
          [
           "Poland"
          ],
          [
           "Poland"
          ],
          [
           "Poland"
          ],
          [
           "Poland"
          ]
         ],
         "hovertemplate": "<b>Poland</b><br>Year: %{x:d} </br>Salary gap: %{y:d}%<extra></extra>",
         "hovertext": [
          "Poland",
          "Poland",
          "Poland",
          "Poland",
          "Poland",
          "Poland",
          "Poland",
          "Poland",
          "Poland"
         ],
         "legendgroup": "Poland (1/23)",
         "line": {
          "color": "rgba(167, 199, 213, 0.7)",
          "dash": "solid"
         },
         "marker": {
          "symbol": "circle"
         },
         "mode": "lines",
         "name": "Poland (1/23)",
         "orientation": "v",
         "showlegend": true,
         "type": "scatter",
         "x": [
          2014,
          2015,
          2016,
          2017,
          2018,
          2019,
          2020,
          2021,
          2022
         ],
         "xaxis": "x",
         "y": [
          46.74556213017752,
          19.39188842742142,
          41.706238445644686,
          24.28023445247764,
          17.116379714997787,
          30.028013673046893,
          29.535810906688496,
          37.963002498039,
          15.699992264397148
         ],
         "yaxis": "y"
        },
        {
         "customdata": [
          [
           "Spain"
          ],
          [
           "Spain"
          ],
          [
           "Spain"
          ],
          [
           "Spain"
          ],
          [
           "Spain"
          ],
          [
           "Spain"
          ],
          [
           "Spain"
          ],
          [
           "Spain"
          ],
          [
           "Spain"
          ]
         ],
         "hovertemplate": "<b>Spain</b><br>Year: %{x:d} </br>Salary gap: %{y:d}%<extra></extra>",
         "hovertext": [
          "Spain",
          "Spain",
          "Spain",
          "Spain",
          "Spain",
          "Spain",
          "Spain",
          "Spain",
          "Spain"
         ],
         "legendgroup": "Spain (1/20)",
         "line": {
          "color": "rgba(233, 119, 186, 0.7)",
          "dash": "solid"
         },
         "marker": {
          "symbol": "circle"
         },
         "mode": "lines",
         "name": "Spain (1/20)",
         "orientation": "v",
         "showlegend": true,
         "type": "scatter",
         "x": [
          2014,
          2015,
          2016,
          2017,
          2018,
          2019,
          2020,
          2021,
          2022
         ],
         "xaxis": "x",
         "y": [
          44.14335664335665,
          23.212913143735584,
          23.176770663464925,
          17.95583662967833,
          3.768188100999248,
          7.391530148720444,
          16.146529667041424,
          24.130084301297437,
          11.562852895062193
         ],
         "yaxis": "y"
        },
        {
         "customdata": [
          [
           "United Kingdom"
          ],
          [
           "United Kingdom"
          ],
          [
           "United Kingdom"
          ],
          [
           "United Kingdom"
          ],
          [
           "United Kingdom"
          ],
          [
           "United Kingdom"
          ],
          [
           "United Kingdom"
          ],
          [
           "United Kingdom"
          ],
          [
           "United Kingdom"
          ]
         ],
         "hovertemplate": "<b>United Kingdom</b><br>Year: %{x:d} </br>Salary gap: %{y:d}%<extra></extra>",
         "hovertext": [
          "United Kingdom",
          "United Kingdom",
          "United Kingdom",
          "United Kingdom",
          "United Kingdom",
          "United Kingdom",
          "United Kingdom",
          "United Kingdom",
          "United Kingdom"
         ],
         "legendgroup": "United Kingdom (1/15)",
         "line": {
          "color": "rgba(154, 162, 221, 0.7)",
          "dash": "solid"
         },
         "marker": {
          "symbol": "circle"
         },
         "mode": "lines",
         "name": "United Kingdom (1/15)",
         "orientation": "v",
         "showlegend": true,
         "type": "scatter",
         "x": [
          2014,
          2015,
          2016,
          2017,
          2018,
          2019,
          2020,
          2021,
          2022
         ],
         "xaxis": "x",
         "y": [
          35.41706191108582,
          28.0578596813942,
          20.149750638986813,
          13.37883023775702,
          22.271963665903343,
          15.273830205321865,
          13.50978981889189,
          21.27902087215123,
          15.479095317701507
         ],
         "yaxis": "y"
        },
        {
         "customdata": [
          [
           "United States"
          ],
          [
           "United States"
          ],
          [
           "United States"
          ],
          [
           "United States"
          ],
          [
           "United States"
          ],
          [
           "United States"
          ],
          [
           "United States"
          ],
          [
           "United States"
          ],
          [
           "United States"
          ]
         ],
         "hovertemplate": "<b>United States</b><br>Year: %{x:d} </br>Salary gap: %{y:d}%<extra></extra>",
         "hovertext": [
          "United States",
          "United States",
          "United States",
          "United States",
          "United States",
          "United States",
          "United States",
          "United States",
          "United States"
         ],
         "legendgroup": "United States (1/10)",
         "line": {
          "color": "rgba(154, 221, 209, 0.7)",
          "dash": "solid"
         },
         "marker": {
          "symbol": "circle"
         },
         "mode": "lines",
         "name": "United States (1/10)",
         "orientation": "v",
         "showlegend": true,
         "type": "scatter",
         "x": [
          2014,
          2015,
          2016,
          2017,
          2018,
          2019,
          2020,
          2021,
          2022
         ],
         "xaxis": "x",
         "y": [
          8.470369028419235,
          12.950463106815363,
          12.46431731038739,
          6.79814385362892,
          12.793368561409627,
          9.610040157299819,
          8.862034489716603,
          11.70640021451836,
          7.548858316473223
         ],
         "yaxis": "y"
        },
        {
         "hovertemplate": "<b></b><br>Year: %{x:d} </br>Mean salary gap: %{y:d}%<extra></extra>",
         "legendgroup": "",
         "line": {
          "color": "#343a42",
          "dash": "solid"
         },
         "marker": {
          "symbol": "circle"
         },
         "mode": "lines+markers",
         "name": "",
         "orientation": "v",
         "showlegend": false,
         "type": "scatter",
         "x": [
          2014,
          2015,
          2016,
          2017,
          2018,
          2019,
          2020,
          2021,
          2022
         ],
         "xaxis": "x",
         "y": [
          25.064999597815426,
          23.64981410603172,
          18.958622759699892,
          14.428016874931577,
          14.927359459639765,
          16.5857759056526,
          18.86615402084194,
          21.31456346610976,
          16.11303761305048
         ],
         "yaxis": "y"
        }
       ],
       "layout": {
        "annotations": [
         {
          "showarrow": false,
          "text": "mean salary gap",
          "textangle": -16,
          "x": 2019.7,
          "xanchor": "center",
          "y": 17.75,
          "yanchor": "bottom"
         },
         {
          "align": "left",
          "showarrow": false,
          "text": "The top-10 countries with most survey respondents being developer.<br>Percentages above zero indicates a male-favoured salary gap.",
          "x": -0.1,
          "xanchor": "left",
          "xref": "paper",
          "y": -0.35,
          "yanchor": "bottom",
          "yref": "paper"
         }
        ],
        "legend": {
         "title": {
          "text": "Country with female/male ratio"
         },
         "tracegroupgap": 0
        },
        "margin": {
         "b": 130
        },
        "template": {
         "data": {
          "bar": [
           {
            "error_x": {
             "color": "#2a3f5f"
            },
            "error_y": {
             "color": "#2a3f5f"
            },
            "marker": {
             "line": {
              "color": "#E5ECF6",
              "width": 0
             },
             "pattern": {
              "fillmode": "overlay",
              "size": 10,
              "solidity": 0.2
             }
            },
            "type": "bar"
           }
          ],
          "barpolar": [
           {
            "marker": {
             "line": {
              "color": "#E5ECF6",
              "width": 0.5
             },
             "pattern": {
              "fillmode": "overlay",
              "size": 10,
              "solidity": 0.2
             }
            },
            "type": "barpolar"
           }
          ],
          "carpet": [
           {
            "aaxis": {
             "endlinecolor": "#2a3f5f",
             "gridcolor": "white",
             "linecolor": "white",
             "minorgridcolor": "white",
             "startlinecolor": "#2a3f5f"
            },
            "baxis": {
             "endlinecolor": "#2a3f5f",
             "gridcolor": "white",
             "linecolor": "white",
             "minorgridcolor": "white",
             "startlinecolor": "#2a3f5f"
            },
            "type": "carpet"
           }
          ],
          "choropleth": [
           {
            "colorbar": {
             "outlinewidth": 0,
             "ticks": ""
            },
            "type": "choropleth"
           }
          ],
          "contour": [
           {
            "colorbar": {
             "outlinewidth": 0,
             "ticks": ""
            },
            "colorscale": [
             [
              0,
              "#0d0887"
             ],
             [
              0.1111111111111111,
              "#46039f"
             ],
             [
              0.2222222222222222,
              "#7201a8"
             ],
             [
              0.3333333333333333,
              "#9c179e"
             ],
             [
              0.4444444444444444,
              "#bd3786"
             ],
             [
              0.5555555555555556,
              "#d8576b"
             ],
             [
              0.6666666666666666,
              "#ed7953"
             ],
             [
              0.7777777777777778,
              "#fb9f3a"
             ],
             [
              0.8888888888888888,
              "#fdca26"
             ],
             [
              1,
              "#f0f921"
             ]
            ],
            "type": "contour"
           }
          ],
          "contourcarpet": [
           {
            "colorbar": {
             "outlinewidth": 0,
             "ticks": ""
            },
            "type": "contourcarpet"
           }
          ],
          "heatmap": [
           {
            "colorbar": {
             "outlinewidth": 0,
             "ticks": ""
            },
            "colorscale": [
             [
              0,
              "#0d0887"
             ],
             [
              0.1111111111111111,
              "#46039f"
             ],
             [
              0.2222222222222222,
              "#7201a8"
             ],
             [
              0.3333333333333333,
              "#9c179e"
             ],
             [
              0.4444444444444444,
              "#bd3786"
             ],
             [
              0.5555555555555556,
              "#d8576b"
             ],
             [
              0.6666666666666666,
              "#ed7953"
             ],
             [
              0.7777777777777778,
              "#fb9f3a"
             ],
             [
              0.8888888888888888,
              "#fdca26"
             ],
             [
              1,
              "#f0f921"
             ]
            ],
            "type": "heatmap"
           }
          ],
          "heatmapgl": [
           {
            "colorbar": {
             "outlinewidth": 0,
             "ticks": ""
            },
            "colorscale": [
             [
              0,
              "#0d0887"
             ],
             [
              0.1111111111111111,
              "#46039f"
             ],
             [
              0.2222222222222222,
              "#7201a8"
             ],
             [
              0.3333333333333333,
              "#9c179e"
             ],
             [
              0.4444444444444444,
              "#bd3786"
             ],
             [
              0.5555555555555556,
              "#d8576b"
             ],
             [
              0.6666666666666666,
              "#ed7953"
             ],
             [
              0.7777777777777778,
              "#fb9f3a"
             ],
             [
              0.8888888888888888,
              "#fdca26"
             ],
             [
              1,
              "#f0f921"
             ]
            ],
            "type": "heatmapgl"
           }
          ],
          "histogram": [
           {
            "marker": {
             "pattern": {
              "fillmode": "overlay",
              "size": 10,
              "solidity": 0.2
             }
            },
            "type": "histogram"
           }
          ],
          "histogram2d": [
           {
            "colorbar": {
             "outlinewidth": 0,
             "ticks": ""
            },
            "colorscale": [
             [
              0,
              "#0d0887"
             ],
             [
              0.1111111111111111,
              "#46039f"
             ],
             [
              0.2222222222222222,
              "#7201a8"
             ],
             [
              0.3333333333333333,
              "#9c179e"
             ],
             [
              0.4444444444444444,
              "#bd3786"
             ],
             [
              0.5555555555555556,
              "#d8576b"
             ],
             [
              0.6666666666666666,
              "#ed7953"
             ],
             [
              0.7777777777777778,
              "#fb9f3a"
             ],
             [
              0.8888888888888888,
              "#fdca26"
             ],
             [
              1,
              "#f0f921"
             ]
            ],
            "type": "histogram2d"
           }
          ],
          "histogram2dcontour": [
           {
            "colorbar": {
             "outlinewidth": 0,
             "ticks": ""
            },
            "colorscale": [
             [
              0,
              "#0d0887"
             ],
             [
              0.1111111111111111,
              "#46039f"
             ],
             [
              0.2222222222222222,
              "#7201a8"
             ],
             [
              0.3333333333333333,
              "#9c179e"
             ],
             [
              0.4444444444444444,
              "#bd3786"
             ],
             [
              0.5555555555555556,
              "#d8576b"
             ],
             [
              0.6666666666666666,
              "#ed7953"
             ],
             [
              0.7777777777777778,
              "#fb9f3a"
             ],
             [
              0.8888888888888888,
              "#fdca26"
             ],
             [
              1,
              "#f0f921"
             ]
            ],
            "type": "histogram2dcontour"
           }
          ],
          "mesh3d": [
           {
            "colorbar": {
             "outlinewidth": 0,
             "ticks": ""
            },
            "type": "mesh3d"
           }
          ],
          "parcoords": [
           {
            "line": {
             "colorbar": {
              "outlinewidth": 0,
              "ticks": ""
             }
            },
            "type": "parcoords"
           }
          ],
          "pie": [
           {
            "automargin": true,
            "type": "pie"
           }
          ],
          "scatter": [
           {
            "fillpattern": {
             "fillmode": "overlay",
             "size": 10,
             "solidity": 0.2
            },
            "type": "scatter"
           }
          ],
          "scatter3d": [
           {
            "line": {
             "colorbar": {
              "outlinewidth": 0,
              "ticks": ""
             }
            },
            "marker": {
             "colorbar": {
              "outlinewidth": 0,
              "ticks": ""
             }
            },
            "type": "scatter3d"
           }
          ],
          "scattercarpet": [
           {
            "marker": {
             "colorbar": {
              "outlinewidth": 0,
              "ticks": ""
             }
            },
            "type": "scattercarpet"
           }
          ],
          "scattergeo": [
           {
            "marker": {
             "colorbar": {
              "outlinewidth": 0,
              "ticks": ""
             }
            },
            "type": "scattergeo"
           }
          ],
          "scattergl": [
           {
            "marker": {
             "colorbar": {
              "outlinewidth": 0,
              "ticks": ""
             }
            },
            "type": "scattergl"
           }
          ],
          "scattermapbox": [
           {
            "marker": {
             "colorbar": {
              "outlinewidth": 0,
              "ticks": ""
             }
            },
            "type": "scattermapbox"
           }
          ],
          "scatterpolar": [
           {
            "marker": {
             "colorbar": {
              "outlinewidth": 0,
              "ticks": ""
             }
            },
            "type": "scatterpolar"
           }
          ],
          "scatterpolargl": [
           {
            "marker": {
             "colorbar": {
              "outlinewidth": 0,
              "ticks": ""
             }
            },
            "type": "scatterpolargl"
           }
          ],
          "scatterternary": [
           {
            "marker": {
             "colorbar": {
              "outlinewidth": 0,
              "ticks": ""
             }
            },
            "type": "scatterternary"
           }
          ],
          "surface": [
           {
            "colorbar": {
             "outlinewidth": 0,
             "ticks": ""
            },
            "colorscale": [
             [
              0,
              "#0d0887"
             ],
             [
              0.1111111111111111,
              "#46039f"
             ],
             [
              0.2222222222222222,
              "#7201a8"
             ],
             [
              0.3333333333333333,
              "#9c179e"
             ],
             [
              0.4444444444444444,
              "#bd3786"
             ],
             [
              0.5555555555555556,
              "#d8576b"
             ],
             [
              0.6666666666666666,
              "#ed7953"
             ],
             [
              0.7777777777777778,
              "#fb9f3a"
             ],
             [
              0.8888888888888888,
              "#fdca26"
             ],
             [
              1,
              "#f0f921"
             ]
            ],
            "type": "surface"
           }
          ],
          "table": [
           {
            "cells": {
             "fill": {
              "color": "#EBF0F8"
             },
             "line": {
              "color": "white"
             }
            },
            "header": {
             "fill": {
              "color": "#C8D4E3"
             },
             "line": {
              "color": "white"
             }
            },
            "type": "table"
           }
          ]
         },
         "layout": {
          "annotationdefaults": {
           "arrowcolor": "#343a42",
           "arrowhead": 0,
           "arrowwidth": 1
          },
          "autotypenumbers": "strict",
          "coloraxis": {
           "colorbar": {
            "outlinewidth": 0,
            "ticks": ""
           }
          },
          "colorscale": {
           "diverging": [
            [
             0,
             "#8e0152"
            ],
            [
             0.1,
             "#c51b7d"
            ],
            [
             0.2,
             "#de77ae"
            ],
            [
             0.3,
             "#f1b6da"
            ],
            [
             0.4,
             "#fde0ef"
            ],
            [
             0.5,
             "#f7f7f7"
            ],
            [
             0.6,
             "#e6f5d0"
            ],
            [
             0.7,
             "#b8e186"
            ],
            [
             0.8,
             "#7fbc41"
            ],
            [
             0.9,
             "#4d9221"
            ],
            [
             1,
             "#276419"
            ]
           ],
           "sequential": [
            [
             0,
             "#0d0887"
            ],
            [
             0.1111111111111111,
             "#46039f"
            ],
            [
             0.2222222222222222,
             "#7201a8"
            ],
            [
             0.3333333333333333,
             "#9c179e"
            ],
            [
             0.4444444444444444,
             "#bd3786"
            ],
            [
             0.5555555555555556,
             "#d8576b"
            ],
            [
             0.6666666666666666,
             "#ed7953"
            ],
            [
             0.7777777777777778,
             "#fb9f3a"
            ],
            [
             0.8888888888888888,
             "#fdca26"
            ],
            [
             1,
             "#f0f921"
            ]
           ],
           "sequentialminus": [
            [
             0,
             "#0d0887"
            ],
            [
             0.1111111111111111,
             "#46039f"
            ],
            [
             0.2222222222222222,
             "#7201a8"
            ],
            [
             0.3333333333333333,
             "#9c179e"
            ],
            [
             0.4444444444444444,
             "#bd3786"
            ],
            [
             0.5555555555555556,
             "#d8576b"
            ],
            [
             0.6666666666666666,
             "#ed7953"
            ],
            [
             0.7777777777777778,
             "#fb9f3a"
            ],
            [
             0.8888888888888888,
             "#fdca26"
            ],
            [
             1,
             "#f0f921"
            ]
           ]
          },
          "colorway": [
           "#343a42",
           "#4edcda",
           "#645cff",
           "#f25fe9",
           "#f74e4e",
           "#2d8923",
           "#f7b24e",
           "#2b9694",
           "#3a34b5",
           "#a736a0",
           "#b33c3c",
           "#2d8923"
          ],
          "font": {
           "color": "#343a42"
          },
          "geo": {
           "bgcolor": "white",
           "lakecolor": "white",
           "landcolor": "#E5ECF6",
           "showlakes": true,
           "showland": true,
           "subunitcolor": "white"
          },
          "hoverlabel": {
           "align": "left"
          },
          "hovermode": "closest",
          "mapbox": {
           "style": "light"
          },
          "paper_bgcolor": "#fdead4",
          "plot_bgcolor": "rgba(0,0,0,0)",
          "polar": {
           "angularaxis": {
            "gridcolor": "white",
            "linecolor": "white",
            "ticks": ""
           },
           "bgcolor": "#E5ECF6",
           "radialaxis": {
            "gridcolor": "white",
            "linecolor": "white",
            "ticks": ""
           }
          },
          "scene": {
           "xaxis": {
            "backgroundcolor": "#E5ECF6",
            "gridcolor": "white",
            "gridwidth": 2,
            "linecolor": "white",
            "showbackground": true,
            "ticks": "",
            "zerolinecolor": "white"
           },
           "yaxis": {
            "backgroundcolor": "#E5ECF6",
            "gridcolor": "white",
            "gridwidth": 2,
            "linecolor": "white",
            "showbackground": true,
            "ticks": "",
            "zerolinecolor": "white"
           },
           "zaxis": {
            "backgroundcolor": "#E5ECF6",
            "gridcolor": "white",
            "gridwidth": 2,
            "linecolor": "white",
            "showbackground": true,
            "ticks": "",
            "zerolinecolor": "white"
           }
          },
          "shapedefaults": {
           "line": {
            "color": "#2a3f5f"
           }
          },
          "ternary": {
           "aaxis": {
            "gridcolor": "white",
            "linecolor": "white",
            "ticks": ""
           },
           "baxis": {
            "gridcolor": "white",
            "linecolor": "white",
            "ticks": ""
           },
           "bgcolor": "#E5ECF6",
           "caxis": {
            "gridcolor": "white",
            "linecolor": "white",
            "ticks": ""
           }
          },
          "title": {
           "x": 0.5
          },
          "xaxis": {
           "automargin": true,
           "gridcolor": "#d8bea1",
           "linecolor": "white",
           "ticks": "",
           "title": {
            "standoff": 15
           },
           "zerolinecolor": "#d8bea1",
           "zerolinewidth": 1
          },
          "yaxis": {
           "automargin": true,
           "gridcolor": "#d8bea1",
           "linecolor": "white",
           "ticks": "",
           "title": {
            "standoff": 15
           },
           "zerolinecolor": "#d8bea1",
           "zerolinewidth": 1
          }
         }
        },
        "title": {
         "text": "Top-10 Country Salary Gap Between Men and Women<br><sup>Generally decreasing, but still male-favoured</sup>"
        },
        "width": 790,
        "xaxis": {
         "anchor": "y",
         "domain": [
          0,
          1
         ],
         "title": {
          "text": "Year"
         }
        },
        "yaxis": {
         "anchor": "x",
         "domain": [
          0,
          1
         ],
         "range": [
          0,
          48
         ],
         "title": {
          "text": "Salary gap in percentage"
         }
        }
       }
      },
      "text/html": [
       "<div>                            <div id=\"1f18add1-51a3-4c28-b604-99651510dc62\" class=\"plotly-graph-div\" style=\"height:525px; width:790px;\"></div>            <script type=\"text/javascript\">                require([\"plotly\"], function(Plotly) {                    window.PLOTLYENV=window.PLOTLYENV || {};                                    if (document.getElementById(\"1f18add1-51a3-4c28-b604-99651510dc62\")) {                    Plotly.newPlot(                        \"1f18add1-51a3-4c28-b604-99651510dc62\",                        [{\"customdata\":[[\"Australia\"],[\"Australia\"],[\"Australia\"],[\"Australia\"],[\"Australia\"],[\"Australia\"],[\"Australia\"],[\"Australia\"],[\"Australia\"]],\"hovertemplate\":\"\\u003cb\\u003eAustralia\\u003c\\u002fb\\u003e\\u003cbr\\u003eYear: %{x:d} \\u003c\\u002fbr\\u003eSalary gap: %{y:d}%\\u003cextra\\u003e\\u003c\\u002fextra\\u003e\",\"hovertext\":[\"Australia\",\"Australia\",\"Australia\",\"Australia\",\"Australia\",\"Australia\",\"Australia\",\"Australia\",\"Australia\"],\"legendgroup\":\"Australia (1\\u002f16)\",\"line\":{\"color\":\"rgba(233, 146, 119, 0.7)\",\"dash\":\"solid\"},\"marker\":{\"symbol\":\"circle\"},\"mode\":\"lines\",\"name\":\"Australia (1\\u002f16)\",\"orientation\":\"v\",\"showlegend\":true,\"x\":[2014,2015,2016,2017,2018,2019,2020,2021,2022],\"xaxis\":\"x\",\"y\":[13.957495692130959,21.210106382978726,7.232126778318023,15.640834960034688,19.570323320683958,17.284825622149576,15.08411922895953,23.36406322131421,17.127689490239973],\"yaxis\":\"y\",\"type\":\"scatter\"},{\"customdata\":[[\"Canada\"],[\"Canada\"],[\"Canada\"],[\"Canada\"],[\"Canada\"],[\"Canada\"],[\"Canada\"],[\"Canada\"],[\"Canada\"]],\"hovertemplate\":\"\\u003cb\\u003eCanada\\u003c\\u002fb\\u003e\\u003cbr\\u003eYear: %{x:d} \\u003c\\u002fbr\\u003eSalary gap: %{y:d}%\\u003cextra\\u003e\\u003c\\u002fextra\\u003e\",\"hovertext\":[\"Canada\",\"Canada\",\"Canada\",\"Canada\",\"Canada\",\"Canada\",\"Canada\",\"Canada\",\"Canada\"],\"legendgroup\":\"Canada (1\\u002f12)\",\"line\":{\"color\":\"rgba(148, 233, 119, 0.7)\",\"dash\":\"solid\"},\"marker\":{\"symbol\":\"circle\"},\"mode\":\"lines\",\"name\":\"Canada (1\\u002f12)\",\"orientation\":\"v\",\"showlegend\":true,\"x\":[2014,2015,2016,2017,2018,2019,2020,2021,2022],\"xaxis\":\"x\",\"y\":[18.885191347753743,32.29425939050319,20.756195513762364,16.15595687586354,12.696908631032294,13.095491332013529,12.4994837977156,10.094763151878297,11.836323249786686],\"yaxis\":\"y\",\"type\":\"scatter\"},{\"customdata\":[[\"France\"],[\"France\"],[\"France\"],[\"France\"],[\"France\"],[\"France\"],[\"France\"],[\"France\"],[\"France\"]],\"hovertemplate\":\"\\u003cb\\u003eFrance\\u003c\\u002fb\\u003e\\u003cbr\\u003eYear: %{x:d} \\u003c\\u002fbr\\u003eSalary gap: %{y:d}%\\u003cextra\\u003e\\u003c\\u002fextra\\u003e\",\"hovertext\":[\"France\",\"France\",\"France\",\"France\",\"France\",\"France\",\"France\",\"France\",\"France\"],\"legendgroup\":\"France (1\\u002f20)\",\"line\":{\"color\":\"rgba(119, 127, 233, 0.7)\",\"dash\":\"solid\"},\"marker\":{\"symbol\":\"circle\"},\"mode\":\"lines\",\"name\":\"France (1\\u002f20)\",\"orientation\":\"v\",\"showlegend\":true,\"x\":[2014,2015,2016,2017,2018,2019,2020,2021,2022],\"xaxis\":\"x\",\"y\":[14.11510791366907,6.56623735050597,17.36000747873235,13.873423424021706,11.039129258668973,10.589286024492385,17.250648520384058,25.460604728812104,24.602957919250937],\"yaxis\":\"y\",\"type\":\"scatter\"},{\"customdata\":[[\"Germany\"],[\"Germany\"],[\"Germany\"],[\"Germany\"],[\"Germany\"],[\"Germany\"],[\"Germany\"],[\"Germany\"],[\"Germany\"]],\"hovertemplate\":\"\\u003cb\\u003eGermany\\u003c\\u002fb\\u003e\\u003cbr\\u003eYear: %{x:d} \\u003c\\u002fbr\\u003eSalary gap: %{y:d}%\\u003cextra\\u003e\\u003c\\u002fextra\\u003e\",\"hovertext\":[\"Germany\",\"Germany\",\"Germany\",\"Germany\",\"Germany\",\"Germany\",\"Germany\",\"Germany\",\"Germany\"],\"legendgroup\":\"Germany (1\\u002f21)\",\"line\":{\"color\":\"rgba(218, 119, 233, 0.7)\",\"dash\":\"solid\"},\"marker\":{\"symbol\":\"circle\"},\"mode\":\"lines\",\"name\":\"Germany (1\\u002f21)\",\"orientation\":\"v\",\"showlegend\":true,\"x\":[2014,2015,2016,2017,2018,2019,2020,2021,2022],\"xaxis\":\"x\",\"y\":[17.526477622138707,18.035849413545215,21.29440898553722,3.756773894765065,9.044773268827615,14.656101885954351,18.597207868540067,16.344386829753514,13.87602329624176],\"yaxis\":\"y\",\"type\":\"scatter\"},{\"customdata\":[[\"Italy\"],[\"Italy\"],[\"Italy\"],[\"Italy\"],[\"Italy\"],[\"Italy\"],[\"Italy\"],[\"Italy\"],[\"Italy\"]],\"hovertemplate\":\"\\u003cb\\u003eItaly\\u003c\\u002fb\\u003e\\u003cbr\\u003eYear: %{x:d} \\u003c\\u002fbr\\u003eSalary gap: %{y:d}%\\u003cextra\\u003e\\u003c\\u002fextra\\u003e\",\"hovertext\":[\"Italy\",\"Italy\",\"Italy\",\"Italy\",\"Italy\",\"Italy\",\"Italy\",\"Italy\",\"Italy\"],\"legendgroup\":\"Italy (1\\u002f32)\",\"line\":{\"color\":\"rgba(218, 191, 162, 0.7)\",\"dash\":\"solid\"},\"marker\":{\"symbol\":\"circle\"},\"mode\":\"lines\",\"name\":\"Italy (1\\u002f32)\",\"orientation\":\"v\",\"showlegend\":true,\"x\":[2014,2015,2016,2017,2018,2019,2020,2021,2022],\"xaxis\":\"x\",\"y\":[26.303854875283445,43.30882352941176,17.9120965832873,13.88284853541758,33.27488907525568,23.577626659285933,31.537348074723347,20.845272223280816,18.949828636773333],\"yaxis\":\"y\",\"type\":\"scatter\"},{\"customdata\":[[\"Netherlands\"],[\"Netherlands\"],[\"Netherlands\"],[\"Netherlands\"],[\"Netherlands\"],[\"Netherlands\"],[\"Netherlands\"],[\"Netherlands\"],[\"Netherlands\"]],\"hovertemplate\":\"\\u003cb\\u003eNetherlands\\u003c\\u002fb\\u003e\\u003cbr\\u003eYear: %{x:d} \\u003c\\u002fbr\\u003eSalary gap: %{y:d}%\\u003cextra\\u003e\\u003c\\u002fextra\\u003e\",\"hovertext\":[\"Netherlands\",\"Netherlands\",\"Netherlands\",\"Netherlands\",\"Netherlands\",\"Netherlands\",\"Netherlands\",\"Netherlands\",\"Netherlands\"],\"legendgroup\":\"Netherlands (1\\u002f18)\",\"line\":{\"color\":\"rgba(207, 150, 150, 0.7)\",\"dash\":\"solid\"},\"marker\":{\"symbol\":\"circle\"},\"mode\":\"lines\",\"name\":\"Netherlands (1\\u002f18)\",\"orientation\":\"v\",\"showlegend\":true,\"x\":[2014,2015,2016,2017,2018,2019,2020,2021,2022],\"xaxis\":\"x\",\"y\":[25.085518814139114,31.46974063400576,7.534315198877866,18.557285885671295,7.697670998619133,24.351013348241196,25.638567835758362,21.95803662005263,24.446754744578044],\"yaxis\":\"y\",\"type\":\"scatter\"},{\"customdata\":[[\"Poland\"],[\"Poland\"],[\"Poland\"],[\"Poland\"],[\"Poland\"],[\"Poland\"],[\"Poland\"],[\"Poland\"],[\"Poland\"]],\"hovertemplate\":\"\\u003cb\\u003ePoland\\u003c\\u002fb\\u003e\\u003cbr\\u003eYear: %{x:d} \\u003c\\u002fbr\\u003eSalary gap: %{y:d}%\\u003cextra\\u003e\\u003c\\u002fextra\\u003e\",\"hovertext\":[\"Poland\",\"Poland\",\"Poland\",\"Poland\",\"Poland\",\"Poland\",\"Poland\",\"Poland\",\"Poland\"],\"legendgroup\":\"Poland (1\\u002f23)\",\"line\":{\"color\":\"rgba(167, 199, 213, 0.7)\",\"dash\":\"solid\"},\"marker\":{\"symbol\":\"circle\"},\"mode\":\"lines\",\"name\":\"Poland (1\\u002f23)\",\"orientation\":\"v\",\"showlegend\":true,\"x\":[2014,2015,2016,2017,2018,2019,2020,2021,2022],\"xaxis\":\"x\",\"y\":[46.74556213017752,19.39188842742142,41.706238445644686,24.28023445247764,17.116379714997787,30.028013673046893,29.535810906688496,37.963002498039,15.699992264397148],\"yaxis\":\"y\",\"type\":\"scatter\"},{\"customdata\":[[\"Spain\"],[\"Spain\"],[\"Spain\"],[\"Spain\"],[\"Spain\"],[\"Spain\"],[\"Spain\"],[\"Spain\"],[\"Spain\"]],\"hovertemplate\":\"\\u003cb\\u003eSpain\\u003c\\u002fb\\u003e\\u003cbr\\u003eYear: %{x:d} \\u003c\\u002fbr\\u003eSalary gap: %{y:d}%\\u003cextra\\u003e\\u003c\\u002fextra\\u003e\",\"hovertext\":[\"Spain\",\"Spain\",\"Spain\",\"Spain\",\"Spain\",\"Spain\",\"Spain\",\"Spain\",\"Spain\"],\"legendgroup\":\"Spain (1\\u002f20)\",\"line\":{\"color\":\"rgba(233, 119, 186, 0.7)\",\"dash\":\"solid\"},\"marker\":{\"symbol\":\"circle\"},\"mode\":\"lines\",\"name\":\"Spain (1\\u002f20)\",\"orientation\":\"v\",\"showlegend\":true,\"x\":[2014,2015,2016,2017,2018,2019,2020,2021,2022],\"xaxis\":\"x\",\"y\":[44.14335664335665,23.212913143735584,23.176770663464925,17.95583662967833,3.768188100999248,7.391530148720444,16.146529667041424,24.130084301297437,11.562852895062193],\"yaxis\":\"y\",\"type\":\"scatter\"},{\"customdata\":[[\"United Kingdom\"],[\"United Kingdom\"],[\"United Kingdom\"],[\"United Kingdom\"],[\"United Kingdom\"],[\"United Kingdom\"],[\"United Kingdom\"],[\"United Kingdom\"],[\"United Kingdom\"]],\"hovertemplate\":\"\\u003cb\\u003eUnited Kingdom\\u003c\\u002fb\\u003e\\u003cbr\\u003eYear: %{x:d} \\u003c\\u002fbr\\u003eSalary gap: %{y:d}%\\u003cextra\\u003e\\u003c\\u002fextra\\u003e\",\"hovertext\":[\"United Kingdom\",\"United Kingdom\",\"United Kingdom\",\"United Kingdom\",\"United Kingdom\",\"United Kingdom\",\"United Kingdom\",\"United Kingdom\",\"United Kingdom\"],\"legendgroup\":\"United Kingdom (1\\u002f15)\",\"line\":{\"color\":\"rgba(154, 162, 221, 0.7)\",\"dash\":\"solid\"},\"marker\":{\"symbol\":\"circle\"},\"mode\":\"lines\",\"name\":\"United Kingdom (1\\u002f15)\",\"orientation\":\"v\",\"showlegend\":true,\"x\":[2014,2015,2016,2017,2018,2019,2020,2021,2022],\"xaxis\":\"x\",\"y\":[35.41706191108582,28.0578596813942,20.149750638986813,13.37883023775702,22.271963665903343,15.273830205321865,13.50978981889189,21.27902087215123,15.479095317701507],\"yaxis\":\"y\",\"type\":\"scatter\"},{\"customdata\":[[\"United States\"],[\"United States\"],[\"United States\"],[\"United States\"],[\"United States\"],[\"United States\"],[\"United States\"],[\"United States\"],[\"United States\"]],\"hovertemplate\":\"\\u003cb\\u003eUnited States\\u003c\\u002fb\\u003e\\u003cbr\\u003eYear: %{x:d} \\u003c\\u002fbr\\u003eSalary gap: %{y:d}%\\u003cextra\\u003e\\u003c\\u002fextra\\u003e\",\"hovertext\":[\"United States\",\"United States\",\"United States\",\"United States\",\"United States\",\"United States\",\"United States\",\"United States\",\"United States\"],\"legendgroup\":\"United States (1\\u002f10)\",\"line\":{\"color\":\"rgba(154, 221, 209, 0.7)\",\"dash\":\"solid\"},\"marker\":{\"symbol\":\"circle\"},\"mode\":\"lines\",\"name\":\"United States (1\\u002f10)\",\"orientation\":\"v\",\"showlegend\":true,\"x\":[2014,2015,2016,2017,2018,2019,2020,2021,2022],\"xaxis\":\"x\",\"y\":[8.470369028419235,12.950463106815363,12.46431731038739,6.79814385362892,12.793368561409627,9.610040157299819,8.862034489716603,11.70640021451836,7.548858316473223],\"yaxis\":\"y\",\"type\":\"scatter\"},{\"hovertemplate\":\"\\u003cb\\u003e\\u003c\\u002fb\\u003e\\u003cbr\\u003eYear: %{x:d} \\u003c\\u002fbr\\u003eMean salary gap: %{y:d}%\\u003cextra\\u003e\\u003c\\u002fextra\\u003e\",\"legendgroup\":\"\",\"line\":{\"color\":\"#343a42\",\"dash\":\"solid\"},\"marker\":{\"symbol\":\"circle\"},\"mode\":\"lines+markers\",\"name\":\"\",\"orientation\":\"v\",\"showlegend\":false,\"x\":[2014,2015,2016,2017,2018,2019,2020,2021,2022],\"xaxis\":\"x\",\"y\":[25.064999597815426,23.64981410603172,18.958622759699892,14.428016874931577,14.927359459639765,16.5857759056526,18.86615402084194,21.31456346610976,16.11303761305048],\"yaxis\":\"y\",\"type\":\"scatter\"}],                        {\"template\":{\"data\":{\"barpolar\":[{\"marker\":{\"line\":{\"color\":\"#E5ECF6\",\"width\":0.5},\"pattern\":{\"fillmode\":\"overlay\",\"size\":10,\"solidity\":0.2}},\"type\":\"barpolar\"}],\"bar\":[{\"error_x\":{\"color\":\"#2a3f5f\"},\"error_y\":{\"color\":\"#2a3f5f\"},\"marker\":{\"line\":{\"color\":\"#E5ECF6\",\"width\":0},\"pattern\":{\"fillmode\":\"overlay\",\"size\":10,\"solidity\":0.2}},\"type\":\"bar\"}],\"carpet\":[{\"aaxis\":{\"endlinecolor\":\"#2a3f5f\",\"gridcolor\":\"white\",\"linecolor\":\"white\",\"minorgridcolor\":\"white\",\"startlinecolor\":\"#2a3f5f\"},\"baxis\":{\"endlinecolor\":\"#2a3f5f\",\"gridcolor\":\"white\",\"linecolor\":\"white\",\"minorgridcolor\":\"white\",\"startlinecolor\":\"#2a3f5f\"},\"type\":\"carpet\"}],\"choropleth\":[{\"colorbar\":{\"outlinewidth\":0,\"ticks\":\"\"},\"type\":\"choropleth\"}],\"contourcarpet\":[{\"colorbar\":{\"outlinewidth\":0,\"ticks\":\"\"},\"type\":\"contourcarpet\"}],\"contour\":[{\"colorbar\":{\"outlinewidth\":0,\"ticks\":\"\"},\"colorscale\":[[0.0,\"#0d0887\"],[0.1111111111111111,\"#46039f\"],[0.2222222222222222,\"#7201a8\"],[0.3333333333333333,\"#9c179e\"],[0.4444444444444444,\"#bd3786\"],[0.5555555555555556,\"#d8576b\"],[0.6666666666666666,\"#ed7953\"],[0.7777777777777778,\"#fb9f3a\"],[0.8888888888888888,\"#fdca26\"],[1.0,\"#f0f921\"]],\"type\":\"contour\"}],\"heatmapgl\":[{\"colorbar\":{\"outlinewidth\":0,\"ticks\":\"\"},\"colorscale\":[[0.0,\"#0d0887\"],[0.1111111111111111,\"#46039f\"],[0.2222222222222222,\"#7201a8\"],[0.3333333333333333,\"#9c179e\"],[0.4444444444444444,\"#bd3786\"],[0.5555555555555556,\"#d8576b\"],[0.6666666666666666,\"#ed7953\"],[0.7777777777777778,\"#fb9f3a\"],[0.8888888888888888,\"#fdca26\"],[1.0,\"#f0f921\"]],\"type\":\"heatmapgl\"}],\"heatmap\":[{\"colorbar\":{\"outlinewidth\":0,\"ticks\":\"\"},\"colorscale\":[[0.0,\"#0d0887\"],[0.1111111111111111,\"#46039f\"],[0.2222222222222222,\"#7201a8\"],[0.3333333333333333,\"#9c179e\"],[0.4444444444444444,\"#bd3786\"],[0.5555555555555556,\"#d8576b\"],[0.6666666666666666,\"#ed7953\"],[0.7777777777777778,\"#fb9f3a\"],[0.8888888888888888,\"#fdca26\"],[1.0,\"#f0f921\"]],\"type\":\"heatmap\"}],\"histogram2dcontour\":[{\"colorbar\":{\"outlinewidth\":0,\"ticks\":\"\"},\"colorscale\":[[0.0,\"#0d0887\"],[0.1111111111111111,\"#46039f\"],[0.2222222222222222,\"#7201a8\"],[0.3333333333333333,\"#9c179e\"],[0.4444444444444444,\"#bd3786\"],[0.5555555555555556,\"#d8576b\"],[0.6666666666666666,\"#ed7953\"],[0.7777777777777778,\"#fb9f3a\"],[0.8888888888888888,\"#fdca26\"],[1.0,\"#f0f921\"]],\"type\":\"histogram2dcontour\"}],\"histogram2d\":[{\"colorbar\":{\"outlinewidth\":0,\"ticks\":\"\"},\"colorscale\":[[0.0,\"#0d0887\"],[0.1111111111111111,\"#46039f\"],[0.2222222222222222,\"#7201a8\"],[0.3333333333333333,\"#9c179e\"],[0.4444444444444444,\"#bd3786\"],[0.5555555555555556,\"#d8576b\"],[0.6666666666666666,\"#ed7953\"],[0.7777777777777778,\"#fb9f3a\"],[0.8888888888888888,\"#fdca26\"],[1.0,\"#f0f921\"]],\"type\":\"histogram2d\"}],\"histogram\":[{\"marker\":{\"pattern\":{\"fillmode\":\"overlay\",\"size\":10,\"solidity\":0.2}},\"type\":\"histogram\"}],\"mesh3d\":[{\"colorbar\":{\"outlinewidth\":0,\"ticks\":\"\"},\"type\":\"mesh3d\"}],\"parcoords\":[{\"line\":{\"colorbar\":{\"outlinewidth\":0,\"ticks\":\"\"}},\"type\":\"parcoords\"}],\"pie\":[{\"automargin\":true,\"type\":\"pie\"}],\"scatter3d\":[{\"line\":{\"colorbar\":{\"outlinewidth\":0,\"ticks\":\"\"}},\"marker\":{\"colorbar\":{\"outlinewidth\":0,\"ticks\":\"\"}},\"type\":\"scatter3d\"}],\"scattercarpet\":[{\"marker\":{\"colorbar\":{\"outlinewidth\":0,\"ticks\":\"\"}},\"type\":\"scattercarpet\"}],\"scattergeo\":[{\"marker\":{\"colorbar\":{\"outlinewidth\":0,\"ticks\":\"\"}},\"type\":\"scattergeo\"}],\"scattergl\":[{\"marker\":{\"colorbar\":{\"outlinewidth\":0,\"ticks\":\"\"}},\"type\":\"scattergl\"}],\"scattermapbox\":[{\"marker\":{\"colorbar\":{\"outlinewidth\":0,\"ticks\":\"\"}},\"type\":\"scattermapbox\"}],\"scatterpolargl\":[{\"marker\":{\"colorbar\":{\"outlinewidth\":0,\"ticks\":\"\"}},\"type\":\"scatterpolargl\"}],\"scatterpolar\":[{\"marker\":{\"colorbar\":{\"outlinewidth\":0,\"ticks\":\"\"}},\"type\":\"scatterpolar\"}],\"scatter\":[{\"fillpattern\":{\"fillmode\":\"overlay\",\"size\":10,\"solidity\":0.2},\"type\":\"scatter\"}],\"scatterternary\":[{\"marker\":{\"colorbar\":{\"outlinewidth\":0,\"ticks\":\"\"}},\"type\":\"scatterternary\"}],\"surface\":[{\"colorbar\":{\"outlinewidth\":0,\"ticks\":\"\"},\"colorscale\":[[0.0,\"#0d0887\"],[0.1111111111111111,\"#46039f\"],[0.2222222222222222,\"#7201a8\"],[0.3333333333333333,\"#9c179e\"],[0.4444444444444444,\"#bd3786\"],[0.5555555555555556,\"#d8576b\"],[0.6666666666666666,\"#ed7953\"],[0.7777777777777778,\"#fb9f3a\"],[0.8888888888888888,\"#fdca26\"],[1.0,\"#f0f921\"]],\"type\":\"surface\"}],\"table\":[{\"cells\":{\"fill\":{\"color\":\"#EBF0F8\"},\"line\":{\"color\":\"white\"}},\"header\":{\"fill\":{\"color\":\"#C8D4E3\"},\"line\":{\"color\":\"white\"}},\"type\":\"table\"}]},\"layout\":{\"annotationdefaults\":{\"arrowcolor\":\"#343a42\",\"arrowhead\":0,\"arrowwidth\":1},\"autotypenumbers\":\"strict\",\"coloraxis\":{\"colorbar\":{\"outlinewidth\":0,\"ticks\":\"\"}},\"colorscale\":{\"diverging\":[[0,\"#8e0152\"],[0.1,\"#c51b7d\"],[0.2,\"#de77ae\"],[0.3,\"#f1b6da\"],[0.4,\"#fde0ef\"],[0.5,\"#f7f7f7\"],[0.6,\"#e6f5d0\"],[0.7,\"#b8e186\"],[0.8,\"#7fbc41\"],[0.9,\"#4d9221\"],[1,\"#276419\"]],\"sequential\":[[0.0,\"#0d0887\"],[0.1111111111111111,\"#46039f\"],[0.2222222222222222,\"#7201a8\"],[0.3333333333333333,\"#9c179e\"],[0.4444444444444444,\"#bd3786\"],[0.5555555555555556,\"#d8576b\"],[0.6666666666666666,\"#ed7953\"],[0.7777777777777778,\"#fb9f3a\"],[0.8888888888888888,\"#fdca26\"],[1.0,\"#f0f921\"]],\"sequentialminus\":[[0.0,\"#0d0887\"],[0.1111111111111111,\"#46039f\"],[0.2222222222222222,\"#7201a8\"],[0.3333333333333333,\"#9c179e\"],[0.4444444444444444,\"#bd3786\"],[0.5555555555555556,\"#d8576b\"],[0.6666666666666666,\"#ed7953\"],[0.7777777777777778,\"#fb9f3a\"],[0.8888888888888888,\"#fdca26\"],[1.0,\"#f0f921\"]]},\"colorway\":[\"#343a42\",\"#4edcda\",\"#645cff\",\"#f25fe9\",\"#f74e4e\",\"#2d8923\",\"#f7b24e\",\"#2b9694\",\"#3a34b5\",\"#a736a0\",\"#b33c3c\",\"#2d8923\"],\"font\":{\"color\":\"#343a42\"},\"geo\":{\"bgcolor\":\"white\",\"lakecolor\":\"white\",\"landcolor\":\"#E5ECF6\",\"showlakes\":true,\"showland\":true,\"subunitcolor\":\"white\"},\"hoverlabel\":{\"align\":\"left\"},\"hovermode\":\"closest\",\"mapbox\":{\"style\":\"light\"},\"paper_bgcolor\":\"#fdead4\",\"plot_bgcolor\":\"rgba(0,0,0,0)\",\"polar\":{\"angularaxis\":{\"gridcolor\":\"white\",\"linecolor\":\"white\",\"ticks\":\"\"},\"bgcolor\":\"#E5ECF6\",\"radialaxis\":{\"gridcolor\":\"white\",\"linecolor\":\"white\",\"ticks\":\"\"}},\"scene\":{\"xaxis\":{\"backgroundcolor\":\"#E5ECF6\",\"gridcolor\":\"white\",\"gridwidth\":2,\"linecolor\":\"white\",\"showbackground\":true,\"ticks\":\"\",\"zerolinecolor\":\"white\"},\"yaxis\":{\"backgroundcolor\":\"#E5ECF6\",\"gridcolor\":\"white\",\"gridwidth\":2,\"linecolor\":\"white\",\"showbackground\":true,\"ticks\":\"\",\"zerolinecolor\":\"white\"},\"zaxis\":{\"backgroundcolor\":\"#E5ECF6\",\"gridcolor\":\"white\",\"gridwidth\":2,\"linecolor\":\"white\",\"showbackground\":true,\"ticks\":\"\",\"zerolinecolor\":\"white\"}},\"shapedefaults\":{\"line\":{\"color\":\"#2a3f5f\"}},\"ternary\":{\"aaxis\":{\"gridcolor\":\"white\",\"linecolor\":\"white\",\"ticks\":\"\"},\"baxis\":{\"gridcolor\":\"white\",\"linecolor\":\"white\",\"ticks\":\"\"},\"bgcolor\":\"#E5ECF6\",\"caxis\":{\"gridcolor\":\"white\",\"linecolor\":\"white\",\"ticks\":\"\"}},\"title\":{\"x\":0.5},\"xaxis\":{\"automargin\":true,\"gridcolor\":\"#d8bea1\",\"linecolor\":\"white\",\"ticks\":\"\",\"title\":{\"standoff\":15},\"zerolinecolor\":\"#d8bea1\",\"zerolinewidth\":1},\"yaxis\":{\"automargin\":true,\"gridcolor\":\"#d8bea1\",\"linecolor\":\"white\",\"ticks\":\"\",\"title\":{\"standoff\":15},\"zerolinecolor\":\"#d8bea1\",\"zerolinewidth\":1}}},\"xaxis\":{\"anchor\":\"y\",\"domain\":[0.0,1.0],\"title\":{\"text\":\"Year\"}},\"yaxis\":{\"anchor\":\"x\",\"domain\":[0.0,1.0],\"title\":{\"text\":\"Salary gap in percentage\"},\"range\":[0,48]},\"legend\":{\"title\":{\"text\":\"Country with female\\u002fmale ratio\"},\"tracegroupgap\":0},\"title\":{\"text\":\"Top-10 Country Salary Gap Between Men and Women\\u003cbr\\u003e\\u003csup\\u003eGenerally decreasing, but still male-favoured\\u003c\\u002fsup\\u003e\"},\"width\":790,\"annotations\":[{\"showarrow\":false,\"text\":\"mean salary gap\",\"textangle\":-16,\"x\":2019.7,\"xanchor\":\"center\",\"y\":17.75,\"yanchor\":\"bottom\"},{\"align\":\"left\",\"showarrow\":false,\"text\":\"The top-10 countries with most survey respondents being developer.\\u003cbr\\u003ePercentages above zero indicates a male-favoured salary gap.\",\"x\":-0.1,\"xanchor\":\"left\",\"xref\":\"paper\",\"y\":-0.35,\"yanchor\":\"bottom\",\"yref\":\"paper\"}],\"margin\":{\"b\":130}},                        {\"responsive\": true}                    ).then(function(){\n",
       "                            \n",
       "var gd = document.getElementById('1f18add1-51a3-4c28-b604-99651510dc62');\n",
       "var x = new MutationObserver(function (mutations, observer) {{\n",
       "        var display = window.getComputedStyle(gd).display;\n",
       "        if (!display || display === 'none') {{\n",
       "            console.log([gd, 'removed!']);\n",
       "            Plotly.purge(gd);\n",
       "            observer.disconnect();\n",
       "        }}\n",
       "}});\n",
       "\n",
       "// Listen for the removal of the full notebook cells\n",
       "var notebookContainer = gd.closest('#notebook-container');\n",
       "if (notebookContainer) {{\n",
       "    x.observe(notebookContainer, {childList: true});\n",
       "}}\n",
       "\n",
       "// Listen for the clearing of the current output cell\n",
       "var outputEl = gd.closest('.output');\n",
       "if (outputEl) {{\n",
       "    x.observe(outputEl, {childList: true});\n",
       "}}\n",
       "\n",
       "                        })                };                });            </script>        </div>"
      ]
     },
     "metadata": {},
     "output_type": "display_data"
    }
   ],
   "source": [
    "color_alpha = 0.7\n",
    "\n",
    "fig = px.line(\n",
    "    salary_gap_df,\n",
    "    x='Year',\n",
    "    y='SalaryGapPercent',\n",
    "    color='Country',\n",
    "    hover_name='Country',\n",
    "    title='Top-10 Country Salary Gap Between Men and Women<br><sup>Generally decreasing, but still male-favoured</sup>',\n",
    "    custom_data=['Country'],\n",
    "    color_discrete_sequence=[\n",
    "        f'rgba(233, 146, 119, {color_alpha})',\n",
    "        f'rgba(148, 233, 119, {color_alpha})',\n",
    "        f'rgba(119, 127, 233, {color_alpha})',\n",
    "        f'rgba(218, 119, 233, {color_alpha})',\n",
    "        f'rgba(218, 191, 162, {color_alpha})',\n",
    "        f'rgba(207, 150, 150, {color_alpha})',\n",
    "        f'rgba(167, 199, 213, {color_alpha})',\n",
    "        f'rgba(233, 119, 186, {color_alpha})',\n",
    "        f'rgba(154, 162, 221, {color_alpha})',\n",
    "        f'rgba(154, 221, 209, {color_alpha})',\n",
    "    ],\n",
    "    range_y=[0, 48],\n",
    "    width=790,\n",
    ")\n",
    "\n",
    "fig.update_layout(yaxis_title='Salary gap in percentage')\n",
    "\n",
    "# Add male/female ratio in the legend names\n",
    "total_male_participants_per_country_df = countries_df.query('Gender == \"male\"') \\\n",
    "    .groupby('Country', as_index=False) \\\n",
    "    .size() \\\n",
    "    .rename(columns={'size': 'TotalMale'})\n",
    "\n",
    "total_female_participants_per_country_df = countries_df.query('Gender == \"female\"') \\\n",
    "    .groupby('Country', as_index=False) \\\n",
    "    .size() \\\n",
    "    .rename(columns={'size': 'TotalFemale'})\n",
    "\n",
    "total_participants_per_country_df = pd.merge(total_male_participants_per_country_df, total_female_participants_per_country_df)\n",
    "total_participants_per_country_df['MaleRatioPerFemale'] = total_participants_per_country_df['TotalMale'] / total_participants_per_country_df['TotalFemale']\n",
    "\n",
    "# Add female/male ratio for each legend name.\n",
    "\n",
    "# Example: {'oldname': 'newname'}\n",
    "legend_names = {}\n",
    "for _, row in total_participants_per_country_df.iterrows():\n",
    "    legend_names[row['Country']] = f\"{row['Country']} (1/{int(row['MaleRatioPerFemale'])})\"\n",
    "\n",
    "fig.for_each_trace(lambda t: t.update(name=legend_names[t.name], \n",
    "                                      legendgroup=legend_names[t.name],\n",
    "                                      hovertemplate='<b>' + t.name + '</b><br>Year: %{x:d} </br>Salary gap: %{y:d}%<extra></extra>'))\n",
    "\n",
    "# Plot the mean salary scatters\n",
    "mean_salary_line_fig = px.line(mean_salary_gap,\n",
    "                               x='Year',\n",
    "                               y='SalaryGapPercent',\n",
    "                               markers=True)\n",
    "for trace in mean_salary_line_fig.data:\n",
    "    trace.hovertemplate = '<b>' + trace.name + '</b><br>Year: %{x:d} </br>Mean salary gap: %{y:d}%<extra></extra>'\n",
    "\n",
    "fig.add_traces(list(mean_salary_line_fig.select_traces()))\n",
    "fig.add_annotation(x=2019.7, y=17.75,\n",
    "                   showarrow=False,\n",
    "                   xanchor='center',\n",
    "                   yanchor='bottom',\n",
    "                   textangle=-16,\n",
    "                   text='mean salary gap')\n",
    "\n",
    "# Add caption\n",
    "fig.add_annotation(x=-0.1, y=-0.35,\n",
    "                   xref='paper', yref='paper',\n",
    "                   showarrow=False,\n",
    "                   xanchor='left', yanchor='bottom',\n",
    "                   align='left',\n",
    "                   text='The top-10 countries with most survey respondents being developer.<br>Percentages above zero indicates a male-favoured salary gap.')\n",
    "\n",
    "fig.update_layout(\n",
    "    legend={\n",
    "        'title': 'Country with female/male ratio'\n",
    "    },\n",
    "    margin={'b': 130}\n",
    ")\n",
    "\n",
    "fig.show()"
   ]
  },
  {
   "cell_type": "code",
   "execution_count": null,
   "metadata": {},
   "outputs": [],
   "source": []
  }
 ],
 "metadata": {
  "kernelspec": {
   "display_name": "Python 3 (ipykernel)",
   "language": "python",
   "name": "python3"
  },
  "language_info": {
   "codemirror_mode": {
    "name": "ipython",
    "version": 3
   },
   "file_extension": ".py",
   "mimetype": "text/x-python",
   "name": "python",
   "nbconvert_exporter": "python",
   "pygments_lexer": "ipython3",
   "version": "3.10.6"
  }
 },
 "nbformat": 4,
 "nbformat_minor": 2
}
