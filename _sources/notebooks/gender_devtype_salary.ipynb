{
 "cells": [
  {
   "cell_type": "code",
   "execution_count": 1,
   "metadata": {
    "collapsed": true,
    "ExecuteTime": {
     "end_time": "2023-06-20T17:43:23.251739Z",
     "start_time": "2023-06-20T17:43:22.838462Z"
    }
   },
   "outputs": [],
   "source": [
    "import os\n",
    "\n",
    "import plotly.express as px\n",
    "import numpy as np\n",
    "import pandas as pd"
   ]
  },
  {
   "cell_type": "code",
   "execution_count": 2,
   "metadata": {
    "ExecuteTime": {
     "end_time": "2023-06-20T17:43:25.611107Z",
     "start_time": "2023-06-20T17:43:25.604263Z"
    }
   },
   "outputs": [],
   "source": [
    "RECALCULATE = False\n",
    "PRINT = False"
   ]
  },
  {
   "cell_type": "code",
   "execution_count": 3,
   "metadata": {
    "ExecuteTime": {
     "end_time": "2023-06-20T17:43:26.767145Z",
     "start_time": "2023-06-20T17:43:26.704861Z"
    }
   },
   "outputs": [],
   "source": [
    "if not os.path.isfile('cache/gender_devtype.pq') or RECALCULATE:\n",
    "    full_df = pd.read_parquet('../data/SO_2014_2022.pq')\n",
    "    devtypes = list(full_df['DevType'].dropna().apply(lambda s: s.split(';')[0]).unique())\n",
    "    dt_series = full_df.DevType.apply(lambda s: s.split(';') if isinstance(s, str) else np.nan)\n",
    "    dt_mean_sal = pd.DataFrame(columns=['Salary'], index=devtypes)\n",
    "    dt_gender_count = pd.DataFrame(columns=['Male', 'Female'], index=devtypes)\n",
    "    dt_gender_sal = pd.DataFrame(columns=['Male', 'Female'], index=devtypes)\n",
    "\n",
    "    devtype = None\n",
    "\n",
    "\n",
    "    # Loop closure\n",
    "    def filter_devtype(types: list, value):\n",
    "        if devtype not in types:\n",
    "            return np.nan\n",
    "        return value\n",
    "\n",
    "\n",
    "    search_mean_sal = pd.concat([dt_series, full_df.Salary], axis=1).dropna()\n",
    "    search_gender_count = pd.concat([dt_series, full_df.Gender], axis=1).dropna()\n",
    "    search_gender_sal = pd.concat([dt_series, full_df.Salary, full_df.Gender], axis=1).dropna()\n",
    "    for progress, devtype in enumerate(devtypes):\n",
    "        if PRINT:\n",
    "            print(f'{progress / len(devtypes):>4.0%}')\n",
    "        dt_mean_sal.loc[devtype] = search_mean_sal.DevType.combine(search_mean_sal.Salary, filter_devtype).mean()\n",
    "        dt_gender_count.loc[devtype] = tuple(\n",
    "            search_gender_count.DevType.combine(search_gender_count.Gender, filter_devtype).value_counts())\n",
    "        for gender in ['Male', 'Female']:\n",
    "            sgs = search_gender_sal.query(f\"Gender == '{gender.lower()}'\")\n",
    "            dt_gender_sal.loc[devtype][gender] = sgs.DevType.combine(sgs.Salary, filter_devtype).mean()\n",
    "\n",
    "    if PRINT:\n",
    "        print('100%')\n",
    "\n",
    "    df = pd.DataFrame()\n",
    "    df['Salary'] = dt_mean_sal['Salary']\n",
    "    df['MaleCount'] = dt_gender_count['Male']\n",
    "    df['FemaleCount'] = dt_gender_count['Female']\n",
    "    df['MaleSalary'] = dt_gender_sal['Male']\n",
    "    df['FemaleSalary'] = dt_gender_sal['Female']\n",
    "    df['Gap'] = (df['MaleSalary'] - df['FemaleSalary']) / df['Salary'] * 100\n",
    "    df['Prop'] = df['MaleCount'] / df['FemaleCount']\n",
    "\n",
    "    # Some positions might be unreliable due to low female respondent count\n",
    "    df.query('MaleCount > 200 & FemaleCount > 200', inplace=True)\n",
    "\n",
    "    df.to_parquet('cache/gender_devtype.pq')\n",
    "    RECALCULATE = False\n",
    "else:\n",
    "    df = pd.read_parquet('cache/gender_devtype.pq')\n",
    "    if PRINT:\n",
    "        print('Loaded from cache')"
   ]
  },
  {
   "cell_type": "code",
   "execution_count": 4,
   "metadata": {
    "ExecuteTime": {
     "end_time": "2023-06-20T17:43:27.691712Z",
     "start_time": "2023-06-20T17:43:27.680833Z"
    }
   },
   "outputs": [
    {
     "data": {
      "text/plain": "                                                     Salary  MaleCount  \\\nData scientist or machine learning specialist  66741.062337      27967   \nEngineer, data                                 74134.871049      15341   \nDeveloper, front-end                           57962.401026      95441   \nStudent                                        24490.338723      34176   \nDeveloper, full-stack                          62865.299330     182772   \n\n                                               FemaleCount    MaleSalary  \\\nData scientist or machine learning specialist         2135  67065.807725   \nEngineer, data                                         801  73851.015016   \nDeveloper, front-end                                  7128  58357.289909   \nStudent                                               2740  24634.515929   \nDeveloper, full-stack                                 9983  63024.234952   \n\n                                               FemaleSalary       Gap  \\\nData scientist or machine learning specialist  65158.192406  2.858233   \nEngineer, data                                 75325.595661 -1.989051   \nDeveloper, front-end                           56208.281881  3.707590   \nStudent                                        24305.919094  1.341741   \nDeveloper, full-stack                          63244.182031 -0.349870   \n\n                                                    Prop  \nData scientist or machine learning specialist  13.099297  \nEngineer, data                                 19.152310  \nDeveloper, front-end                           13.389590  \nStudent                                        12.472993  \nDeveloper, full-stack                          18.308324  ",
      "text/html": "<div>\n<style scoped>\n    .dataframe tbody tr th:only-of-type {\n        vertical-align: middle;\n    }\n\n    .dataframe tbody tr th {\n        vertical-align: top;\n    }\n\n    .dataframe thead th {\n        text-align: right;\n    }\n</style>\n<table border=\"1\" class=\"dataframe\">\n  <thead>\n    <tr style=\"text-align: right;\">\n      <th></th>\n      <th>Salary</th>\n      <th>MaleCount</th>\n      <th>FemaleCount</th>\n      <th>MaleSalary</th>\n      <th>FemaleSalary</th>\n      <th>Gap</th>\n      <th>Prop</th>\n    </tr>\n  </thead>\n  <tbody>\n    <tr>\n      <th>Data scientist or machine learning specialist</th>\n      <td>66741.062337</td>\n      <td>27967</td>\n      <td>2135</td>\n      <td>67065.807725</td>\n      <td>65158.192406</td>\n      <td>2.858233</td>\n      <td>13.099297</td>\n    </tr>\n    <tr>\n      <th>Engineer, data</th>\n      <td>74134.871049</td>\n      <td>15341</td>\n      <td>801</td>\n      <td>73851.015016</td>\n      <td>75325.595661</td>\n      <td>-1.989051</td>\n      <td>19.152310</td>\n    </tr>\n    <tr>\n      <th>Developer, front-end</th>\n      <td>57962.401026</td>\n      <td>95441</td>\n      <td>7128</td>\n      <td>58357.289909</td>\n      <td>56208.281881</td>\n      <td>3.707590</td>\n      <td>13.389590</td>\n    </tr>\n    <tr>\n      <th>Student</th>\n      <td>24490.338723</td>\n      <td>34176</td>\n      <td>2740</td>\n      <td>24634.515929</td>\n      <td>24305.919094</td>\n      <td>1.341741</td>\n      <td>12.472993</td>\n    </tr>\n    <tr>\n      <th>Developer, full-stack</th>\n      <td>62865.299330</td>\n      <td>182772</td>\n      <td>9983</td>\n      <td>63024.234952</td>\n      <td>63244.182031</td>\n      <td>-0.349870</td>\n      <td>18.308324</td>\n    </tr>\n  </tbody>\n</table>\n</div>"
     },
     "execution_count": 4,
     "metadata": {},
     "output_type": "execute_result"
    }
   ],
   "source": [
    "df.head()"
   ]
  },
  {
   "cell_type": "code",
   "execution_count": null,
   "metadata": {},
   "outputs": [],
   "source": [
    "if PRINT:\n",
    "    print('Positions with most female favourable pay gap:', *df.sort_values(by='Gap').head(3).index.tolist(),\n",
    "          sep='\\n\\t')\n",
    "    print('\\nPositions with most male favourable pay gap:',\n",
    "          *df.sort_values(by='Gap', ascending=False).head(3).index.tolist(), sep='\\n\\t')\n",
    "    print('\\nPositions with highest female proportion:',\n",
    "          *df.sort_values(by='Prop', ascending=False).head(3).index.tolist(), sep='\\n\\t')\n",
    "    print('\\nPositions with lowest female proportion:', *df.sort_values(by='Prop').head(3).index.tolist(), sep='\\n\\t')"
   ]
  },
  {
   "cell_type": "code",
   "execution_count": null,
   "metadata": {},
   "outputs": [],
   "source": [
    "# plt.scatter(x=df['Prop'], y=df['Gap'])\n",
    "# SHOW_MEAN = False\n",
    "#\n",
    "# if SHOW_MEAN:\n",
    "#     mean_proportion = df.MaleCount.sum() / df.FemaleCount.sum()\n",
    "#     mean_gap = (df.Gap * (df.MaleCount + df.FemaleCount)).sum() / (df.MaleCount.sum() + df.FemaleCount.sum())\n",
    "#     plt.axvline(color='grey', linestyle='dashed', x=mean_proportion)\n",
    "#     plt.axhline(color='grey', linestyle='dashed', y=mean_gap)\n",
    "#     plt.annotate(color='grey', xy=(mean_proportion + 0.5, mean_gap - 1), text='Mean')\n",
    "# else:\n",
    "#     plt.axhline(color='grey', linestyle='dotted')\n",
    "#\n",
    "# plt.title('Gender proportion versus relative pay gap')\n",
    "# plt.xlabel('Male developers per female developer')\n",
    "# plt.ylabel('Percentage higher wage of male developers')\n",
    "#\n",
    "# plt.show()\n",
    "\n",
    "# Seems like higher proportion males ~= better pay females"
   ]
  },
  {
   "cell_type": "code",
   "execution_count": 6,
   "outputs": [
    {
     "data": {
      "application/vnd.plotly.v1+json": {
       "data": [
        {
         "customdata": [
          [
           "Data scientist or machine learning specialist",
           13.099297423887588,
           2.8582333761580303
          ],
          [
           "Engineer, data",
           19.15230961298377,
           -1.9890513388519833
          ],
          [
           "Developer, front-end",
           13.389590347923681,
           3.707589729599456
          ],
          [
           "Student",
           12.472992700729927,
           1.3417406699155163
          ],
          [
           "Developer, full-stack",
           18.308324151056798,
           -0.34987040738475145
          ],
          [
           "Developer, back-end",
           19.07412432165762,
           5.722209301811055
          ],
          [
           "Developer, mobile",
           17.506729081334115,
           4.7893672512516945
          ],
          [
           "Developer, embedded applications or devices",
           26.220408163265308,
           7.56165580672311
          ],
          [
           "Engineer, site reliability",
           31.281954887218046,
           -7.579777904605152
          ],
          [
           "Developer, desktop or enterprise applications",
           23.32227016262861,
           7.803610843364613
          ],
          [
           "Educator or academic",
           12.855860908581043,
           4.341448700723221
          ],
          [
           "DevOps specialist",
           32.709734513274334,
           1.0975988720226093
          ],
          [
           "Database administrator",
           24.012696041822256,
           9.634382030943026
          ],
          [
           "Developer, QA or test",
           13.497643097643097,
           11.612011507499377
          ],
          [
           "Designer",
           13.520155415250121,
           8.706118220432788
          ],
          [
           "System administrator",
           32.20841300191205,
           5.83894676722251
          ],
          [
           "Engineering manager",
           28.389162561576356,
           -0.7394728431670561
          ],
          [
           "Data or business analyst",
           13.717917675544793,
           9.274840924997758
          ],
          [
           "Senior Executive (C-Suite, VP, etc.)",
           38.479553903345725,
           2.7044296927355647
          ],
          [
           "Product manager",
           20.482857142857142,
           -1.2252722217213752
          ],
          [
           "Developer, game or graphics",
           21.65764331210191,
           7.227224639323176
          ],
          [
           "Marketing or sales professional",
           9.544891640866872,
           14.175600449681042
          ],
          [
           "Scientist",
           15.241573033707866,
           5.484094799136047
          ]
         ],
         "hovertemplate": "%{customdata[0]}<extra></extra>",
         "legendgroup": "",
         "marker": {
          "color": "#636efa",
          "symbol": "circle"
         },
         "mode": "markers",
         "name": "",
         "orientation": "v",
         "showlegend": false,
         "x": [
          2135,
          801,
          7128,
          2740,
          9983,
          8108,
          3418,
          980,
          266,
          3013,
          1783,
          1130,
          1339,
          1485,
          2059,
          1046,
          609,
          1652,
          269,
          700,
          628,
          323,
          534
         ],
         "xaxis": "x",
         "y": [
          65158.19240597405,
          75325.5956607495,
          56208.28188129054,
          24305.91909385113,
          63244.18203090917,
          59966.05724768989,
          51105.66598443339,
          59861.76986404992,
          94545.53086419753,
          58737.94048560111,
          53202.038918918915,
          74852.57169890284,
          55181.62439613527,
          54414.41007308402,
          52160.98335018486,
          58649.4652234591,
          96706.08208955223,
          58489.556521739134,
          89667.64705882352,
          70848.27455919396,
          54540.193153018045,
          57418.29496402878,
          63313.38263665595
         ],
         "yaxis": "y",
         "type": "scatter"
        }
       ],
       "layout": {
        "template": {
         "data": {
          "histogram2dcontour": [
           {
            "type": "histogram2dcontour",
            "colorbar": {
             "outlinewidth": 0,
             "ticks": ""
            },
            "colorscale": [
             [
              0.0,
              "#0d0887"
             ],
             [
              0.1111111111111111,
              "#46039f"
             ],
             [
              0.2222222222222222,
              "#7201a8"
             ],
             [
              0.3333333333333333,
              "#9c179e"
             ],
             [
              0.4444444444444444,
              "#bd3786"
             ],
             [
              0.5555555555555556,
              "#d8576b"
             ],
             [
              0.6666666666666666,
              "#ed7953"
             ],
             [
              0.7777777777777778,
              "#fb9f3a"
             ],
             [
              0.8888888888888888,
              "#fdca26"
             ],
             [
              1.0,
              "#f0f921"
             ]
            ]
           }
          ],
          "choropleth": [
           {
            "type": "choropleth",
            "colorbar": {
             "outlinewidth": 0,
             "ticks": ""
            }
           }
          ],
          "histogram2d": [
           {
            "type": "histogram2d",
            "colorbar": {
             "outlinewidth": 0,
             "ticks": ""
            },
            "colorscale": [
             [
              0.0,
              "#0d0887"
             ],
             [
              0.1111111111111111,
              "#46039f"
             ],
             [
              0.2222222222222222,
              "#7201a8"
             ],
             [
              0.3333333333333333,
              "#9c179e"
             ],
             [
              0.4444444444444444,
              "#bd3786"
             ],
             [
              0.5555555555555556,
              "#d8576b"
             ],
             [
              0.6666666666666666,
              "#ed7953"
             ],
             [
              0.7777777777777778,
              "#fb9f3a"
             ],
             [
              0.8888888888888888,
              "#fdca26"
             ],
             [
              1.0,
              "#f0f921"
             ]
            ]
           }
          ],
          "heatmap": [
           {
            "type": "heatmap",
            "colorbar": {
             "outlinewidth": 0,
             "ticks": ""
            },
            "colorscale": [
             [
              0.0,
              "#0d0887"
             ],
             [
              0.1111111111111111,
              "#46039f"
             ],
             [
              0.2222222222222222,
              "#7201a8"
             ],
             [
              0.3333333333333333,
              "#9c179e"
             ],
             [
              0.4444444444444444,
              "#bd3786"
             ],
             [
              0.5555555555555556,
              "#d8576b"
             ],
             [
              0.6666666666666666,
              "#ed7953"
             ],
             [
              0.7777777777777778,
              "#fb9f3a"
             ],
             [
              0.8888888888888888,
              "#fdca26"
             ],
             [
              1.0,
              "#f0f921"
             ]
            ]
           }
          ],
          "heatmapgl": [
           {
            "type": "heatmapgl",
            "colorbar": {
             "outlinewidth": 0,
             "ticks": ""
            },
            "colorscale": [
             [
              0.0,
              "#0d0887"
             ],
             [
              0.1111111111111111,
              "#46039f"
             ],
             [
              0.2222222222222222,
              "#7201a8"
             ],
             [
              0.3333333333333333,
              "#9c179e"
             ],
             [
              0.4444444444444444,
              "#bd3786"
             ],
             [
              0.5555555555555556,
              "#d8576b"
             ],
             [
              0.6666666666666666,
              "#ed7953"
             ],
             [
              0.7777777777777778,
              "#fb9f3a"
             ],
             [
              0.8888888888888888,
              "#fdca26"
             ],
             [
              1.0,
              "#f0f921"
             ]
            ]
           }
          ],
          "contourcarpet": [
           {
            "type": "contourcarpet",
            "colorbar": {
             "outlinewidth": 0,
             "ticks": ""
            }
           }
          ],
          "contour": [
           {
            "type": "contour",
            "colorbar": {
             "outlinewidth": 0,
             "ticks": ""
            },
            "colorscale": [
             [
              0.0,
              "#0d0887"
             ],
             [
              0.1111111111111111,
              "#46039f"
             ],
             [
              0.2222222222222222,
              "#7201a8"
             ],
             [
              0.3333333333333333,
              "#9c179e"
             ],
             [
              0.4444444444444444,
              "#bd3786"
             ],
             [
              0.5555555555555556,
              "#d8576b"
             ],
             [
              0.6666666666666666,
              "#ed7953"
             ],
             [
              0.7777777777777778,
              "#fb9f3a"
             ],
             [
              0.8888888888888888,
              "#fdca26"
             ],
             [
              1.0,
              "#f0f921"
             ]
            ]
           }
          ],
          "surface": [
           {
            "type": "surface",
            "colorbar": {
             "outlinewidth": 0,
             "ticks": ""
            },
            "colorscale": [
             [
              0.0,
              "#0d0887"
             ],
             [
              0.1111111111111111,
              "#46039f"
             ],
             [
              0.2222222222222222,
              "#7201a8"
             ],
             [
              0.3333333333333333,
              "#9c179e"
             ],
             [
              0.4444444444444444,
              "#bd3786"
             ],
             [
              0.5555555555555556,
              "#d8576b"
             ],
             [
              0.6666666666666666,
              "#ed7953"
             ],
             [
              0.7777777777777778,
              "#fb9f3a"
             ],
             [
              0.8888888888888888,
              "#fdca26"
             ],
             [
              1.0,
              "#f0f921"
             ]
            ]
           }
          ],
          "mesh3d": [
           {
            "type": "mesh3d",
            "colorbar": {
             "outlinewidth": 0,
             "ticks": ""
            }
           }
          ],
          "scatter": [
           {
            "fillpattern": {
             "fillmode": "overlay",
             "size": 10,
             "solidity": 0.2
            },
            "type": "scatter"
           }
          ],
          "parcoords": [
           {
            "type": "parcoords",
            "line": {
             "colorbar": {
              "outlinewidth": 0,
              "ticks": ""
             }
            }
           }
          ],
          "scatterpolargl": [
           {
            "type": "scatterpolargl",
            "marker": {
             "colorbar": {
              "outlinewidth": 0,
              "ticks": ""
             }
            }
           }
          ],
          "bar": [
           {
            "error_x": {
             "color": "#2a3f5f"
            },
            "error_y": {
             "color": "#2a3f5f"
            },
            "marker": {
             "line": {
              "color": "#E5ECF6",
              "width": 0.5
             },
             "pattern": {
              "fillmode": "overlay",
              "size": 10,
              "solidity": 0.2
             }
            },
            "type": "bar"
           }
          ],
          "scattergeo": [
           {
            "type": "scattergeo",
            "marker": {
             "colorbar": {
              "outlinewidth": 0,
              "ticks": ""
             }
            }
           }
          ],
          "scatterpolar": [
           {
            "type": "scatterpolar",
            "marker": {
             "colorbar": {
              "outlinewidth": 0,
              "ticks": ""
             }
            }
           }
          ],
          "histogram": [
           {
            "marker": {
             "pattern": {
              "fillmode": "overlay",
              "size": 10,
              "solidity": 0.2
             }
            },
            "type": "histogram"
           }
          ],
          "scattergl": [
           {
            "type": "scattergl",
            "marker": {
             "colorbar": {
              "outlinewidth": 0,
              "ticks": ""
             }
            }
           }
          ],
          "scatter3d": [
           {
            "type": "scatter3d",
            "line": {
             "colorbar": {
              "outlinewidth": 0,
              "ticks": ""
             }
            },
            "marker": {
             "colorbar": {
              "outlinewidth": 0,
              "ticks": ""
             }
            }
           }
          ],
          "scattermapbox": [
           {
            "type": "scattermapbox",
            "marker": {
             "colorbar": {
              "outlinewidth": 0,
              "ticks": ""
             }
            }
           }
          ],
          "scatterternary": [
           {
            "type": "scatterternary",
            "marker": {
             "colorbar": {
              "outlinewidth": 0,
              "ticks": ""
             }
            }
           }
          ],
          "scattercarpet": [
           {
            "type": "scattercarpet",
            "marker": {
             "colorbar": {
              "outlinewidth": 0,
              "ticks": ""
             }
            }
           }
          ],
          "carpet": [
           {
            "aaxis": {
             "endlinecolor": "#2a3f5f",
             "gridcolor": "white",
             "linecolor": "white",
             "minorgridcolor": "white",
             "startlinecolor": "#2a3f5f"
            },
            "baxis": {
             "endlinecolor": "#2a3f5f",
             "gridcolor": "white",
             "linecolor": "white",
             "minorgridcolor": "white",
             "startlinecolor": "#2a3f5f"
            },
            "type": "carpet"
           }
          ],
          "table": [
           {
            "cells": {
             "fill": {
              "color": "#EBF0F8"
             },
             "line": {
              "color": "white"
             }
            },
            "header": {
             "fill": {
              "color": "#C8D4E3"
             },
             "line": {
              "color": "white"
             }
            },
            "type": "table"
           }
          ],
          "barpolar": [
           {
            "marker": {
             "line": {
              "color": "#E5ECF6",
              "width": 0.5
             },
             "pattern": {
              "fillmode": "overlay",
              "size": 10,
              "solidity": 0.2
             }
            },
            "type": "barpolar"
           }
          ],
          "pie": [
           {
            "automargin": true,
            "type": "pie"
           }
          ]
         },
         "layout": {
          "autotypenumbers": "strict",
          "colorway": [
           "#636efa",
           "#EF553B",
           "#00cc96",
           "#ab63fa",
           "#FFA15A",
           "#19d3f3",
           "#FF6692",
           "#B6E880",
           "#FF97FF",
           "#FECB52"
          ],
          "font": {
           "color": "#2a3f5f"
          },
          "hovermode": "closest",
          "hoverlabel": {
           "align": "left"
          },
          "paper_bgcolor": "white",
          "plot_bgcolor": "#E5ECF6",
          "polar": {
           "bgcolor": "#E5ECF6",
           "angularaxis": {
            "gridcolor": "white",
            "linecolor": "white",
            "ticks": ""
           },
           "radialaxis": {
            "gridcolor": "white",
            "linecolor": "white",
            "ticks": ""
           }
          },
          "ternary": {
           "bgcolor": "#E5ECF6",
           "aaxis": {
            "gridcolor": "white",
            "linecolor": "white",
            "ticks": ""
           },
           "baxis": {
            "gridcolor": "white",
            "linecolor": "white",
            "ticks": ""
           },
           "caxis": {
            "gridcolor": "white",
            "linecolor": "white",
            "ticks": ""
           }
          },
          "coloraxis": {
           "colorbar": {
            "outlinewidth": 0,
            "ticks": ""
           }
          },
          "colorscale": {
           "sequential": [
            [
             0.0,
             "#0d0887"
            ],
            [
             0.1111111111111111,
             "#46039f"
            ],
            [
             0.2222222222222222,
             "#7201a8"
            ],
            [
             0.3333333333333333,
             "#9c179e"
            ],
            [
             0.4444444444444444,
             "#bd3786"
            ],
            [
             0.5555555555555556,
             "#d8576b"
            ],
            [
             0.6666666666666666,
             "#ed7953"
            ],
            [
             0.7777777777777778,
             "#fb9f3a"
            ],
            [
             0.8888888888888888,
             "#fdca26"
            ],
            [
             1.0,
             "#f0f921"
            ]
           ],
           "sequentialminus": [
            [
             0.0,
             "#0d0887"
            ],
            [
             0.1111111111111111,
             "#46039f"
            ],
            [
             0.2222222222222222,
             "#7201a8"
            ],
            [
             0.3333333333333333,
             "#9c179e"
            ],
            [
             0.4444444444444444,
             "#bd3786"
            ],
            [
             0.5555555555555556,
             "#d8576b"
            ],
            [
             0.6666666666666666,
             "#ed7953"
            ],
            [
             0.7777777777777778,
             "#fb9f3a"
            ],
            [
             0.8888888888888888,
             "#fdca26"
            ],
            [
             1.0,
             "#f0f921"
            ]
           ],
           "diverging": [
            [
             0,
             "#8e0152"
            ],
            [
             0.1,
             "#c51b7d"
            ],
            [
             0.2,
             "#de77ae"
            ],
            [
             0.3,
             "#f1b6da"
            ],
            [
             0.4,
             "#fde0ef"
            ],
            [
             0.5,
             "#f7f7f7"
            ],
            [
             0.6,
             "#e6f5d0"
            ],
            [
             0.7,
             "#b8e186"
            ],
            [
             0.8,
             "#7fbc41"
            ],
            [
             0.9,
             "#4d9221"
            ],
            [
             1,
             "#276419"
            ]
           ]
          },
          "xaxis": {
           "gridcolor": "white",
           "linecolor": "white",
           "ticks": "",
           "title": {
            "standoff": 15
           },
           "zerolinecolor": "white",
           "automargin": true,
           "zerolinewidth": 2
          },
          "yaxis": {
           "gridcolor": "white",
           "linecolor": "white",
           "ticks": "",
           "title": {
            "standoff": 15
           },
           "zerolinecolor": "white",
           "automargin": true,
           "zerolinewidth": 2
          },
          "scene": {
           "xaxis": {
            "backgroundcolor": "#E5ECF6",
            "gridcolor": "white",
            "linecolor": "white",
            "showbackground": true,
            "ticks": "",
            "zerolinecolor": "white",
            "gridwidth": 2
           },
           "yaxis": {
            "backgroundcolor": "#E5ECF6",
            "gridcolor": "white",
            "linecolor": "white",
            "showbackground": true,
            "ticks": "",
            "zerolinecolor": "white",
            "gridwidth": 2
           },
           "zaxis": {
            "backgroundcolor": "#E5ECF6",
            "gridcolor": "white",
            "linecolor": "white",
            "showbackground": true,
            "ticks": "",
            "zerolinecolor": "white",
            "gridwidth": 2
           }
          },
          "shapedefaults": {
           "line": {
            "color": "#2a3f5f"
           }
          },
          "annotationdefaults": {
           "arrowcolor": "#2a3f5f",
           "arrowhead": 0,
           "arrowwidth": 1
          },
          "geo": {
           "bgcolor": "white",
           "landcolor": "#E5ECF6",
           "subunitcolor": "white",
           "showland": true,
           "showlakes": true,
           "lakecolor": "white"
          },
          "title": {
           "x": 0.05
          },
          "mapbox": {
           "style": "light"
          }
         }
        },
        "xaxis": {
         "anchor": "y",
         "domain": [
          0.0,
          1.0
         ],
         "title": {
          "text": "FemaleCount"
         }
        },
        "yaxis": {
         "anchor": "x",
         "domain": [
          0.0,
          1.0
         ],
         "title": {
          "text": "Salary of female developers"
         }
        },
        "legend": {
         "tracegroupgap": 0
        },
        "title": {
         "text": "Gender ratio of positions versus pay gap"
        },
        "width": 600
       },
       "config": {
        "plotlyServerURL": "https://plot.ly"
       }
      },
      "text/html": "<div>                            <div id=\"74b87093-0fc3-46b4-bff3-4b58d7a506f7\" class=\"plotly-graph-div\" style=\"height:525px; width:600px;\"></div>            <script type=\"text/javascript\">                require([\"plotly\"], function(Plotly) {                    window.PLOTLYENV=window.PLOTLYENV || {};                                    if (document.getElementById(\"74b87093-0fc3-46b4-bff3-4b58d7a506f7\")) {                    Plotly.newPlot(                        \"74b87093-0fc3-46b4-bff3-4b58d7a506f7\",                        [{\"customdata\":[[\"Data scientist or machine learning specialist\",13.099297423887588,2.8582333761580303],[\"Engineer, data\",19.15230961298377,-1.9890513388519833],[\"Developer, front-end\",13.389590347923681,3.707589729599456],[\"Student\",12.472992700729927,1.3417406699155163],[\"Developer, full-stack\",18.308324151056798,-0.34987040738475145],[\"Developer, back-end\",19.07412432165762,5.722209301811055],[\"Developer, mobile\",17.506729081334115,4.7893672512516945],[\"Developer, embedded applications or devices\",26.220408163265308,7.56165580672311],[\"Engineer, site reliability\",31.281954887218046,-7.579777904605152],[\"Developer, desktop or enterprise applications\",23.32227016262861,7.803610843364613],[\"Educator or academic\",12.855860908581043,4.341448700723221],[\"DevOps specialist\",32.709734513274334,1.0975988720226093],[\"Database administrator\",24.012696041822256,9.634382030943026],[\"Developer, QA or test\",13.497643097643097,11.612011507499377],[\"Designer\",13.520155415250121,8.706118220432788],[\"System administrator\",32.20841300191205,5.83894676722251],[\"Engineering manager\",28.389162561576356,-0.7394728431670561],[\"Data or business analyst\",13.717917675544793,9.274840924997758],[\"Senior Executive (C-Suite, VP, etc.)\",38.479553903345725,2.7044296927355647],[\"Product manager\",20.482857142857142,-1.2252722217213752],[\"Developer, game or graphics\",21.65764331210191,7.227224639323176],[\"Marketing or sales professional\",9.544891640866872,14.175600449681042],[\"Scientist\",15.241573033707866,5.484094799136047]],\"hovertemplate\":\"%{customdata[0]}<extra></extra>\",\"legendgroup\":\"\",\"marker\":{\"color\":\"#636efa\",\"symbol\":\"circle\"},\"mode\":\"markers\",\"name\":\"\",\"orientation\":\"v\",\"showlegend\":false,\"x\":[2135,801,7128,2740,9983,8108,3418,980,266,3013,1783,1130,1339,1485,2059,1046,609,1652,269,700,628,323,534],\"xaxis\":\"x\",\"y\":[65158.19240597405,75325.5956607495,56208.28188129054,24305.91909385113,63244.18203090917,59966.05724768989,51105.66598443339,59861.76986404992,94545.53086419753,58737.94048560111,53202.038918918915,74852.57169890284,55181.62439613527,54414.41007308402,52160.98335018486,58649.4652234591,96706.08208955223,58489.556521739134,89667.64705882352,70848.27455919396,54540.193153018045,57418.29496402878,63313.38263665595],\"yaxis\":\"y\",\"type\":\"scatter\"}],                        {\"template\":{\"data\":{\"histogram2dcontour\":[{\"type\":\"histogram2dcontour\",\"colorbar\":{\"outlinewidth\":0,\"ticks\":\"\"},\"colorscale\":[[0.0,\"#0d0887\"],[0.1111111111111111,\"#46039f\"],[0.2222222222222222,\"#7201a8\"],[0.3333333333333333,\"#9c179e\"],[0.4444444444444444,\"#bd3786\"],[0.5555555555555556,\"#d8576b\"],[0.6666666666666666,\"#ed7953\"],[0.7777777777777778,\"#fb9f3a\"],[0.8888888888888888,\"#fdca26\"],[1.0,\"#f0f921\"]]}],\"choropleth\":[{\"type\":\"choropleth\",\"colorbar\":{\"outlinewidth\":0,\"ticks\":\"\"}}],\"histogram2d\":[{\"type\":\"histogram2d\",\"colorbar\":{\"outlinewidth\":0,\"ticks\":\"\"},\"colorscale\":[[0.0,\"#0d0887\"],[0.1111111111111111,\"#46039f\"],[0.2222222222222222,\"#7201a8\"],[0.3333333333333333,\"#9c179e\"],[0.4444444444444444,\"#bd3786\"],[0.5555555555555556,\"#d8576b\"],[0.6666666666666666,\"#ed7953\"],[0.7777777777777778,\"#fb9f3a\"],[0.8888888888888888,\"#fdca26\"],[1.0,\"#f0f921\"]]}],\"heatmap\":[{\"type\":\"heatmap\",\"colorbar\":{\"outlinewidth\":0,\"ticks\":\"\"},\"colorscale\":[[0.0,\"#0d0887\"],[0.1111111111111111,\"#46039f\"],[0.2222222222222222,\"#7201a8\"],[0.3333333333333333,\"#9c179e\"],[0.4444444444444444,\"#bd3786\"],[0.5555555555555556,\"#d8576b\"],[0.6666666666666666,\"#ed7953\"],[0.7777777777777778,\"#fb9f3a\"],[0.8888888888888888,\"#fdca26\"],[1.0,\"#f0f921\"]]}],\"heatmapgl\":[{\"type\":\"heatmapgl\",\"colorbar\":{\"outlinewidth\":0,\"ticks\":\"\"},\"colorscale\":[[0.0,\"#0d0887\"],[0.1111111111111111,\"#46039f\"],[0.2222222222222222,\"#7201a8\"],[0.3333333333333333,\"#9c179e\"],[0.4444444444444444,\"#bd3786\"],[0.5555555555555556,\"#d8576b\"],[0.6666666666666666,\"#ed7953\"],[0.7777777777777778,\"#fb9f3a\"],[0.8888888888888888,\"#fdca26\"],[1.0,\"#f0f921\"]]}],\"contourcarpet\":[{\"type\":\"contourcarpet\",\"colorbar\":{\"outlinewidth\":0,\"ticks\":\"\"}}],\"contour\":[{\"type\":\"contour\",\"colorbar\":{\"outlinewidth\":0,\"ticks\":\"\"},\"colorscale\":[[0.0,\"#0d0887\"],[0.1111111111111111,\"#46039f\"],[0.2222222222222222,\"#7201a8\"],[0.3333333333333333,\"#9c179e\"],[0.4444444444444444,\"#bd3786\"],[0.5555555555555556,\"#d8576b\"],[0.6666666666666666,\"#ed7953\"],[0.7777777777777778,\"#fb9f3a\"],[0.8888888888888888,\"#fdca26\"],[1.0,\"#f0f921\"]]}],\"surface\":[{\"type\":\"surface\",\"colorbar\":{\"outlinewidth\":0,\"ticks\":\"\"},\"colorscale\":[[0.0,\"#0d0887\"],[0.1111111111111111,\"#46039f\"],[0.2222222222222222,\"#7201a8\"],[0.3333333333333333,\"#9c179e\"],[0.4444444444444444,\"#bd3786\"],[0.5555555555555556,\"#d8576b\"],[0.6666666666666666,\"#ed7953\"],[0.7777777777777778,\"#fb9f3a\"],[0.8888888888888888,\"#fdca26\"],[1.0,\"#f0f921\"]]}],\"mesh3d\":[{\"type\":\"mesh3d\",\"colorbar\":{\"outlinewidth\":0,\"ticks\":\"\"}}],\"scatter\":[{\"fillpattern\":{\"fillmode\":\"overlay\",\"size\":10,\"solidity\":0.2},\"type\":\"scatter\"}],\"parcoords\":[{\"type\":\"parcoords\",\"line\":{\"colorbar\":{\"outlinewidth\":0,\"ticks\":\"\"}}}],\"scatterpolargl\":[{\"type\":\"scatterpolargl\",\"marker\":{\"colorbar\":{\"outlinewidth\":0,\"ticks\":\"\"}}}],\"bar\":[{\"error_x\":{\"color\":\"#2a3f5f\"},\"error_y\":{\"color\":\"#2a3f5f\"},\"marker\":{\"line\":{\"color\":\"#E5ECF6\",\"width\":0.5},\"pattern\":{\"fillmode\":\"overlay\",\"size\":10,\"solidity\":0.2}},\"type\":\"bar\"}],\"scattergeo\":[{\"type\":\"scattergeo\",\"marker\":{\"colorbar\":{\"outlinewidth\":0,\"ticks\":\"\"}}}],\"scatterpolar\":[{\"type\":\"scatterpolar\",\"marker\":{\"colorbar\":{\"outlinewidth\":0,\"ticks\":\"\"}}}],\"histogram\":[{\"marker\":{\"pattern\":{\"fillmode\":\"overlay\",\"size\":10,\"solidity\":0.2}},\"type\":\"histogram\"}],\"scattergl\":[{\"type\":\"scattergl\",\"marker\":{\"colorbar\":{\"outlinewidth\":0,\"ticks\":\"\"}}}],\"scatter3d\":[{\"type\":\"scatter3d\",\"line\":{\"colorbar\":{\"outlinewidth\":0,\"ticks\":\"\"}},\"marker\":{\"colorbar\":{\"outlinewidth\":0,\"ticks\":\"\"}}}],\"scattermapbox\":[{\"type\":\"scattermapbox\",\"marker\":{\"colorbar\":{\"outlinewidth\":0,\"ticks\":\"\"}}}],\"scatterternary\":[{\"type\":\"scatterternary\",\"marker\":{\"colorbar\":{\"outlinewidth\":0,\"ticks\":\"\"}}}],\"scattercarpet\":[{\"type\":\"scattercarpet\",\"marker\":{\"colorbar\":{\"outlinewidth\":0,\"ticks\":\"\"}}}],\"carpet\":[{\"aaxis\":{\"endlinecolor\":\"#2a3f5f\",\"gridcolor\":\"white\",\"linecolor\":\"white\",\"minorgridcolor\":\"white\",\"startlinecolor\":\"#2a3f5f\"},\"baxis\":{\"endlinecolor\":\"#2a3f5f\",\"gridcolor\":\"white\",\"linecolor\":\"white\",\"minorgridcolor\":\"white\",\"startlinecolor\":\"#2a3f5f\"},\"type\":\"carpet\"}],\"table\":[{\"cells\":{\"fill\":{\"color\":\"#EBF0F8\"},\"line\":{\"color\":\"white\"}},\"header\":{\"fill\":{\"color\":\"#C8D4E3\"},\"line\":{\"color\":\"white\"}},\"type\":\"table\"}],\"barpolar\":[{\"marker\":{\"line\":{\"color\":\"#E5ECF6\",\"width\":0.5},\"pattern\":{\"fillmode\":\"overlay\",\"size\":10,\"solidity\":0.2}},\"type\":\"barpolar\"}],\"pie\":[{\"automargin\":true,\"type\":\"pie\"}]},\"layout\":{\"autotypenumbers\":\"strict\",\"colorway\":[\"#636efa\",\"#EF553B\",\"#00cc96\",\"#ab63fa\",\"#FFA15A\",\"#19d3f3\",\"#FF6692\",\"#B6E880\",\"#FF97FF\",\"#FECB52\"],\"font\":{\"color\":\"#2a3f5f\"},\"hovermode\":\"closest\",\"hoverlabel\":{\"align\":\"left\"},\"paper_bgcolor\":\"white\",\"plot_bgcolor\":\"#E5ECF6\",\"polar\":{\"bgcolor\":\"#E5ECF6\",\"angularaxis\":{\"gridcolor\":\"white\",\"linecolor\":\"white\",\"ticks\":\"\"},\"radialaxis\":{\"gridcolor\":\"white\",\"linecolor\":\"white\",\"ticks\":\"\"}},\"ternary\":{\"bgcolor\":\"#E5ECF6\",\"aaxis\":{\"gridcolor\":\"white\",\"linecolor\":\"white\",\"ticks\":\"\"},\"baxis\":{\"gridcolor\":\"white\",\"linecolor\":\"white\",\"ticks\":\"\"},\"caxis\":{\"gridcolor\":\"white\",\"linecolor\":\"white\",\"ticks\":\"\"}},\"coloraxis\":{\"colorbar\":{\"outlinewidth\":0,\"ticks\":\"\"}},\"colorscale\":{\"sequential\":[[0.0,\"#0d0887\"],[0.1111111111111111,\"#46039f\"],[0.2222222222222222,\"#7201a8\"],[0.3333333333333333,\"#9c179e\"],[0.4444444444444444,\"#bd3786\"],[0.5555555555555556,\"#d8576b\"],[0.6666666666666666,\"#ed7953\"],[0.7777777777777778,\"#fb9f3a\"],[0.8888888888888888,\"#fdca26\"],[1.0,\"#f0f921\"]],\"sequentialminus\":[[0.0,\"#0d0887\"],[0.1111111111111111,\"#46039f\"],[0.2222222222222222,\"#7201a8\"],[0.3333333333333333,\"#9c179e\"],[0.4444444444444444,\"#bd3786\"],[0.5555555555555556,\"#d8576b\"],[0.6666666666666666,\"#ed7953\"],[0.7777777777777778,\"#fb9f3a\"],[0.8888888888888888,\"#fdca26\"],[1.0,\"#f0f921\"]],\"diverging\":[[0,\"#8e0152\"],[0.1,\"#c51b7d\"],[0.2,\"#de77ae\"],[0.3,\"#f1b6da\"],[0.4,\"#fde0ef\"],[0.5,\"#f7f7f7\"],[0.6,\"#e6f5d0\"],[0.7,\"#b8e186\"],[0.8,\"#7fbc41\"],[0.9,\"#4d9221\"],[1,\"#276419\"]]},\"xaxis\":{\"gridcolor\":\"white\",\"linecolor\":\"white\",\"ticks\":\"\",\"title\":{\"standoff\":15},\"zerolinecolor\":\"white\",\"automargin\":true,\"zerolinewidth\":2},\"yaxis\":{\"gridcolor\":\"white\",\"linecolor\":\"white\",\"ticks\":\"\",\"title\":{\"standoff\":15},\"zerolinecolor\":\"white\",\"automargin\":true,\"zerolinewidth\":2},\"scene\":{\"xaxis\":{\"backgroundcolor\":\"#E5ECF6\",\"gridcolor\":\"white\",\"linecolor\":\"white\",\"showbackground\":true,\"ticks\":\"\",\"zerolinecolor\":\"white\",\"gridwidth\":2},\"yaxis\":{\"backgroundcolor\":\"#E5ECF6\",\"gridcolor\":\"white\",\"linecolor\":\"white\",\"showbackground\":true,\"ticks\":\"\",\"zerolinecolor\":\"white\",\"gridwidth\":2},\"zaxis\":{\"backgroundcolor\":\"#E5ECF6\",\"gridcolor\":\"white\",\"linecolor\":\"white\",\"showbackground\":true,\"ticks\":\"\",\"zerolinecolor\":\"white\",\"gridwidth\":2}},\"shapedefaults\":{\"line\":{\"color\":\"#2a3f5f\"}},\"annotationdefaults\":{\"arrowcolor\":\"#2a3f5f\",\"arrowhead\":0,\"arrowwidth\":1},\"geo\":{\"bgcolor\":\"white\",\"landcolor\":\"#E5ECF6\",\"subunitcolor\":\"white\",\"showland\":true,\"showlakes\":true,\"lakecolor\":\"white\"},\"title\":{\"x\":0.05},\"mapbox\":{\"style\":\"light\"}}},\"xaxis\":{\"anchor\":\"y\",\"domain\":[0.0,1.0],\"title\":{\"text\":\"FemaleCount\"}},\"yaxis\":{\"anchor\":\"x\",\"domain\":[0.0,1.0],\"title\":{\"text\":\"Salary of female developers\"}},\"legend\":{\"tracegroupgap\":0},\"title\":{\"text\":\"Gender ratio of positions versus pay gap\"},\"width\":600},                        {\"responsive\": true}                    ).then(function(){\n                            \nvar gd = document.getElementById('74b87093-0fc3-46b4-bff3-4b58d7a506f7');\nvar x = new MutationObserver(function (mutations, observer) {{\n        var display = window.getComputedStyle(gd).display;\n        if (!display || display === 'none') {{\n            console.log([gd, 'removed!']);\n            Plotly.purge(gd);\n            observer.disconnect();\n        }}\n}});\n\n// Listen for the removal of the full notebook cells\nvar notebookContainer = gd.closest('#notebook-container');\nif (notebookContainer) {{\n    x.observe(notebookContainer, {childList: true});\n}}\n\n// Listen for the clearing of the current output cell\nvar outputEl = gd.closest('.output');\nif (outputEl) {{\n    x.observe(outputEl, {childList: true});\n}}\n\n                        })                };                });            </script>        </div>"
     },
     "metadata": {},
     "output_type": "display_data"
    }
   ],
   "source": [
    "fig = px.scatter(df.reset_index(names='Position'), x='Prop', y='FemaleSalary', hover_data={'Position':True, 'Prop':False, 'Gap':False}, width=600, labels={\n",
    "    'Prop':'Average men per woman in position',\n",
    "    'FemaleSalary':'Salary of female developers',\n",
    "},  title='Gender ratio of positions versus pay gap')\n",
    "for series in fig.data:\n",
    "    series.hovertemplate = '%{customdata[0]}<extra></extra>'\n",
    "fig.show()"
   ],
   "metadata": {
    "collapsed": false,
    "ExecuteTime": {
     "end_time": "2023-06-20T17:45:10.819227Z",
     "start_time": "2023-06-20T17:45:10.788045Z"
    }
   }
  }
 ],
 "metadata": {
  "kernelspec": {
   "display_name": "Python 3 (ipykernel)",
   "language": "python",
   "name": "python3"
  },
  "language_info": {
   "codemirror_mode": {
    "name": "ipython",
    "version": 3
   },
   "file_extension": ".py",
   "mimetype": "text/x-python",
   "name": "python",
   "nbconvert_exporter": "python",
   "pygments_lexer": "ipython3",
   "version": "3.10.6"
  }
 },
 "nbformat": 4,
 "nbformat_minor": 1
}
