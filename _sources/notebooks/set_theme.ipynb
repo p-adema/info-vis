{
 "cells": [
  {
   "cell_type": "code",
   "execution_count": 1,
   "id": "0d5637c5",
   "metadata": {},
   "outputs": [],
   "source": [
    "import plotly.io as pio\n",
    "\n",
    "if 'custom' not in pio.templates:\n",
    "    transparent = 'rgba(0,0,0,0)'\n",
    "    bgcolor = '#ff0000'\n",
    "    black = '#343a42'\n",
    "    cyan = '#4edcda'\n",
    "    darkcyan = '#2b9694'\n",
    "    blue = '#645cff'\n",
    "    darkblue = '#3a34b5'\n",
    "    pink = '#f25fe9'\n",
    "    purple = '#a736a0'\n",
    "    red = '#f74e4e'\n",
    "    darkred = '#b33c3c'\n",
    "    green = '#2d8923'\n",
    "    darkgreen = '#2d8923'\n",
    "    orange = '#f7b24e'\n",
    "    darkorange = '#d8bea1'\n",
    "\n",
    "    pio.templates['custom'] = pio.templates['plotly']\n",
    "\n",
    "    pio.templates['custom'].update({\n",
    "        'data': {\n",
    "            'bar': [\n",
    "                {\n",
    "                    'marker': {\n",
    "                        'line': {'width': 0},\n",
    "                    }\n",
    "                }\n",
    "            ]\n",
    "        },\n",
    "        'layout': {\n",
    "            'paper_bgcolor': '#fdead4',\n",
    "            'plot_bgcolor': transparent,\n",
    "            'font': {'color': black},\n",
    "            'xaxis': {\n",
    "                'zerolinecolor': darkorange,\n",
    "                'gridcolor': darkorange,\n",
    "                'zerolinewidth': 1,\n",
    "            },\n",
    "            'yaxis': {\n",
    "                'zerolinecolor': darkorange,\n",
    "                'gridcolor': darkorange,\n",
    "                'zerolinewidth': 1\n",
    "            },    \n",
    "           'colorway': [black, \n",
    "                        cyan,     blue,     pink,   red,     green,     orange\n",
    "                        darkcyan, darkblue, purple, darkred, darkgreen],\n",
    "            'title': {'x': 0.5},\n",
    "            'annotationdefaults': {'arrowcolor': black},\n",
    "\n",
    "        }\n",
    "    })\n",
    "\n",
    "    pio.templates.default = 'custom'"
   ]
  },
  {
   "cell_type": "code",
   "execution_count": null,
   "id": "a4de6184",
   "metadata": {},
   "outputs": [],
   "source": []
  }
 ],
 "metadata": {
  "kernelspec": {
   "display_name": "Python 3 (ipykernel)",
   "language": "python",
   "name": "python3"
  },
  "language_info": {
   "codemirror_mode": {
    "name": "ipython",
    "version": 3
   },
   "file_extension": ".py",
   "mimetype": "text/x-python",
   "name": "python",
   "nbconvert_exporter": "python",
   "pygments_lexer": "ipython3",
   "version": "3.10.6"
  }
 },
 "nbformat": 4,
 "nbformat_minor": 5
}
