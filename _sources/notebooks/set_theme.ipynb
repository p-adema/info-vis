{
 "cells": [
  {
   "cell_type": "markdown",
   "id": "cf7178f4",
   "metadata": {},
   "source": [
    "# Theme\n",
    "\n",
    "The code below enables a custom theme which can be added to the top of each notebook by adding `%run set_theme.ipynb`, preferablly as the first cell to keep it consistent."
   ]
  },
  {
   "cell_type": "code",
   "execution_count": 1,
   "id": "0d5637c5",
   "metadata": {},
   "outputs": [],
   "source": [
    "import plotly.io as pio\n",
    "\n",
    "if 'custom' not in pio.templates:\n",
    "    transparent = 'rgba(0,0,0,0)'\n",
    "    bgcolor = '#fdead4'\n",
    "    black = '#343a42'\n",
    "    cyan = '#4edcda'\n",
    "    darkcyan = '#2b9694'\n",
    "    blue = '#4c75eb'\n",
    "    darkblue = '#3a34b5'\n",
    "    pink = '#ef4de5'\n",
    "    purple = '#a736a0'\n",
    "    red = '#f74e4e'\n",
    "    darkred = '#b33c3c'\n",
    "    green = '#2d8923'\n",
    "    darkgreen = '#2d8923'\n",
    "    orange = '#f7b24e'\n",
    "    brown = '#d8bea1'\n",
    "\n",
    "    pio.templates['custom'] = pio.templates['plotly']\n",
    "\n",
    "    pio.templates['custom'].update({\n",
    "        'data': {\n",
    "            'bar': [\n",
    "                {\n",
    "                    'marker': {\n",
    "                        'line': {'width': 0},\n",
    "                    }\n",
    "                }\n",
    "            ]\n",
    "        },\n",
    "        'layout': {\n",
    "            'paper_bgcolor': bgcolor,\n",
    "            'plot_bgcolor': transparent,\n",
    "            'font': {'color': black},\n",
    "            'xaxis': {\n",
    "                'zerolinecolor': brown,\n",
    "                'gridcolor': brown,\n",
    "                'zerolinewidth': 1,\n",
    "            },\n",
    "            'yaxis': {\n",
    "                'zerolinecolor': brown,\n",
    "                'gridcolor': brown,\n",
    "                'zerolinewidth': 1\n",
    "            },    \n",
    "           'colorway': [black, \n",
    "                        cyan,     blue,     pink,   red,     green,     orange,\n",
    "                        darkcyan, darkblue, purple, darkred, darkgreen],\n",
    "            'title': {'x': 0.5},\n",
    "            'annotationdefaults': {'arrowcolor': black},\n",
    "\n",
    "        }\n",
    "    })\n",
    "\n",
    "    pio.templates.default = 'custom'"
   ]
  }
 ],
 "metadata": {
  "kernelspec": {
   "display_name": "Python 3 (ipykernel)",
   "language": "python",
   "name": "python3"
  },
  "language_info": {
   "codemirror_mode": {
    "name": "ipython",
    "version": 3
   },
   "file_extension": ".py",
   "mimetype": "text/x-python",
   "name": "python",
   "nbconvert_exporter": "python",
   "pygments_lexer": "ipython3",
   "version": "3.10.6"
  }
 },
 "nbformat": 4,
 "nbformat_minor": 5
}
