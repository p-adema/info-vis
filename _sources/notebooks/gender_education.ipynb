{
 "cells": [
  {
   "cell_type": "code",
   "execution_count": 1,
   "metadata": {},
   "outputs": [],
   "source": [
    "%run set_theme.ipynb"
   ]
  },
  {
   "cell_type": "code",
   "execution_count": 2,
   "metadata": {},
   "outputs": [],
   "source": [
    "import pandas as pd\n",
    "import plotly.graph_objects as go"
   ]
  },
  {
   "cell_type": "code",
   "execution_count": 3,
   "metadata": {},
   "outputs": [],
   "source": [
    "full = pd.read_parquet('../data/SO_2014_2022.pq')"
   ]
  },
  {
   "cell_type": "code",
   "execution_count": 4,
   "metadata": {},
   "outputs": [
    {
     "data": {
      "text/html": [
       "<div>\n",
       "<style scoped>\n",
       "    .dataframe tbody tr th:only-of-type {\n",
       "        vertical-align: middle;\n",
       "    }\n",
       "\n",
       "    .dataframe tbody tr th {\n",
       "        vertical-align: top;\n",
       "    }\n",
       "\n",
       "    .dataframe thead th {\n",
       "        text-align: right;\n",
       "    }\n",
       "</style>\n",
       "<table border=\"1\" class=\"dataframe\">\n",
       "  <thead>\n",
       "    <tr style=\"text-align: right;\">\n",
       "      <th></th>\n",
       "      <th>master/doctorate</th>\n",
       "      <th>bachelor/tertiary</th>\n",
       "      <th>secondary</th>\n",
       "      <th>primary</th>\n",
       "    </tr>\n",
       "    <tr>\n",
       "      <th>Gender</th>\n",
       "      <th></th>\n",
       "      <th></th>\n",
       "      <th></th>\n",
       "      <th></th>\n",
       "    </tr>\n",
       "  </thead>\n",
       "  <tbody>\n",
       "    <tr>\n",
       "      <th>female</th>\n",
       "      <td>28.899066</td>\n",
       "      <td>91.328082</td>\n",
       "      <td>99.219637</td>\n",
       "      <td>100</td>\n",
       "    </tr>\n",
       "    <tr>\n",
       "      <th>male</th>\n",
       "      <td>27.144707</td>\n",
       "      <td>89.210283</td>\n",
       "      <td>98.916874</td>\n",
       "      <td>100</td>\n",
       "    </tr>\n",
       "  </tbody>\n",
       "</table>\n",
       "</div>"
      ],
      "text/plain": [
       "        master/doctorate  bachelor/tertiary  secondary  primary\n",
       "Gender                                                         \n",
       "female         28.899066          91.328082  99.219637      100\n",
       "male           27.144707          89.210283  98.916874      100"
      ]
     },
     "execution_count": 4,
     "metadata": {},
     "output_type": "execute_result"
    }
   ],
   "source": [
    "df = full.groupby('Gender')['Education'].value_counts()\n",
    "res = pd.DataFrame()\n",
    "\n",
    "res['master/doctorate'] = df.loc[:, 'doctor'] + df.loc[:, 'professional'] + df.loc[:, 'master']\n",
    "res['bachelor/tertiary'] = df.loc[:, 'bachelor'] + df.loc[:, 'tertiary'] + df.loc[:, 'assoc']\n",
    "res['secondary'] = df.loc[:, 'secondary']\n",
    "res['primary'] = df.loc[:, 'primary'] + df.loc[:, 'none']\n",
    "res = res.cumsum(axis=1)\n",
    "res.loc['male'] *= 1 / res.loc['male']['primary'] * 100\n",
    "res.loc['female'] *= 1 / res.loc['female']['primary'] * 100\n",
    "res"
   ]
  },
  {
   "cell_type": "code",
   "execution_count": 14,
   "metadata": {
    "ExecuteTime": {
     "end_time": "2023-06-19T14:24:25.864610Z",
     "start_time": "2023-06-19T14:24:25.836699Z"
    }
   },
   "outputs": [
    {
     "data": {
      "application/vnd.plotly.v1+json": {
       "config": {
        "plotlyServerURL": "https://plot.ly"
       },
       "data": [
        {
         "arrangement": "snap",
         "hoverlabel": {
          "font": {
           "color": "white"
          }
         },
         "link": {
          "arrowlen": 14,
          "color": [
           "rgba(100,92,255,0.3)",
           "rgba(100,92,255,0.3)",
           "rgba(100,92,255,0.3)",
           "rgba(100,92,255,0.3)",
           "rgba(100,92,255,0.3)",
           "rgba(100,92,255,0.3)",
           "rgba(100,92,255,0.3)",
           "rgba(242,95,233,0.3)",
           "rgba(242,95,233,0.3)",
           "rgba(242,95,233,0.3)",
           "rgba(242,95,233,0.3)",
           "rgba(242,95,233,0.3)",
           "rgba(242,95,233,0.3)",
           "rgba(242,95,233,0.3)",
           "rgba(255,255,255,0)",
           "rgba(255,255,255,0)"
          ],
          "customdata": [
           "Almost all male respondents<br>completed secondary education",
           "",
           "Most male respondents continued to tertiary education,<br>though slightly less than female respondents",
           "",
           "Over a quarter of male respondents continued to a master or doctorate,<br>though slightly less than female respondents",
           "",
           "",
           "Almost all female respondents<br>completed secondary education",
           "",
           "Most female respondents continued to tertiary education,<br>though slightly more than female respondents",
           "",
           "Over a quarter of female respondents continued to a master or doctorate,<br>though slightly more than male respondents"
          ],
          "hovertemplate": " %{customdata}<extra></extra>",
          "source": [
           1,
           1,
           2,
           2,
           3,
           3,
           4,
           5,
           5,
           6,
           6,
           7,
           7,
           8,
           9,
           9
          ],
          "target": [
           2,
           0,
           3,
           0,
           4,
           0,
           0,
           6,
           0,
           7,
           0,
           8,
           0,
           0,
           1,
           5
          ],
          "value": [
           98.91687436465058,
           0,
           89.21028324328788,
           0,
           27.144707442554093,
           0,
           0,
           99.21963729620809,
           0,
           91.3280820663125,
           0,
           28.899065762960248,
           0,
           0,
           100,
           100
          ]
         },
         "node": {
          "color": [
           "green",
           "#645cff",
           "#645cff",
           "#645cff",
           "#645cff",
           "#f25fe9",
           "#f25fe9",
           "#f25fe9",
           "#f25fe9"
          ],
          "customdata": [
           "",
           "All valid answers from male<br> respondents were used",
           "Male respondents, secondary degree",
           "Male respondents, tertiary education",
           "Male respondents, master / doctorate",
           "All valid answers from female<br> respondents were used",
           "Female respondents, secondary degree",
           "Female respondents, tertiary education",
           "Female respondents, master / doctorate"
          ],
          "hovertemplate": "%{customdata}<extra></extra>",
          "pad": 15,
          "thickness": 20,
          "x": [
           0.05,
           0.33,
           0.62,
           0.9,
           0.05,
           0.33,
           0.62,
           0.9,
           -1
          ],
          "y": [
           0.3,
           0.3,
           0.735,
           0.5865,
           0.2,
           0.2,
           0.2,
           0.05,
           0.1
          ]
         },
         "type": "sankey"
        }
       ],
       "layout": {
        "annotations": [
         {
          "font": {
           "color": "grey",
           "size": 10
          },
          "showarrow": false,
          "text": "Approximately equal, slightly higher for female respondents",
          "x": 0.5,
          "xanchor": "center",
          "y": 1.13
         },
         {
          "showarrow": false,
          "text": "All respondents",
          "x": -0.02,
          "y": -0.1
         },
         {
          "showarrow": false,
          "text": "Secondary",
          "x": 0.28,
          "y": -0.1
         },
         {
          "showarrow": false,
          "text": "Bachelor/Tertiary",
          "x": 0.62,
          "y": -0.1
         },
         {
          "showarrow": false,
          "text": "Master/PhD",
          "x": 0.955,
          "y": -0.1
         },
         {
          "showarrow": false,
          "text": "98.9%",
          "x": 0.155,
          "y": 0.415
         },
         {
          "showarrow": false,
          "text": "89.2%",
          "x": 0.47,
          "y": 0.415
         },
         {
          "showarrow": false,
          "text": "27.1%",
          "x": 0.79,
          "y": 0.415
         },
         {
          "showarrow": false,
          "text": "99.2%",
          "x": 0.155,
          "y": 0.965
         },
         {
          "showarrow": false,
          "text": "91.3%",
          "x": 0.47,
          "y": 0.965
         },
         {
          "showarrow": false,
          "text": "28.9%",
          "x": 0.79,
          "y": 0.965
         },
         {
          "showarrow": false,
          "text": "Female",
          "x": -0.07,
          "y": 0.8
         },
         {
          "showarrow": false,
          "text": "Male",
          "x": -0.05,
          "y": 0.2
         }
        ],
        "font": {
         "size": 15
        },
        "modebar": {
         "remove": [
          "lasso2d",
          "select2d",
          "resetsankeygroup"
         ]
        },
        "template": {
         "data": {
          "bar": [
           {
            "error_x": {
             "color": "#2a3f5f"
            },
            "error_y": {
             "color": "#2a3f5f"
            },
            "marker": {
             "line": {
              "color": "#E5ECF6",
              "width": 0
             },
             "pattern": {
              "fillmode": "overlay",
              "size": 10,
              "solidity": 0.2
             }
            },
            "type": "bar"
           }
          ],
          "barpolar": [
           {
            "marker": {
             "line": {
              "color": "#E5ECF6",
              "width": 0.5
             },
             "pattern": {
              "fillmode": "overlay",
              "size": 10,
              "solidity": 0.2
             }
            },
            "type": "barpolar"
           }
          ],
          "carpet": [
           {
            "aaxis": {
             "endlinecolor": "#2a3f5f",
             "gridcolor": "white",
             "linecolor": "white",
             "minorgridcolor": "white",
             "startlinecolor": "#2a3f5f"
            },
            "baxis": {
             "endlinecolor": "#2a3f5f",
             "gridcolor": "white",
             "linecolor": "white",
             "minorgridcolor": "white",
             "startlinecolor": "#2a3f5f"
            },
            "type": "carpet"
           }
          ],
          "choropleth": [
           {
            "colorbar": {
             "outlinewidth": 0,
             "ticks": ""
            },
            "type": "choropleth"
           }
          ],
          "contour": [
           {
            "colorbar": {
             "outlinewidth": 0,
             "ticks": ""
            },
            "colorscale": [
             [
              0,
              "#0d0887"
             ],
             [
              0.1111111111111111,
              "#46039f"
             ],
             [
              0.2222222222222222,
              "#7201a8"
             ],
             [
              0.3333333333333333,
              "#9c179e"
             ],
             [
              0.4444444444444444,
              "#bd3786"
             ],
             [
              0.5555555555555556,
              "#d8576b"
             ],
             [
              0.6666666666666666,
              "#ed7953"
             ],
             [
              0.7777777777777778,
              "#fb9f3a"
             ],
             [
              0.8888888888888888,
              "#fdca26"
             ],
             [
              1,
              "#f0f921"
             ]
            ],
            "type": "contour"
           }
          ],
          "contourcarpet": [
           {
            "colorbar": {
             "outlinewidth": 0,
             "ticks": ""
            },
            "type": "contourcarpet"
           }
          ],
          "heatmap": [
           {
            "colorbar": {
             "outlinewidth": 0,
             "ticks": ""
            },
            "colorscale": [
             [
              0,
              "#0d0887"
             ],
             [
              0.1111111111111111,
              "#46039f"
             ],
             [
              0.2222222222222222,
              "#7201a8"
             ],
             [
              0.3333333333333333,
              "#9c179e"
             ],
             [
              0.4444444444444444,
              "#bd3786"
             ],
             [
              0.5555555555555556,
              "#d8576b"
             ],
             [
              0.6666666666666666,
              "#ed7953"
             ],
             [
              0.7777777777777778,
              "#fb9f3a"
             ],
             [
              0.8888888888888888,
              "#fdca26"
             ],
             [
              1,
              "#f0f921"
             ]
            ],
            "type": "heatmap"
           }
          ],
          "heatmapgl": [
           {
            "colorbar": {
             "outlinewidth": 0,
             "ticks": ""
            },
            "colorscale": [
             [
              0,
              "#0d0887"
             ],
             [
              0.1111111111111111,
              "#46039f"
             ],
             [
              0.2222222222222222,
              "#7201a8"
             ],
             [
              0.3333333333333333,
              "#9c179e"
             ],
             [
              0.4444444444444444,
              "#bd3786"
             ],
             [
              0.5555555555555556,
              "#d8576b"
             ],
             [
              0.6666666666666666,
              "#ed7953"
             ],
             [
              0.7777777777777778,
              "#fb9f3a"
             ],
             [
              0.8888888888888888,
              "#fdca26"
             ],
             [
              1,
              "#f0f921"
             ]
            ],
            "type": "heatmapgl"
           }
          ],
          "histogram": [
           {
            "marker": {
             "pattern": {
              "fillmode": "overlay",
              "size": 10,
              "solidity": 0.2
             }
            },
            "type": "histogram"
           }
          ],
          "histogram2d": [
           {
            "colorbar": {
             "outlinewidth": 0,
             "ticks": ""
            },
            "colorscale": [
             [
              0,
              "#0d0887"
             ],
             [
              0.1111111111111111,
              "#46039f"
             ],
             [
              0.2222222222222222,
              "#7201a8"
             ],
             [
              0.3333333333333333,
              "#9c179e"
             ],
             [
              0.4444444444444444,
              "#bd3786"
             ],
             [
              0.5555555555555556,
              "#d8576b"
             ],
             [
              0.6666666666666666,
              "#ed7953"
             ],
             [
              0.7777777777777778,
              "#fb9f3a"
             ],
             [
              0.8888888888888888,
              "#fdca26"
             ],
             [
              1,
              "#f0f921"
             ]
            ],
            "type": "histogram2d"
           }
          ],
          "histogram2dcontour": [
           {
            "colorbar": {
             "outlinewidth": 0,
             "ticks": ""
            },
            "colorscale": [
             [
              0,
              "#0d0887"
             ],
             [
              0.1111111111111111,
              "#46039f"
             ],
             [
              0.2222222222222222,
              "#7201a8"
             ],
             [
              0.3333333333333333,
              "#9c179e"
             ],
             [
              0.4444444444444444,
              "#bd3786"
             ],
             [
              0.5555555555555556,
              "#d8576b"
             ],
             [
              0.6666666666666666,
              "#ed7953"
             ],
             [
              0.7777777777777778,
              "#fb9f3a"
             ],
             [
              0.8888888888888888,
              "#fdca26"
             ],
             [
              1,
              "#f0f921"
             ]
            ],
            "type": "histogram2dcontour"
           }
          ],
          "mesh3d": [
           {
            "colorbar": {
             "outlinewidth": 0,
             "ticks": ""
            },
            "type": "mesh3d"
           }
          ],
          "parcoords": [
           {
            "line": {
             "colorbar": {
              "outlinewidth": 0,
              "ticks": ""
             }
            },
            "type": "parcoords"
           }
          ],
          "pie": [
           {
            "automargin": true,
            "type": "pie"
           }
          ],
          "scatter": [
           {
            "fillpattern": {
             "fillmode": "overlay",
             "size": 10,
             "solidity": 0.2
            },
            "type": "scatter"
           }
          ],
          "scatter3d": [
           {
            "line": {
             "colorbar": {
              "outlinewidth": 0,
              "ticks": ""
             }
            },
            "marker": {
             "colorbar": {
              "outlinewidth": 0,
              "ticks": ""
             }
            },
            "type": "scatter3d"
           }
          ],
          "scattercarpet": [
           {
            "marker": {
             "colorbar": {
              "outlinewidth": 0,
              "ticks": ""
             }
            },
            "type": "scattercarpet"
           }
          ],
          "scattergeo": [
           {
            "marker": {
             "colorbar": {
              "outlinewidth": 0,
              "ticks": ""
             }
            },
            "type": "scattergeo"
           }
          ],
          "scattergl": [
           {
            "marker": {
             "colorbar": {
              "outlinewidth": 0,
              "ticks": ""
             }
            },
            "type": "scattergl"
           }
          ],
          "scattermapbox": [
           {
            "marker": {
             "colorbar": {
              "outlinewidth": 0,
              "ticks": ""
             }
            },
            "type": "scattermapbox"
           }
          ],
          "scatterpolar": [
           {
            "marker": {
             "colorbar": {
              "outlinewidth": 0,
              "ticks": ""
             }
            },
            "type": "scatterpolar"
           }
          ],
          "scatterpolargl": [
           {
            "marker": {
             "colorbar": {
              "outlinewidth": 0,
              "ticks": ""
             }
            },
            "type": "scatterpolargl"
           }
          ],
          "scatterternary": [
           {
            "marker": {
             "colorbar": {
              "outlinewidth": 0,
              "ticks": ""
             }
            },
            "type": "scatterternary"
           }
          ],
          "surface": [
           {
            "colorbar": {
             "outlinewidth": 0,
             "ticks": ""
            },
            "colorscale": [
             [
              0,
              "#0d0887"
             ],
             [
              0.1111111111111111,
              "#46039f"
             ],
             [
              0.2222222222222222,
              "#7201a8"
             ],
             [
              0.3333333333333333,
              "#9c179e"
             ],
             [
              0.4444444444444444,
              "#bd3786"
             ],
             [
              0.5555555555555556,
              "#d8576b"
             ],
             [
              0.6666666666666666,
              "#ed7953"
             ],
             [
              0.7777777777777778,
              "#fb9f3a"
             ],
             [
              0.8888888888888888,
              "#fdca26"
             ],
             [
              1,
              "#f0f921"
             ]
            ],
            "type": "surface"
           }
          ],
          "table": [
           {
            "cells": {
             "fill": {
              "color": "#EBF0F8"
             },
             "line": {
              "color": "white"
             }
            },
            "header": {
             "fill": {
              "color": "#C8D4E3"
             },
             "line": {
              "color": "white"
             }
            },
            "type": "table"
           }
          ]
         },
         "layout": {
          "annotationdefaults": {
           "arrowcolor": "#343a42",
           "arrowhead": 0,
           "arrowwidth": 1
          },
          "autotypenumbers": "strict",
          "coloraxis": {
           "colorbar": {
            "outlinewidth": 0,
            "ticks": ""
           }
          },
          "colorscale": {
           "diverging": [
            [
             0,
             "#8e0152"
            ],
            [
             0.1,
             "#c51b7d"
            ],
            [
             0.2,
             "#de77ae"
            ],
            [
             0.3,
             "#f1b6da"
            ],
            [
             0.4,
             "#fde0ef"
            ],
            [
             0.5,
             "#f7f7f7"
            ],
            [
             0.6,
             "#e6f5d0"
            ],
            [
             0.7,
             "#b8e186"
            ],
            [
             0.8,
             "#7fbc41"
            ],
            [
             0.9,
             "#4d9221"
            ],
            [
             1,
             "#276419"
            ]
           ],
           "sequential": [
            [
             0,
             "#0d0887"
            ],
            [
             0.1111111111111111,
             "#46039f"
            ],
            [
             0.2222222222222222,
             "#7201a8"
            ],
            [
             0.3333333333333333,
             "#9c179e"
            ],
            [
             0.4444444444444444,
             "#bd3786"
            ],
            [
             0.5555555555555556,
             "#d8576b"
            ],
            [
             0.6666666666666666,
             "#ed7953"
            ],
            [
             0.7777777777777778,
             "#fb9f3a"
            ],
            [
             0.8888888888888888,
             "#fdca26"
            ],
            [
             1,
             "#f0f921"
            ]
           ],
           "sequentialminus": [
            [
             0,
             "#0d0887"
            ],
            [
             0.1111111111111111,
             "#46039f"
            ],
            [
             0.2222222222222222,
             "#7201a8"
            ],
            [
             0.3333333333333333,
             "#9c179e"
            ],
            [
             0.4444444444444444,
             "#bd3786"
            ],
            [
             0.5555555555555556,
             "#d8576b"
            ],
            [
             0.6666666666666666,
             "#ed7953"
            ],
            [
             0.7777777777777778,
             "#fb9f3a"
            ],
            [
             0.8888888888888888,
             "#fdca26"
            ],
            [
             1,
             "#f0f921"
            ]
           ]
          },
          "colorway": [
           "#343a42",
           "#4edcda",
           "#645cff",
           "#f25fe9",
           "#f74e4e",
           "#73ef5a",
           "#f7b24e"
          ],
          "font": {
           "color": "#343a42"
          },
          "geo": {
           "bgcolor": "white",
           "lakecolor": "white",
           "landcolor": "#E5ECF6",
           "showlakes": true,
           "showland": true,
           "subunitcolor": "white"
          },
          "hoverlabel": {
           "align": "left"
          },
          "hovermode": "closest",
          "mapbox": {
           "style": "light"
          },
          "paper_bgcolor": "#fdead4",
          "plot_bgcolor": "rgba(0,0,0,0)",
          "polar": {
           "angularaxis": {
            "gridcolor": "white",
            "linecolor": "white",
            "ticks": ""
           },
           "bgcolor": "#E5ECF6",
           "radialaxis": {
            "gridcolor": "white",
            "linecolor": "white",
            "ticks": ""
           }
          },
          "scene": {
           "xaxis": {
            "backgroundcolor": "#E5ECF6",
            "gridcolor": "white",
            "gridwidth": 2,
            "linecolor": "white",
            "showbackground": true,
            "ticks": "",
            "zerolinecolor": "white"
           },
           "yaxis": {
            "backgroundcolor": "#E5ECF6",
            "gridcolor": "white",
            "gridwidth": 2,
            "linecolor": "white",
            "showbackground": true,
            "ticks": "",
            "zerolinecolor": "white"
           },
           "zaxis": {
            "backgroundcolor": "#E5ECF6",
            "gridcolor": "white",
            "gridwidth": 2,
            "linecolor": "white",
            "showbackground": true,
            "ticks": "",
            "zerolinecolor": "white"
           }
          },
          "shapedefaults": {
           "line": {
            "color": "#2a3f5f"
           }
          },
          "ternary": {
           "aaxis": {
            "gridcolor": "white",
            "linecolor": "white",
            "ticks": ""
           },
           "baxis": {
            "gridcolor": "white",
            "linecolor": "white",
            "ticks": ""
           },
           "bgcolor": "#E5ECF6",
           "caxis": {
            "gridcolor": "white",
            "linecolor": "white",
            "ticks": ""
           }
          },
          "title": {
           "x": 0.5
          },
          "xaxis": {
           "automargin": true,
           "gridcolor": "#d8bea1",
           "linecolor": "white",
           "ticks": "",
           "title": {
            "standoff": 15
           },
           "zerolinecolor": "#d8bea1",
           "zerolinewidth": 1
          },
          "yaxis": {
           "automargin": true,
           "gridcolor": "#d8bea1",
           "linecolor": "white",
           "ticks": "",
           "title": {
            "standoff": 15
           },
           "zerolinecolor": "#d8bea1",
           "zerolinewidth": 1
          }
         }
        },
        "title": {
         "text": "Retention in education system by gender"
        }
       }
      },
      "text/html": [
       "<div>                            <div id=\"d2fd071d-798f-4882-9c6b-491d2e81cd67\" class=\"plotly-graph-div\" style=\"height:525px; width:100%;\"></div>            <script type=\"text/javascript\">                require([\"plotly\"], function(Plotly) {                    window.PLOTLYENV=window.PLOTLYENV || {};                                    if (document.getElementById(\"d2fd071d-798f-4882-9c6b-491d2e81cd67\")) {                    Plotly.newPlot(                        \"d2fd071d-798f-4882-9c6b-491d2e81cd67\",                        [{\"arrangement\":\"snap\",\"link\":{\"arrowlen\":14,\"color\":[\"rgba(100,92,255,0.3)\",\"rgba(100,92,255,0.3)\",\"rgba(100,92,255,0.3)\",\"rgba(100,92,255,0.3)\",\"rgba(100,92,255,0.3)\",\"rgba(100,92,255,0.3)\",\"rgba(100,92,255,0.3)\",\"rgba(242,95,233,0.3)\",\"rgba(242,95,233,0.3)\",\"rgba(242,95,233,0.3)\",\"rgba(242,95,233,0.3)\",\"rgba(242,95,233,0.3)\",\"rgba(242,95,233,0.3)\",\"rgba(242,95,233,0.3)\",\"rgba(255,255,255,0)\",\"rgba(255,255,255,0)\"],\"customdata\":[\"Almost all male respondents\\u003cbr\\u003ecompleted secondary education\",\"\",\"Most male respondents continued to tertiary education,\\u003cbr\\u003ethough slightly less than female respondents\",\"\",\"Over a quarter of male respondents continued to a master or doctorate,\\u003cbr\\u003ethough slightly less than female respondents\",\"\",\"\",\"Almost all female respondents\\u003cbr\\u003ecompleted secondary education\",\"\",\"Most female respondents continued to tertiary education,\\u003cbr\\u003ethough slightly more than female respondents\",\"\",\"Over a quarter of female respondents continued to a master or doctorate,\\u003cbr\\u003ethough slightly more than male respondents\"],\"hovertemplate\":\" %{customdata}\\u003cextra\\u003e\\u003c\\u002fextra\\u003e\",\"source\":[1,1,2,2,3,3,4,5,5,6,6,7,7,8,9,9],\"target\":[2,0,3,0,4,0,0,6,0,7,0,8,0,0,1,5],\"value\":[98.91687436465058,0,89.21028324328788,0,27.144707442554093,0,0,99.21963729620809,0,91.3280820663125,0,28.899065762960248,0,0,100,100]},\"node\":{\"color\":[\"green\",\"#645cff\",\"#645cff\",\"#645cff\",\"#645cff\",\"#f25fe9\",\"#f25fe9\",\"#f25fe9\",\"#f25fe9\"],\"customdata\":[\"\",\"All valid answers from male\\u003cbr\\u003e respondents were used\",\"Male respondents, secondary degree\",\"Male respondents, tertiary education\",\"Male respondents, master \\u002f doctorate\",\"All valid answers from female\\u003cbr\\u003e respondents were used\",\"Female respondents, secondary degree\",\"Female respondents, tertiary education\",\"Female respondents, master \\u002f doctorate\"],\"hovertemplate\":\"%{customdata}\\u003cextra\\u003e\\u003c\\u002fextra\\u003e\",\"pad\":15,\"thickness\":20,\"x\":[0.05,0.33,0.62,0.9,0.05,0.33,0.62,0.9,-1],\"y\":[0.3,0.3,0.735,0.5865,0.2,0.2,0.2,0.05,0.1]},\"type\":\"sankey\",\"hoverlabel\":{\"font\":{\"color\":\"white\"}}}],                        {\"template\":{\"data\":{\"barpolar\":[{\"marker\":{\"line\":{\"color\":\"#E5ECF6\",\"width\":0.5},\"pattern\":{\"fillmode\":\"overlay\",\"size\":10,\"solidity\":0.2}},\"type\":\"barpolar\"}],\"bar\":[{\"error_x\":{\"color\":\"#2a3f5f\"},\"error_y\":{\"color\":\"#2a3f5f\"},\"marker\":{\"line\":{\"color\":\"#E5ECF6\",\"width\":0},\"pattern\":{\"fillmode\":\"overlay\",\"size\":10,\"solidity\":0.2}},\"type\":\"bar\"}],\"carpet\":[{\"aaxis\":{\"endlinecolor\":\"#2a3f5f\",\"gridcolor\":\"white\",\"linecolor\":\"white\",\"minorgridcolor\":\"white\",\"startlinecolor\":\"#2a3f5f\"},\"baxis\":{\"endlinecolor\":\"#2a3f5f\",\"gridcolor\":\"white\",\"linecolor\":\"white\",\"minorgridcolor\":\"white\",\"startlinecolor\":\"#2a3f5f\"},\"type\":\"carpet\"}],\"choropleth\":[{\"colorbar\":{\"outlinewidth\":0,\"ticks\":\"\"},\"type\":\"choropleth\"}],\"contourcarpet\":[{\"colorbar\":{\"outlinewidth\":0,\"ticks\":\"\"},\"type\":\"contourcarpet\"}],\"contour\":[{\"colorbar\":{\"outlinewidth\":0,\"ticks\":\"\"},\"colorscale\":[[0.0,\"#0d0887\"],[0.1111111111111111,\"#46039f\"],[0.2222222222222222,\"#7201a8\"],[0.3333333333333333,\"#9c179e\"],[0.4444444444444444,\"#bd3786\"],[0.5555555555555556,\"#d8576b\"],[0.6666666666666666,\"#ed7953\"],[0.7777777777777778,\"#fb9f3a\"],[0.8888888888888888,\"#fdca26\"],[1.0,\"#f0f921\"]],\"type\":\"contour\"}],\"heatmapgl\":[{\"colorbar\":{\"outlinewidth\":0,\"ticks\":\"\"},\"colorscale\":[[0.0,\"#0d0887\"],[0.1111111111111111,\"#46039f\"],[0.2222222222222222,\"#7201a8\"],[0.3333333333333333,\"#9c179e\"],[0.4444444444444444,\"#bd3786\"],[0.5555555555555556,\"#d8576b\"],[0.6666666666666666,\"#ed7953\"],[0.7777777777777778,\"#fb9f3a\"],[0.8888888888888888,\"#fdca26\"],[1.0,\"#f0f921\"]],\"type\":\"heatmapgl\"}],\"heatmap\":[{\"colorbar\":{\"outlinewidth\":0,\"ticks\":\"\"},\"colorscale\":[[0.0,\"#0d0887\"],[0.1111111111111111,\"#46039f\"],[0.2222222222222222,\"#7201a8\"],[0.3333333333333333,\"#9c179e\"],[0.4444444444444444,\"#bd3786\"],[0.5555555555555556,\"#d8576b\"],[0.6666666666666666,\"#ed7953\"],[0.7777777777777778,\"#fb9f3a\"],[0.8888888888888888,\"#fdca26\"],[1.0,\"#f0f921\"]],\"type\":\"heatmap\"}],\"histogram2dcontour\":[{\"colorbar\":{\"outlinewidth\":0,\"ticks\":\"\"},\"colorscale\":[[0.0,\"#0d0887\"],[0.1111111111111111,\"#46039f\"],[0.2222222222222222,\"#7201a8\"],[0.3333333333333333,\"#9c179e\"],[0.4444444444444444,\"#bd3786\"],[0.5555555555555556,\"#d8576b\"],[0.6666666666666666,\"#ed7953\"],[0.7777777777777778,\"#fb9f3a\"],[0.8888888888888888,\"#fdca26\"],[1.0,\"#f0f921\"]],\"type\":\"histogram2dcontour\"}],\"histogram2d\":[{\"colorbar\":{\"outlinewidth\":0,\"ticks\":\"\"},\"colorscale\":[[0.0,\"#0d0887\"],[0.1111111111111111,\"#46039f\"],[0.2222222222222222,\"#7201a8\"],[0.3333333333333333,\"#9c179e\"],[0.4444444444444444,\"#bd3786\"],[0.5555555555555556,\"#d8576b\"],[0.6666666666666666,\"#ed7953\"],[0.7777777777777778,\"#fb9f3a\"],[0.8888888888888888,\"#fdca26\"],[1.0,\"#f0f921\"]],\"type\":\"histogram2d\"}],\"histogram\":[{\"marker\":{\"pattern\":{\"fillmode\":\"overlay\",\"size\":10,\"solidity\":0.2}},\"type\":\"histogram\"}],\"mesh3d\":[{\"colorbar\":{\"outlinewidth\":0,\"ticks\":\"\"},\"type\":\"mesh3d\"}],\"parcoords\":[{\"line\":{\"colorbar\":{\"outlinewidth\":0,\"ticks\":\"\"}},\"type\":\"parcoords\"}],\"pie\":[{\"automargin\":true,\"type\":\"pie\"}],\"scatter3d\":[{\"line\":{\"colorbar\":{\"outlinewidth\":0,\"ticks\":\"\"}},\"marker\":{\"colorbar\":{\"outlinewidth\":0,\"ticks\":\"\"}},\"type\":\"scatter3d\"}],\"scattercarpet\":[{\"marker\":{\"colorbar\":{\"outlinewidth\":0,\"ticks\":\"\"}},\"type\":\"scattercarpet\"}],\"scattergeo\":[{\"marker\":{\"colorbar\":{\"outlinewidth\":0,\"ticks\":\"\"}},\"type\":\"scattergeo\"}],\"scattergl\":[{\"marker\":{\"colorbar\":{\"outlinewidth\":0,\"ticks\":\"\"}},\"type\":\"scattergl\"}],\"scattermapbox\":[{\"marker\":{\"colorbar\":{\"outlinewidth\":0,\"ticks\":\"\"}},\"type\":\"scattermapbox\"}],\"scatterpolargl\":[{\"marker\":{\"colorbar\":{\"outlinewidth\":0,\"ticks\":\"\"}},\"type\":\"scatterpolargl\"}],\"scatterpolar\":[{\"marker\":{\"colorbar\":{\"outlinewidth\":0,\"ticks\":\"\"}},\"type\":\"scatterpolar\"}],\"scatter\":[{\"fillpattern\":{\"fillmode\":\"overlay\",\"size\":10,\"solidity\":0.2},\"type\":\"scatter\"}],\"scatterternary\":[{\"marker\":{\"colorbar\":{\"outlinewidth\":0,\"ticks\":\"\"}},\"type\":\"scatterternary\"}],\"surface\":[{\"colorbar\":{\"outlinewidth\":0,\"ticks\":\"\"},\"colorscale\":[[0.0,\"#0d0887\"],[0.1111111111111111,\"#46039f\"],[0.2222222222222222,\"#7201a8\"],[0.3333333333333333,\"#9c179e\"],[0.4444444444444444,\"#bd3786\"],[0.5555555555555556,\"#d8576b\"],[0.6666666666666666,\"#ed7953\"],[0.7777777777777778,\"#fb9f3a\"],[0.8888888888888888,\"#fdca26\"],[1.0,\"#f0f921\"]],\"type\":\"surface\"}],\"table\":[{\"cells\":{\"fill\":{\"color\":\"#EBF0F8\"},\"line\":{\"color\":\"white\"}},\"header\":{\"fill\":{\"color\":\"#C8D4E3\"},\"line\":{\"color\":\"white\"}},\"type\":\"table\"}]},\"layout\":{\"annotationdefaults\":{\"arrowcolor\":\"#343a42\",\"arrowhead\":0,\"arrowwidth\":1},\"autotypenumbers\":\"strict\",\"coloraxis\":{\"colorbar\":{\"outlinewidth\":0,\"ticks\":\"\"}},\"colorscale\":{\"diverging\":[[0,\"#8e0152\"],[0.1,\"#c51b7d\"],[0.2,\"#de77ae\"],[0.3,\"#f1b6da\"],[0.4,\"#fde0ef\"],[0.5,\"#f7f7f7\"],[0.6,\"#e6f5d0\"],[0.7,\"#b8e186\"],[0.8,\"#7fbc41\"],[0.9,\"#4d9221\"],[1,\"#276419\"]],\"sequential\":[[0.0,\"#0d0887\"],[0.1111111111111111,\"#46039f\"],[0.2222222222222222,\"#7201a8\"],[0.3333333333333333,\"#9c179e\"],[0.4444444444444444,\"#bd3786\"],[0.5555555555555556,\"#d8576b\"],[0.6666666666666666,\"#ed7953\"],[0.7777777777777778,\"#fb9f3a\"],[0.8888888888888888,\"#fdca26\"],[1.0,\"#f0f921\"]],\"sequentialminus\":[[0.0,\"#0d0887\"],[0.1111111111111111,\"#46039f\"],[0.2222222222222222,\"#7201a8\"],[0.3333333333333333,\"#9c179e\"],[0.4444444444444444,\"#bd3786\"],[0.5555555555555556,\"#d8576b\"],[0.6666666666666666,\"#ed7953\"],[0.7777777777777778,\"#fb9f3a\"],[0.8888888888888888,\"#fdca26\"],[1.0,\"#f0f921\"]]},\"colorway\":[\"#343a42\",\"#4edcda\",\"#645cff\",\"#f25fe9\",\"#f74e4e\",\"#73ef5a\",\"#f7b24e\"],\"font\":{\"color\":\"#343a42\"},\"geo\":{\"bgcolor\":\"white\",\"lakecolor\":\"white\",\"landcolor\":\"#E5ECF6\",\"showlakes\":true,\"showland\":true,\"subunitcolor\":\"white\"},\"hoverlabel\":{\"align\":\"left\"},\"hovermode\":\"closest\",\"mapbox\":{\"style\":\"light\"},\"paper_bgcolor\":\"#fdead4\",\"plot_bgcolor\":\"rgba(0,0,0,0)\",\"polar\":{\"angularaxis\":{\"gridcolor\":\"white\",\"linecolor\":\"white\",\"ticks\":\"\"},\"bgcolor\":\"#E5ECF6\",\"radialaxis\":{\"gridcolor\":\"white\",\"linecolor\":\"white\",\"ticks\":\"\"}},\"scene\":{\"xaxis\":{\"backgroundcolor\":\"#E5ECF6\",\"gridcolor\":\"white\",\"gridwidth\":2,\"linecolor\":\"white\",\"showbackground\":true,\"ticks\":\"\",\"zerolinecolor\":\"white\"},\"yaxis\":{\"backgroundcolor\":\"#E5ECF6\",\"gridcolor\":\"white\",\"gridwidth\":2,\"linecolor\":\"white\",\"showbackground\":true,\"ticks\":\"\",\"zerolinecolor\":\"white\"},\"zaxis\":{\"backgroundcolor\":\"#E5ECF6\",\"gridcolor\":\"white\",\"gridwidth\":2,\"linecolor\":\"white\",\"showbackground\":true,\"ticks\":\"\",\"zerolinecolor\":\"white\"}},\"shapedefaults\":{\"line\":{\"color\":\"#2a3f5f\"}},\"ternary\":{\"aaxis\":{\"gridcolor\":\"white\",\"linecolor\":\"white\",\"ticks\":\"\"},\"baxis\":{\"gridcolor\":\"white\",\"linecolor\":\"white\",\"ticks\":\"\"},\"bgcolor\":\"#E5ECF6\",\"caxis\":{\"gridcolor\":\"white\",\"linecolor\":\"white\",\"ticks\":\"\"}},\"title\":{\"x\":0.5},\"xaxis\":{\"automargin\":true,\"gridcolor\":\"#d8bea1\",\"linecolor\":\"white\",\"ticks\":\"\",\"title\":{\"standoff\":15},\"zerolinecolor\":\"#d8bea1\",\"zerolinewidth\":1},\"yaxis\":{\"automargin\":true,\"gridcolor\":\"#d8bea1\",\"linecolor\":\"white\",\"ticks\":\"\",\"title\":{\"standoff\":15},\"zerolinecolor\":\"#d8bea1\",\"zerolinewidth\":1}}},\"title\":{\"text\":\"Retention in education system by gender\"},\"font\":{\"size\":15},\"modebar\":{\"remove\":[\"lasso2d\",\"select2d\",\"resetsankeygroup\"]},\"annotations\":[{\"font\":{\"color\":\"grey\",\"size\":10},\"showarrow\":false,\"text\":\"Approximately equal, slightly higher for female respondents\",\"x\":0.5,\"xanchor\":\"center\",\"y\":1.13},{\"showarrow\":false,\"text\":\"All respondents\",\"x\":-0.02,\"y\":-0.1},{\"showarrow\":false,\"text\":\"Secondary\",\"x\":0.28,\"y\":-0.1},{\"showarrow\":false,\"text\":\"Bachelor\\u002fTertiary\",\"x\":0.62,\"y\":-0.1},{\"showarrow\":false,\"text\":\"Master\\u002fPhD\",\"x\":0.955,\"y\":-0.1},{\"showarrow\":false,\"text\":\"98.9%\",\"x\":0.155,\"y\":0.415},{\"showarrow\":false,\"text\":\"89.2%\",\"x\":0.47,\"y\":0.415},{\"showarrow\":false,\"text\":\"27.1%\",\"x\":0.79,\"y\":0.415},{\"showarrow\":false,\"text\":\"99.2%\",\"x\":0.155,\"y\":0.965},{\"showarrow\":false,\"text\":\"91.3%\",\"x\":0.47,\"y\":0.965},{\"showarrow\":false,\"text\":\"28.9%\",\"x\":0.79,\"y\":0.965},{\"showarrow\":false,\"text\":\"Female\",\"x\":-0.07,\"y\":0.8},{\"showarrow\":false,\"text\":\"Male\",\"x\":-0.05,\"y\":0.2}]},                        {\"responsive\": true}                    ).then(function(){\n",
       "                            \n",
       "var gd = document.getElementById('d2fd071d-798f-4882-9c6b-491d2e81cd67');\n",
       "var x = new MutationObserver(function (mutations, observer) {{\n",
       "        var display = window.getComputedStyle(gd).display;\n",
       "        if (!display || display === 'none') {{\n",
       "            console.log([gd, 'removed!']);\n",
       "            Plotly.purge(gd);\n",
       "            observer.disconnect();\n",
       "        }}\n",
       "}});\n",
       "\n",
       "// Listen for the removal of the full notebook cells\n",
       "var notebookContainer = gd.closest('#notebook-container');\n",
       "if (notebookContainer) {{\n",
       "    x.observe(notebookContainer, {childList: true});\n",
       "}}\n",
       "\n",
       "// Listen for the clearing of the current output cell\n",
       "var outputEl = gd.closest('.output');\n",
       "if (outputEl) {{\n",
       "    x.observe(outputEl, {childList: true});\n",
       "}}\n",
       "\n",
       "                        })                };                });            </script>        </div>"
      ]
     },
     "metadata": {},
     "output_type": "display_data"
    }
   ],
   "source": [
    "blue_alpha = 'rgba(100,92,255,0.3)'\n",
    "pink_alpha = 'rgba(242,95,233,0.3)'\n",
    "\n",
    "blue = '#645cff'\n",
    "pink = '#f25fe9'\n",
    "\n",
    "fig = go.Figure(data=[go.Sankey(\n",
    "    arrangement='snap',\n",
    "    node={'pad': 15, 'thickness': 20,\n",
    "          'x': [0.05, 0.33, 0.62, 0.9,\n",
    "                0.05, 0.33, 0.62, 0.9, -1],\n",
    "          'y': [0.3, 0.3, 0.735, 0.5865,\n",
    "                0.2, 0.2, 0.2, 0.05, 0.1],\n",
    "          'customdata': [\"\", \"All valid answers from male<br> respondents were used\",\n",
    "                         \"Male respondents, secondary degree\", \"Male respondents, tertiary education\",\n",
    "                         \"Male respondents, master / doctorate\",\n",
    "                         \"All valid answers from female<br> respondents were used\",\n",
    "                         \"Female respondents, secondary degree\", \"Female respondents, tertiary education\",\n",
    "                         \"Female respondents, master / doctorate\"],\n",
    "          'hovertemplate': '%{customdata}<extra></extra>',\n",
    "          'color': [\"green\", blue, blue, blue, blue, pink, pink, pink, pink]\n",
    "        },\n",
    "\n",
    "    link={'source': [1, 1, 2, 2, 3, 3, 4, 5, 5, 6, 6, 7, 7, 8, 9, 9],\n",
    "          'target': [2, 0, 3, 0, 4, 0, 0, 6, 0, 7, 0, 8, 0, 0, 1, 5],\n",
    "          'value': [\n",
    "              res.secondary['male'], 0,  # res.primary['male'] - res.secondary['male'],\n",
    "              res['bachelor/tertiary']['male'], 0,  # res.secondary['male'] - res['bachelor/tertiary']['male'],\n",
    "              res['master/doctorate']['male'], 0,  # res['bachelor/tertiary']['male'] - res['master/doctorate']['male'],\n",
    "              0,  #res['master/doctorate']['male'],\n",
    "              res.secondary['female'], 0,  # res.primary['female'] - res.secondary['female'],\n",
    "              res['bachelor/tertiary']['female'], 0,  # res.secondary['female'] - res['bachelor/tertiary']['female'],\n",
    "              res['master/doctorate']['female'], 0,\n",
    "              # res['bachelor/tertiary']['female'] - res['master/doctorate']['female'],\n",
    "              0,  #res['master/doctorate']['female'],\n",
    "              100, 100\n",
    "          ], 'customdata': [\"Almost all male respondents<br>completed secondary education\", \"\",\n",
    "                            \"Most male respondents continued to tertiary education,<br>though slightly less than female respondents\",\n",
    "                            \"\",\n",
    "                            \"Over a quarter of male respondents continued to a master or doctorate,<br>though slightly less than female respondents\",\n",
    "                            \"\", \"\", \"Almost all female respondents<br>completed secondary education\", \"\",\n",
    "                            \"Most female respondents continued to tertiary education,<br>though slightly more than female respondents\",\n",
    "                            \"\",\n",
    "                            \"Over a quarter of female respondents continued to a master or doctorate,<br>though slightly more than male respondents\", ],\n",
    "          'hovertemplate': ' %{customdata}<extra></extra>',\n",
    "          'arrowlen': 14,\n",
    "          'color': [blue_alpha, blue_alpha, blue_alpha, blue_alpha, blue_alpha, blue_alpha, blue_alpha,\n",
    "                    pink_alpha, pink_alpha, pink_alpha, pink_alpha, pink_alpha, pink_alpha, pink_alpha,\n",
    "                    'rgba(255,255,255,0)', 'rgba(255,255,255,0)', ]\n",
    "          })])\n",
    "\n",
    "fig.update_layout(\n",
    "    title_text=\"Retention in education system by gender\",\n",
    "    font_size=15,\n",
    "    modebar_remove=['lasso2d', 'select2d', 'resetsankeygroup']\n",
    ")\n",
    "\n",
    "fig.update_traces(\n",
    "    hoverlabel={\n",
    "        'font_color': 'white',\n",
    "    }\n",
    ")\n",
    "\n",
    "fig.add_annotation(x=0.5, y=1.13,\n",
    "                   text=\"Approximately equal, slightly higher for female respondents\",\n",
    "                   xanchor='center',\n",
    "                   font={'color':'grey', 'size':10},\n",
    "                   showarrow=False)\n",
    "\n",
    "fig.add_annotation(x=-0.02, y=-0.1,\n",
    "                   text=\"All respondents\",\n",
    "                   showarrow=False)\n",
    "\n",
    "fig.add_annotation(x=0.28, y=-0.1,\n",
    "                   text=\"Secondary\",\n",
    "                   showarrow=False)\n",
    "\n",
    "fig.add_annotation(x=0.62, y=-0.1,\n",
    "                   text=\"Bachelor/Tertiary\",\n",
    "                   showarrow=False)\n",
    "\n",
    "fig.add_annotation(x=0.955, y=-0.1,\n",
    "                   text=\"Master/PhD\",\n",
    "                   showarrow=False)\n",
    "\n",
    "fig.add_annotation(x=0.155, y=0.415,\n",
    "                   text=f\"{res.secondary['male']:.1f}%\",\n",
    "                   showarrow=False)\n",
    "\n",
    "fig.add_annotation(x=0.47, y=0.415,\n",
    "                   text=f\"{res['bachelor/tertiary']['male']:.1f}%\",\n",
    "                   showarrow=False)\n",
    "\n",
    "fig.add_annotation(x=0.79, y=0.415,\n",
    "                   text=f\"{res['master/doctorate']['male']:.1f}%\",\n",
    "                   showarrow=False)\n",
    "\n",
    "fig.add_annotation(x=0.155, y=0.965,\n",
    "                   text=f\"{res.secondary['female']:.1f}%\",\n",
    "                   showarrow=False)\n",
    "\n",
    "fig.add_annotation(x=0.47, y=0.965,\n",
    "                   text=f\"{res['bachelor/tertiary']['female']:.1f}%\",\n",
    "                   showarrow=False)\n",
    "\n",
    "fig.add_annotation(x=0.79, y=0.965,\n",
    "                   text=f\"{res['master/doctorate']['female']:.1f}%\",\n",
    "                   showarrow=False)\n",
    "\n",
    "fig.add_annotation(x=-0.07, y=0.80,\n",
    "                   text=\"Female\",\n",
    "                   showarrow=False)\n",
    "fig.add_annotation(x=-0.05, y=0.20,\n",
    "                   text=\"Male\",\n",
    "                   showarrow=False)\n",
    "fig.show()"
   ]
  },
  {
   "cell_type": "code",
   "execution_count": null,
   "metadata": {},
   "outputs": [],
   "source": []
  }
 ],
 "metadata": {
  "kernelspec": {
   "display_name": "Python 3 (ipykernel)",
   "language": "python",
   "name": "python3"
  },
  "language_info": {
   "codemirror_mode": {
    "name": "ipython",
    "version": 3
   },
   "file_extension": ".py",
   "mimetype": "text/x-python",
   "name": "python",
   "nbconvert_exporter": "python",
   "pygments_lexer": "ipython3",
   "version": "3.10.6"
  }
 },
 "nbformat": 4,
 "nbformat_minor": 1
}
