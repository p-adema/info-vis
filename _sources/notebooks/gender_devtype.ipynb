{
 "cells": [
  {
   "cell_type": "code",
   "execution_count": 6,
   "metadata": {},
   "outputs": [],
   "source": [
    "%run set_theme.ipynb"
   ]
  },
  {
   "cell_type": "code",
   "execution_count": 7,
   "metadata": {},
   "outputs": [],
   "source": [
    "import os\n",
    "\n",
    "import plotly.express as px\n",
    "import numpy as np\n",
    "import pandas as pd"
   ]
  },
  {
   "cell_type": "code",
   "execution_count": 8,
   "metadata": {},
   "outputs": [],
   "source": [
    "RECALCULATE = False\n",
    "PRINT = False"
   ]
  },
  {
   "cell_type": "code",
   "execution_count": 9,
   "metadata": {},
   "outputs": [],
   "source": [
    "if not os.path.isfile('cache/gender_devtype.pq') or RECALCULATE:\n",
    "    full_df = pd.read_parquet('../data/SO_2014_2022.pq')\n",
    "    devtypes = list(full_df['DevType'].dropna().apply(lambda s: s.split(';')[0]).unique())\n",
    "    dt_series = full_df.DevType.apply(lambda s: s.split(';') if isinstance(s, str) else np.nan)\n",
    "    dt_mean_sal = pd.DataFrame(columns=['Salary'], index=devtypes)\n",
    "    dt_gender_count = pd.DataFrame(columns=['Male', 'Female'], index=devtypes)\n",
    "    dt_gender_sal = pd.DataFrame(columns=['Male', 'Female'], index=devtypes)\n",
    "\n",
    "    devtype = None\n",
    "\n",
    "\n",
    "    # Loop closure\n",
    "    def filter_devtype(types: list, value):\n",
    "        if devtype not in types:\n",
    "            return np.nan\n",
    "        return value\n",
    "\n",
    "\n",
    "    search_mean_sal = pd.concat([dt_series, full_df.Salary], axis=1).dropna()\n",
    "    search_gender_count = pd.concat([dt_series, full_df.Gender], axis=1).dropna()\n",
    "    search_gender_sal = pd.concat([dt_series, full_df.Salary, full_df.Gender], axis=1).dropna()\n",
    "    for progress, devtype in enumerate(devtypes):\n",
    "        if PRINT:\n",
    "            print(f'{progress / len(devtypes):>4.0%}')\n",
    "        dt_mean_sal.loc[devtype] = search_mean_sal.DevType.combine(search_mean_sal.Salary, filter_devtype).mean()\n",
    "        dt_gender_count.loc[devtype] = tuple(\n",
    "            search_gender_count.DevType.combine(search_gender_count.Gender, filter_devtype).value_counts())\n",
    "        for gender in ['Male', 'Female']:\n",
    "            sgs = search_gender_sal.query(f\"Gender == '{gender.lower()}'\")\n",
    "            dt_gender_sal.loc[devtype][gender] = sgs.DevType.combine(sgs.Salary, filter_devtype).mean()\n",
    "\n",
    "    if PRINT:\n",
    "        print('100%')\n",
    "\n",
    "    df = pd.DataFrame()\n",
    "    df['Salary'] = dt_mean_sal['Salary']\n",
    "    df['MaleCount'] = dt_gender_count['Male']\n",
    "    df['FemaleCount'] = dt_gender_count['Female']\n",
    "    df['MaleSalary'] = dt_gender_sal['Male']\n",
    "    df['FemaleSalary'] = dt_gender_sal['Female']\n",
    "    df['Gap'] = (df['MaleSalary'] - df['FemaleSalary']) / df['Salary'] * 100\n",
    "    df['Prop'] = df['MaleCount'] / df['FemaleCount']\n",
    "\n",
    "    # Some positions might be unreliable due to low female respondent count\n",
    "    df.query('MaleCount > 200 & FemaleCount > 200', inplace=True)\n",
    "\n",
    "    df.to_parquet('cache/gender_devtype.pq')\n",
    "    RECALCULATE = False\n",
    "else:\n",
    "    df = pd.read_parquet('cache/gender_devtype.pq')\n",
    "    if PRINT:\n",
    "        print('Loaded from cache')"
   ]
  },
  {
   "cell_type": "code",
   "execution_count": 10,
   "metadata": {},
   "outputs": [
    {
     "data": {
      "text/html": [
       "<div>\n",
       "<style scoped>\n",
       "    .dataframe tbody tr th:only-of-type {\n",
       "        vertical-align: middle;\n",
       "    }\n",
       "\n",
       "    .dataframe tbody tr th {\n",
       "        vertical-align: top;\n",
       "    }\n",
       "\n",
       "    .dataframe thead th {\n",
       "        text-align: right;\n",
       "    }\n",
       "</style>\n",
       "<table border=\"1\" class=\"dataframe\">\n",
       "  <thead>\n",
       "    <tr style=\"text-align: right;\">\n",
       "      <th></th>\n",
       "      <th>Salary</th>\n",
       "      <th>MaleCount</th>\n",
       "      <th>FemaleCount</th>\n",
       "      <th>MaleSalary</th>\n",
       "      <th>FemaleSalary</th>\n",
       "      <th>Gap</th>\n",
       "      <th>Prop</th>\n",
       "    </tr>\n",
       "  </thead>\n",
       "  <tbody>\n",
       "    <tr>\n",
       "      <th>Data scientist or machine learning specialist</th>\n",
       "      <td>66741.062337</td>\n",
       "      <td>27967</td>\n",
       "      <td>2135</td>\n",
       "      <td>67065.807725</td>\n",
       "      <td>65158.192406</td>\n",
       "      <td>2.858233</td>\n",
       "      <td>13.099297</td>\n",
       "    </tr>\n",
       "    <tr>\n",
       "      <th>Engineer, data</th>\n",
       "      <td>74134.871049</td>\n",
       "      <td>15341</td>\n",
       "      <td>801</td>\n",
       "      <td>73851.015016</td>\n",
       "      <td>75325.595661</td>\n",
       "      <td>-1.989051</td>\n",
       "      <td>19.152310</td>\n",
       "    </tr>\n",
       "    <tr>\n",
       "      <th>Developer, front-end</th>\n",
       "      <td>57962.401026</td>\n",
       "      <td>95441</td>\n",
       "      <td>7128</td>\n",
       "      <td>58357.289909</td>\n",
       "      <td>56208.281881</td>\n",
       "      <td>3.707590</td>\n",
       "      <td>13.389590</td>\n",
       "    </tr>\n",
       "    <tr>\n",
       "      <th>Student</th>\n",
       "      <td>24490.338723</td>\n",
       "      <td>34176</td>\n",
       "      <td>2740</td>\n",
       "      <td>24634.515929</td>\n",
       "      <td>24305.919094</td>\n",
       "      <td>1.341741</td>\n",
       "      <td>12.472993</td>\n",
       "    </tr>\n",
       "    <tr>\n",
       "      <th>Developer, full-stack</th>\n",
       "      <td>62865.299330</td>\n",
       "      <td>182772</td>\n",
       "      <td>9983</td>\n",
       "      <td>63024.234952</td>\n",
       "      <td>63244.182031</td>\n",
       "      <td>-0.349870</td>\n",
       "      <td>18.308324</td>\n",
       "    </tr>\n",
       "  </tbody>\n",
       "</table>\n",
       "</div>"
      ],
      "text/plain": [
       "                                                     Salary  MaleCount  \\\n",
       "Data scientist or machine learning specialist  66741.062337      27967   \n",
       "Engineer, data                                 74134.871049      15341   \n",
       "Developer, front-end                           57962.401026      95441   \n",
       "Student                                        24490.338723      34176   \n",
       "Developer, full-stack                          62865.299330     182772   \n",
       "\n",
       "                                               FemaleCount    MaleSalary  \\\n",
       "Data scientist or machine learning specialist         2135  67065.807725   \n",
       "Engineer, data                                         801  73851.015016   \n",
       "Developer, front-end                                  7128  58357.289909   \n",
       "Student                                               2740  24634.515929   \n",
       "Developer, full-stack                                 9983  63024.234952   \n",
       "\n",
       "                                               FemaleSalary       Gap  \\\n",
       "Data scientist or machine learning specialist  65158.192406  2.858233   \n",
       "Engineer, data                                 75325.595661 -1.989051   \n",
       "Developer, front-end                           56208.281881  3.707590   \n",
       "Student                                        24305.919094  1.341741   \n",
       "Developer, full-stack                          63244.182031 -0.349870   \n",
       "\n",
       "                                                    Prop  \n",
       "Data scientist or machine learning specialist  13.099297  \n",
       "Engineer, data                                 19.152310  \n",
       "Developer, front-end                           13.389590  \n",
       "Student                                        12.472993  \n",
       "Developer, full-stack                          18.308324  "
      ]
     },
     "execution_count": 10,
     "metadata": {},
     "output_type": "execute_result"
    }
   ],
   "source": [
    "df.head()"
   ]
  },
  {
   "cell_type": "code",
   "execution_count": 11,
   "metadata": {},
   "outputs": [],
   "source": [
    "if PRINT:\n",
    "    print('Positions with most female favourable pay gap:', *df.sort_values(by='Gap').head(3).index.tolist(),\n",
    "          sep='\\n\\t')\n",
    "    print('\\nPositions with most male favourable pay gap:',\n",
    "          *df.sort_values(by='Gap', ascending=False).head(3).index.tolist(), sep='\\n\\t')\n",
    "    print('\\nPositions with highest female proportion:',\n",
    "          *df.sort_values(by='Prop', ascending=False).head(3).index.tolist(), sep='\\n\\t')\n",
    "    print('\\nPositions with lowest female proportion:', *df.sort_values(by='Prop').head(3).index.tolist(), sep='\\n\\t')"
   ]
  },
  {
   "cell_type": "code",
   "execution_count": 12,
   "metadata": {
    "ExecuteTime": {
     "end_time": "2023-06-18T16:48:02.998704Z",
     "start_time": "2023-06-18T16:48:02.915841Z"
    }
   },
   "outputs": [],
   "source": [
    "# plt.scatter(x=df['Prop'], y=df['Gap'])\n",
    "# SHOW_MEAN = False\n",
    "#\n",
    "# if SHOW_MEAN:\n",
    "#     mean_proportion = df.MaleCount.sum() / df.FemaleCount.sum()\n",
    "#     mean_gap = (df.Gap * (df.MaleCount + df.FemaleCount)).sum() / (df.MaleCount.sum() + df.FemaleCount.sum())\n",
    "#     plt.axvline(color='grey', linestyle='dashed', x=mean_proportion)\n",
    "#     plt.axhline(color='grey', linestyle='dashed', y=mean_gap)\n",
    "#     plt.annotate(color='grey', xy=(mean_proportion + 0.5, mean_gap - 1), text='Mean')\n",
    "# else:\n",
    "#     plt.axhline(color='grey', linestyle='dotted')\n",
    "#\n",
    "# plt.title('Gender proportion versus relative pay gap')\n",
    "# plt.xlabel('Male developers per female developer')\n",
    "# plt.ylabel('Percentage higher wage of male developers')\n",
    "#\n",
    "# plt.show()\n",
    "\n",
    "# Seems like higher proportion males ~= better pay females"
   ]
  },
  {
   "cell_type": "code",
   "execution_count": 25,
   "metadata": {
    "ExecuteTime": {
     "end_time": "2023-06-18T16:53:20.380422Z",
     "start_time": "2023-06-18T16:53:20.347421Z"
    }
   },
   "outputs": [
    {
     "data": {
      "application/vnd.plotly.v1+json": {
       "config": {
        "plotlyServerURL": "https://plot.ly"
       },
       "data": [
        {
         "customdata": [
          [
           "Data scientist or machine learning specialist"
          ],
          [
           "Engineer, data"
          ],
          [
           "Developer, front-end"
          ],
          [
           "Student"
          ],
          [
           "Developer, full-stack"
          ],
          [
           "Developer, back-end"
          ],
          [
           "Developer, mobile"
          ],
          [
           "Developer, embedded applications or devices"
          ],
          [
           "Engineer, site reliability"
          ],
          [
           "Developer, desktop or enterprise applications"
          ],
          [
           "Educator or academic"
          ],
          [
           "DevOps specialist"
          ],
          [
           "Database administrator"
          ],
          [
           "Developer, QA or test"
          ],
          [
           "Designer"
          ],
          [
           "System administrator"
          ],
          [
           "Engineering manager"
          ],
          [
           "Data or business analyst"
          ],
          [
           "Senior Executive (C-Suite, VP, etc.)"
          ],
          [
           "Product manager"
          ],
          [
           "Developer, game or graphics"
          ],
          [
           "Marketing or sales professional"
          ],
          [
           "Scientist"
          ]
         ],
         "hovertemplate": "Position: %{customdata[0]}<extra></extra>",
         "legendgroup": "",
         "marker": {
          "color": "#343a42",
          "symbol": "circle"
         },
         "mode": "markers",
         "name": "",
         "orientation": "v",
         "showlegend": false,
         "type": "scatter",
         "x": [
          13.099297423887588,
          19.15230961298377,
          13.389590347923681,
          12.472992700729927,
          18.308324151056798,
          19.07412432165762,
          17.506729081334115,
          26.220408163265308,
          31.281954887218046,
          23.32227016262861,
          12.855860908581043,
          32.709734513274334,
          24.012696041822256,
          13.497643097643097,
          13.520155415250121,
          32.20841300191205,
          28.389162561576356,
          13.717917675544793,
          38.479553903345725,
          20.482857142857142,
          21.65764331210191,
          9.544891640866872,
          15.241573033707866
         ],
         "xaxis": "x",
         "y": [
          2.8582333761580303,
          -1.9890513388519833,
          3.707589729599456,
          1.3417406699155163,
          -0.34987040738475145,
          5.722209301811055,
          4.7893672512516945,
          7.56165580672311,
          -7.579777904605152,
          7.803610843364613,
          4.341448700723221,
          1.0975988720226093,
          9.634382030943026,
          11.612011507499377,
          8.706118220432788,
          5.83894676722251,
          -0.7394728431670561,
          9.274840924997758,
          2.7044296927355647,
          -1.2252722217213752,
          7.227224639323176,
          14.175600449681042,
          5.484094799136047
         ],
         "yaxis": "y"
        }
       ],
       "layout": {
        "legend": {
         "tracegroupgap": 0
        },
        "template": {
         "data": {
          "bar": [
           {
            "error_x": {
             "color": "#2a3f5f"
            },
            "error_y": {
             "color": "#2a3f5f"
            },
            "marker": {
             "line": {
              "color": "#E5ECF6",
              "width": 0
             },
             "pattern": {
              "fillmode": "overlay",
              "size": 10,
              "solidity": 0.2
             }
            },
            "type": "bar"
           }
          ],
          "barpolar": [
           {
            "marker": {
             "line": {
              "color": "#E5ECF6",
              "width": 0.5
             },
             "pattern": {
              "fillmode": "overlay",
              "size": 10,
              "solidity": 0.2
             }
            },
            "type": "barpolar"
           }
          ],
          "carpet": [
           {
            "aaxis": {
             "endlinecolor": "#2a3f5f",
             "gridcolor": "white",
             "linecolor": "white",
             "minorgridcolor": "white",
             "startlinecolor": "#2a3f5f"
            },
            "baxis": {
             "endlinecolor": "#2a3f5f",
             "gridcolor": "white",
             "linecolor": "white",
             "minorgridcolor": "white",
             "startlinecolor": "#2a3f5f"
            },
            "type": "carpet"
           }
          ],
          "choropleth": [
           {
            "colorbar": {
             "outlinewidth": 0,
             "ticks": ""
            },
            "type": "choropleth"
           }
          ],
          "contour": [
           {
            "colorbar": {
             "outlinewidth": 0,
             "ticks": ""
            },
            "colorscale": [
             [
              0,
              "#0d0887"
             ],
             [
              0.1111111111111111,
              "#46039f"
             ],
             [
              0.2222222222222222,
              "#7201a8"
             ],
             [
              0.3333333333333333,
              "#9c179e"
             ],
             [
              0.4444444444444444,
              "#bd3786"
             ],
             [
              0.5555555555555556,
              "#d8576b"
             ],
             [
              0.6666666666666666,
              "#ed7953"
             ],
             [
              0.7777777777777778,
              "#fb9f3a"
             ],
             [
              0.8888888888888888,
              "#fdca26"
             ],
             [
              1,
              "#f0f921"
             ]
            ],
            "type": "contour"
           }
          ],
          "contourcarpet": [
           {
            "colorbar": {
             "outlinewidth": 0,
             "ticks": ""
            },
            "type": "contourcarpet"
           }
          ],
          "heatmap": [
           {
            "colorbar": {
             "outlinewidth": 0,
             "ticks": ""
            },
            "colorscale": [
             [
              0,
              "#0d0887"
             ],
             [
              0.1111111111111111,
              "#46039f"
             ],
             [
              0.2222222222222222,
              "#7201a8"
             ],
             [
              0.3333333333333333,
              "#9c179e"
             ],
             [
              0.4444444444444444,
              "#bd3786"
             ],
             [
              0.5555555555555556,
              "#d8576b"
             ],
             [
              0.6666666666666666,
              "#ed7953"
             ],
             [
              0.7777777777777778,
              "#fb9f3a"
             ],
             [
              0.8888888888888888,
              "#fdca26"
             ],
             [
              1,
              "#f0f921"
             ]
            ],
            "type": "heatmap"
           }
          ],
          "heatmapgl": [
           {
            "colorbar": {
             "outlinewidth": 0,
             "ticks": ""
            },
            "colorscale": [
             [
              0,
              "#0d0887"
             ],
             [
              0.1111111111111111,
              "#46039f"
             ],
             [
              0.2222222222222222,
              "#7201a8"
             ],
             [
              0.3333333333333333,
              "#9c179e"
             ],
             [
              0.4444444444444444,
              "#bd3786"
             ],
             [
              0.5555555555555556,
              "#d8576b"
             ],
             [
              0.6666666666666666,
              "#ed7953"
             ],
             [
              0.7777777777777778,
              "#fb9f3a"
             ],
             [
              0.8888888888888888,
              "#fdca26"
             ],
             [
              1,
              "#f0f921"
             ]
            ],
            "type": "heatmapgl"
           }
          ],
          "histogram": [
           {
            "marker": {
             "pattern": {
              "fillmode": "overlay",
              "size": 10,
              "solidity": 0.2
             }
            },
            "type": "histogram"
           }
          ],
          "histogram2d": [
           {
            "colorbar": {
             "outlinewidth": 0,
             "ticks": ""
            },
            "colorscale": [
             [
              0,
              "#0d0887"
             ],
             [
              0.1111111111111111,
              "#46039f"
             ],
             [
              0.2222222222222222,
              "#7201a8"
             ],
             [
              0.3333333333333333,
              "#9c179e"
             ],
             [
              0.4444444444444444,
              "#bd3786"
             ],
             [
              0.5555555555555556,
              "#d8576b"
             ],
             [
              0.6666666666666666,
              "#ed7953"
             ],
             [
              0.7777777777777778,
              "#fb9f3a"
             ],
             [
              0.8888888888888888,
              "#fdca26"
             ],
             [
              1,
              "#f0f921"
             ]
            ],
            "type": "histogram2d"
           }
          ],
          "histogram2dcontour": [
           {
            "colorbar": {
             "outlinewidth": 0,
             "ticks": ""
            },
            "colorscale": [
             [
              0,
              "#0d0887"
             ],
             [
              0.1111111111111111,
              "#46039f"
             ],
             [
              0.2222222222222222,
              "#7201a8"
             ],
             [
              0.3333333333333333,
              "#9c179e"
             ],
             [
              0.4444444444444444,
              "#bd3786"
             ],
             [
              0.5555555555555556,
              "#d8576b"
             ],
             [
              0.6666666666666666,
              "#ed7953"
             ],
             [
              0.7777777777777778,
              "#fb9f3a"
             ],
             [
              0.8888888888888888,
              "#fdca26"
             ],
             [
              1,
              "#f0f921"
             ]
            ],
            "type": "histogram2dcontour"
           }
          ],
          "mesh3d": [
           {
            "colorbar": {
             "outlinewidth": 0,
             "ticks": ""
            },
            "type": "mesh3d"
           }
          ],
          "parcoords": [
           {
            "line": {
             "colorbar": {
              "outlinewidth": 0,
              "ticks": ""
             }
            },
            "type": "parcoords"
           }
          ],
          "pie": [
           {
            "automargin": true,
            "type": "pie"
           }
          ],
          "scatter": [
           {
            "fillpattern": {
             "fillmode": "overlay",
             "size": 10,
             "solidity": 0.2
            },
            "type": "scatter"
           }
          ],
          "scatter3d": [
           {
            "line": {
             "colorbar": {
              "outlinewidth": 0,
              "ticks": ""
             }
            },
            "marker": {
             "colorbar": {
              "outlinewidth": 0,
              "ticks": ""
             }
            },
            "type": "scatter3d"
           }
          ],
          "scattercarpet": [
           {
            "marker": {
             "colorbar": {
              "outlinewidth": 0,
              "ticks": ""
             }
            },
            "type": "scattercarpet"
           }
          ],
          "scattergeo": [
           {
            "marker": {
             "colorbar": {
              "outlinewidth": 0,
              "ticks": ""
             }
            },
            "type": "scattergeo"
           }
          ],
          "scattergl": [
           {
            "marker": {
             "colorbar": {
              "outlinewidth": 0,
              "ticks": ""
             }
            },
            "type": "scattergl"
           }
          ],
          "scattermapbox": [
           {
            "marker": {
             "colorbar": {
              "outlinewidth": 0,
              "ticks": ""
             }
            },
            "type": "scattermapbox"
           }
          ],
          "scatterpolar": [
           {
            "marker": {
             "colorbar": {
              "outlinewidth": 0,
              "ticks": ""
             }
            },
            "type": "scatterpolar"
           }
          ],
          "scatterpolargl": [
           {
            "marker": {
             "colorbar": {
              "outlinewidth": 0,
              "ticks": ""
             }
            },
            "type": "scatterpolargl"
           }
          ],
          "scatterternary": [
           {
            "marker": {
             "colorbar": {
              "outlinewidth": 0,
              "ticks": ""
             }
            },
            "type": "scatterternary"
           }
          ],
          "surface": [
           {
            "colorbar": {
             "outlinewidth": 0,
             "ticks": ""
            },
            "colorscale": [
             [
              0,
              "#0d0887"
             ],
             [
              0.1111111111111111,
              "#46039f"
             ],
             [
              0.2222222222222222,
              "#7201a8"
             ],
             [
              0.3333333333333333,
              "#9c179e"
             ],
             [
              0.4444444444444444,
              "#bd3786"
             ],
             [
              0.5555555555555556,
              "#d8576b"
             ],
             [
              0.6666666666666666,
              "#ed7953"
             ],
             [
              0.7777777777777778,
              "#fb9f3a"
             ],
             [
              0.8888888888888888,
              "#fdca26"
             ],
             [
              1,
              "#f0f921"
             ]
            ],
            "type": "surface"
           }
          ],
          "table": [
           {
            "cells": {
             "fill": {
              "color": "#EBF0F8"
             },
             "line": {
              "color": "white"
             }
            },
            "header": {
             "fill": {
              "color": "#C8D4E3"
             },
             "line": {
              "color": "white"
             }
            },
            "type": "table"
           }
          ]
         },
         "layout": {
          "annotationdefaults": {
           "arrowcolor": "#343a42",
           "arrowhead": 0,
           "arrowwidth": 1
          },
          "autotypenumbers": "strict",
          "coloraxis": {
           "colorbar": {
            "outlinewidth": 0,
            "ticks": ""
           }
          },
          "colorscale": {
           "diverging": [
            [
             0,
             "#8e0152"
            ],
            [
             0.1,
             "#c51b7d"
            ],
            [
             0.2,
             "#de77ae"
            ],
            [
             0.3,
             "#f1b6da"
            ],
            [
             0.4,
             "#fde0ef"
            ],
            [
             0.5,
             "#f7f7f7"
            ],
            [
             0.6,
             "#e6f5d0"
            ],
            [
             0.7,
             "#b8e186"
            ],
            [
             0.8,
             "#7fbc41"
            ],
            [
             0.9,
             "#4d9221"
            ],
            [
             1,
             "#276419"
            ]
           ],
           "sequential": [
            [
             0,
             "#0d0887"
            ],
            [
             0.1111111111111111,
             "#46039f"
            ],
            [
             0.2222222222222222,
             "#7201a8"
            ],
            [
             0.3333333333333333,
             "#9c179e"
            ],
            [
             0.4444444444444444,
             "#bd3786"
            ],
            [
             0.5555555555555556,
             "#d8576b"
            ],
            [
             0.6666666666666666,
             "#ed7953"
            ],
            [
             0.7777777777777778,
             "#fb9f3a"
            ],
            [
             0.8888888888888888,
             "#fdca26"
            ],
            [
             1,
             "#f0f921"
            ]
           ],
           "sequentialminus": [
            [
             0,
             "#0d0887"
            ],
            [
             0.1111111111111111,
             "#46039f"
            ],
            [
             0.2222222222222222,
             "#7201a8"
            ],
            [
             0.3333333333333333,
             "#9c179e"
            ],
            [
             0.4444444444444444,
             "#bd3786"
            ],
            [
             0.5555555555555556,
             "#d8576b"
            ],
            [
             0.6666666666666666,
             "#ed7953"
            ],
            [
             0.7777777777777778,
             "#fb9f3a"
            ],
            [
             0.8888888888888888,
             "#fdca26"
            ],
            [
             1,
             "#f0f921"
            ]
           ]
          },
          "colorway": [
           "#343a42",
           "#4edcda",
           "#645cff",
           "#f25fe9",
           "#f74e4e",
           "#73ef5a",
           "#f7b24e"
          ],
          "font": {
           "color": "#343a42"
          },
          "geo": {
           "bgcolor": "white",
           "lakecolor": "white",
           "landcolor": "#E5ECF6",
           "showlakes": true,
           "showland": true,
           "subunitcolor": "white"
          },
          "hoverlabel": {
           "align": "left"
          },
          "hovermode": "closest",
          "mapbox": {
           "style": "light"
          },
          "paper_bgcolor": "#fdead4",
          "plot_bgcolor": "rgba(0,0,0,0)",
          "polar": {
           "angularaxis": {
            "gridcolor": "white",
            "linecolor": "white",
            "ticks": ""
           },
           "bgcolor": "#E5ECF6",
           "radialaxis": {
            "gridcolor": "white",
            "linecolor": "white",
            "ticks": ""
           }
          },
          "scene": {
           "xaxis": {
            "backgroundcolor": "#E5ECF6",
            "gridcolor": "white",
            "gridwidth": 2,
            "linecolor": "white",
            "showbackground": true,
            "ticks": "",
            "zerolinecolor": "white"
           },
           "yaxis": {
            "backgroundcolor": "#E5ECF6",
            "gridcolor": "white",
            "gridwidth": 2,
            "linecolor": "white",
            "showbackground": true,
            "ticks": "",
            "zerolinecolor": "white"
           },
           "zaxis": {
            "backgroundcolor": "#E5ECF6",
            "gridcolor": "white",
            "gridwidth": 2,
            "linecolor": "white",
            "showbackground": true,
            "ticks": "",
            "zerolinecolor": "white"
           }
          },
          "shapedefaults": {
           "line": {
            "color": "#2a3f5f"
           }
          },
          "ternary": {
           "aaxis": {
            "gridcolor": "white",
            "linecolor": "white",
            "ticks": ""
           },
           "baxis": {
            "gridcolor": "white",
            "linecolor": "white",
            "ticks": ""
           },
           "bgcolor": "#E5ECF6",
           "caxis": {
            "gridcolor": "white",
            "linecolor": "white",
            "ticks": ""
           }
          },
          "title": {
           "x": 0.5
          },
          "xaxis": {
           "automargin": true,
           "gridcolor": "#d8bea1",
           "linecolor": "white",
           "ticks": "",
           "title": {
            "standoff": 15
           },
           "zerolinecolor": "#d8bea1",
           "zerolinewidth": 1
          },
          "yaxis": {
           "automargin": true,
           "gridcolor": "#d8bea1",
           "linecolor": "white",
           "ticks": "",
           "title": {
            "standoff": 15
           },
           "zerolinecolor": "#d8bea1",
           "zerolinewidth": 1
          }
         }
        },
        "title": {
         "text": "Gender ratio of positions versus pay gap"
        },
        "xaxis": {
         "anchor": "y",
         "domain": [
          0,
          1
         ],
         "title": {
          "text": "Average men per woman in position"
         }
        },
        "yaxis": {
         "anchor": "x",
         "domain": [
          0,
          1
         ],
         "title": {
          "text": "Percentage higher payment of men"
         }
        }
       }
      },
      "text/html": [
       "<div>                            <div id=\"34da7ce2-0e3a-4ecc-86e6-b486d0bf7164\" class=\"plotly-graph-div\" style=\"height:525px; width:100%;\"></div>            <script type=\"text/javascript\">                require([\"plotly\"], function(Plotly) {                    window.PLOTLYENV=window.PLOTLYENV || {};                                    if (document.getElementById(\"34da7ce2-0e3a-4ecc-86e6-b486d0bf7164\")) {                    Plotly.newPlot(                        \"34da7ce2-0e3a-4ecc-86e6-b486d0bf7164\",                        [{\"customdata\":[[\"Data scientist or machine learning specialist\"],[\"Engineer, data\"],[\"Developer, front-end\"],[\"Student\"],[\"Developer, full-stack\"],[\"Developer, back-end\"],[\"Developer, mobile\"],[\"Developer, embedded applications or devices\"],[\"Engineer, site reliability\"],[\"Developer, desktop or enterprise applications\"],[\"Educator or academic\"],[\"DevOps specialist\"],[\"Database administrator\"],[\"Developer, QA or test\"],[\"Designer\"],[\"System administrator\"],[\"Engineering manager\"],[\"Data or business analyst\"],[\"Senior Executive (C-Suite, VP, etc.)\"],[\"Product manager\"],[\"Developer, game or graphics\"],[\"Marketing or sales professional\"],[\"Scientist\"]],\"hovertemplate\":\"Position: %{customdata[0]}\\u003cextra\\u003e\\u003c\\u002fextra\\u003e\",\"legendgroup\":\"\",\"marker\":{\"color\":\"#343a42\",\"symbol\":\"circle\"},\"mode\":\"markers\",\"name\":\"\",\"orientation\":\"v\",\"showlegend\":false,\"x\":[13.099297423887588,19.15230961298377,13.389590347923681,12.472992700729927,18.308324151056798,19.07412432165762,17.506729081334115,26.220408163265308,31.281954887218046,23.32227016262861,12.855860908581043,32.709734513274334,24.012696041822256,13.497643097643097,13.520155415250121,32.20841300191205,28.389162561576356,13.717917675544793,38.479553903345725,20.482857142857142,21.65764331210191,9.544891640866872,15.241573033707866],\"xaxis\":\"x\",\"y\":[2.8582333761580303,-1.9890513388519833,3.707589729599456,1.3417406699155163,-0.34987040738475145,5.722209301811055,4.7893672512516945,7.56165580672311,-7.579777904605152,7.803610843364613,4.341448700723221,1.0975988720226093,9.634382030943026,11.612011507499377,8.706118220432788,5.83894676722251,-0.7394728431670561,9.274840924997758,2.7044296927355647,-1.2252722217213752,7.227224639323176,14.175600449681042,5.484094799136047],\"yaxis\":\"y\",\"type\":\"scatter\"}],                        {\"template\":{\"data\":{\"barpolar\":[{\"marker\":{\"line\":{\"color\":\"#E5ECF6\",\"width\":0.5},\"pattern\":{\"fillmode\":\"overlay\",\"size\":10,\"solidity\":0.2}},\"type\":\"barpolar\"}],\"bar\":[{\"error_x\":{\"color\":\"#2a3f5f\"},\"error_y\":{\"color\":\"#2a3f5f\"},\"marker\":{\"line\":{\"color\":\"#E5ECF6\",\"width\":0},\"pattern\":{\"fillmode\":\"overlay\",\"size\":10,\"solidity\":0.2}},\"type\":\"bar\"}],\"carpet\":[{\"aaxis\":{\"endlinecolor\":\"#2a3f5f\",\"gridcolor\":\"white\",\"linecolor\":\"white\",\"minorgridcolor\":\"white\",\"startlinecolor\":\"#2a3f5f\"},\"baxis\":{\"endlinecolor\":\"#2a3f5f\",\"gridcolor\":\"white\",\"linecolor\":\"white\",\"minorgridcolor\":\"white\",\"startlinecolor\":\"#2a3f5f\"},\"type\":\"carpet\"}],\"choropleth\":[{\"colorbar\":{\"outlinewidth\":0,\"ticks\":\"\"},\"type\":\"choropleth\"}],\"contourcarpet\":[{\"colorbar\":{\"outlinewidth\":0,\"ticks\":\"\"},\"type\":\"contourcarpet\"}],\"contour\":[{\"colorbar\":{\"outlinewidth\":0,\"ticks\":\"\"},\"colorscale\":[[0.0,\"#0d0887\"],[0.1111111111111111,\"#46039f\"],[0.2222222222222222,\"#7201a8\"],[0.3333333333333333,\"#9c179e\"],[0.4444444444444444,\"#bd3786\"],[0.5555555555555556,\"#d8576b\"],[0.6666666666666666,\"#ed7953\"],[0.7777777777777778,\"#fb9f3a\"],[0.8888888888888888,\"#fdca26\"],[1.0,\"#f0f921\"]],\"type\":\"contour\"}],\"heatmapgl\":[{\"colorbar\":{\"outlinewidth\":0,\"ticks\":\"\"},\"colorscale\":[[0.0,\"#0d0887\"],[0.1111111111111111,\"#46039f\"],[0.2222222222222222,\"#7201a8\"],[0.3333333333333333,\"#9c179e\"],[0.4444444444444444,\"#bd3786\"],[0.5555555555555556,\"#d8576b\"],[0.6666666666666666,\"#ed7953\"],[0.7777777777777778,\"#fb9f3a\"],[0.8888888888888888,\"#fdca26\"],[1.0,\"#f0f921\"]],\"type\":\"heatmapgl\"}],\"heatmap\":[{\"colorbar\":{\"outlinewidth\":0,\"ticks\":\"\"},\"colorscale\":[[0.0,\"#0d0887\"],[0.1111111111111111,\"#46039f\"],[0.2222222222222222,\"#7201a8\"],[0.3333333333333333,\"#9c179e\"],[0.4444444444444444,\"#bd3786\"],[0.5555555555555556,\"#d8576b\"],[0.6666666666666666,\"#ed7953\"],[0.7777777777777778,\"#fb9f3a\"],[0.8888888888888888,\"#fdca26\"],[1.0,\"#f0f921\"]],\"type\":\"heatmap\"}],\"histogram2dcontour\":[{\"colorbar\":{\"outlinewidth\":0,\"ticks\":\"\"},\"colorscale\":[[0.0,\"#0d0887\"],[0.1111111111111111,\"#46039f\"],[0.2222222222222222,\"#7201a8\"],[0.3333333333333333,\"#9c179e\"],[0.4444444444444444,\"#bd3786\"],[0.5555555555555556,\"#d8576b\"],[0.6666666666666666,\"#ed7953\"],[0.7777777777777778,\"#fb9f3a\"],[0.8888888888888888,\"#fdca26\"],[1.0,\"#f0f921\"]],\"type\":\"histogram2dcontour\"}],\"histogram2d\":[{\"colorbar\":{\"outlinewidth\":0,\"ticks\":\"\"},\"colorscale\":[[0.0,\"#0d0887\"],[0.1111111111111111,\"#46039f\"],[0.2222222222222222,\"#7201a8\"],[0.3333333333333333,\"#9c179e\"],[0.4444444444444444,\"#bd3786\"],[0.5555555555555556,\"#d8576b\"],[0.6666666666666666,\"#ed7953\"],[0.7777777777777778,\"#fb9f3a\"],[0.8888888888888888,\"#fdca26\"],[1.0,\"#f0f921\"]],\"type\":\"histogram2d\"}],\"histogram\":[{\"marker\":{\"pattern\":{\"fillmode\":\"overlay\",\"size\":10,\"solidity\":0.2}},\"type\":\"histogram\"}],\"mesh3d\":[{\"colorbar\":{\"outlinewidth\":0,\"ticks\":\"\"},\"type\":\"mesh3d\"}],\"parcoords\":[{\"line\":{\"colorbar\":{\"outlinewidth\":0,\"ticks\":\"\"}},\"type\":\"parcoords\"}],\"pie\":[{\"automargin\":true,\"type\":\"pie\"}],\"scatter3d\":[{\"line\":{\"colorbar\":{\"outlinewidth\":0,\"ticks\":\"\"}},\"marker\":{\"colorbar\":{\"outlinewidth\":0,\"ticks\":\"\"}},\"type\":\"scatter3d\"}],\"scattercarpet\":[{\"marker\":{\"colorbar\":{\"outlinewidth\":0,\"ticks\":\"\"}},\"type\":\"scattercarpet\"}],\"scattergeo\":[{\"marker\":{\"colorbar\":{\"outlinewidth\":0,\"ticks\":\"\"}},\"type\":\"scattergeo\"}],\"scattergl\":[{\"marker\":{\"colorbar\":{\"outlinewidth\":0,\"ticks\":\"\"}},\"type\":\"scattergl\"}],\"scattermapbox\":[{\"marker\":{\"colorbar\":{\"outlinewidth\":0,\"ticks\":\"\"}},\"type\":\"scattermapbox\"}],\"scatterpolargl\":[{\"marker\":{\"colorbar\":{\"outlinewidth\":0,\"ticks\":\"\"}},\"type\":\"scatterpolargl\"}],\"scatterpolar\":[{\"marker\":{\"colorbar\":{\"outlinewidth\":0,\"ticks\":\"\"}},\"type\":\"scatterpolar\"}],\"scatter\":[{\"fillpattern\":{\"fillmode\":\"overlay\",\"size\":10,\"solidity\":0.2},\"type\":\"scatter\"}],\"scatterternary\":[{\"marker\":{\"colorbar\":{\"outlinewidth\":0,\"ticks\":\"\"}},\"type\":\"scatterternary\"}],\"surface\":[{\"colorbar\":{\"outlinewidth\":0,\"ticks\":\"\"},\"colorscale\":[[0.0,\"#0d0887\"],[0.1111111111111111,\"#46039f\"],[0.2222222222222222,\"#7201a8\"],[0.3333333333333333,\"#9c179e\"],[0.4444444444444444,\"#bd3786\"],[0.5555555555555556,\"#d8576b\"],[0.6666666666666666,\"#ed7953\"],[0.7777777777777778,\"#fb9f3a\"],[0.8888888888888888,\"#fdca26\"],[1.0,\"#f0f921\"]],\"type\":\"surface\"}],\"table\":[{\"cells\":{\"fill\":{\"color\":\"#EBF0F8\"},\"line\":{\"color\":\"white\"}},\"header\":{\"fill\":{\"color\":\"#C8D4E3\"},\"line\":{\"color\":\"white\"}},\"type\":\"table\"}]},\"layout\":{\"annotationdefaults\":{\"arrowcolor\":\"#343a42\",\"arrowhead\":0,\"arrowwidth\":1},\"autotypenumbers\":\"strict\",\"coloraxis\":{\"colorbar\":{\"outlinewidth\":0,\"ticks\":\"\"}},\"colorscale\":{\"diverging\":[[0,\"#8e0152\"],[0.1,\"#c51b7d\"],[0.2,\"#de77ae\"],[0.3,\"#f1b6da\"],[0.4,\"#fde0ef\"],[0.5,\"#f7f7f7\"],[0.6,\"#e6f5d0\"],[0.7,\"#b8e186\"],[0.8,\"#7fbc41\"],[0.9,\"#4d9221\"],[1,\"#276419\"]],\"sequential\":[[0.0,\"#0d0887\"],[0.1111111111111111,\"#46039f\"],[0.2222222222222222,\"#7201a8\"],[0.3333333333333333,\"#9c179e\"],[0.4444444444444444,\"#bd3786\"],[0.5555555555555556,\"#d8576b\"],[0.6666666666666666,\"#ed7953\"],[0.7777777777777778,\"#fb9f3a\"],[0.8888888888888888,\"#fdca26\"],[1.0,\"#f0f921\"]],\"sequentialminus\":[[0.0,\"#0d0887\"],[0.1111111111111111,\"#46039f\"],[0.2222222222222222,\"#7201a8\"],[0.3333333333333333,\"#9c179e\"],[0.4444444444444444,\"#bd3786\"],[0.5555555555555556,\"#d8576b\"],[0.6666666666666666,\"#ed7953\"],[0.7777777777777778,\"#fb9f3a\"],[0.8888888888888888,\"#fdca26\"],[1.0,\"#f0f921\"]]},\"colorway\":[\"#343a42\",\"#4edcda\",\"#645cff\",\"#f25fe9\",\"#f74e4e\",\"#73ef5a\",\"#f7b24e\"],\"font\":{\"color\":\"#343a42\"},\"geo\":{\"bgcolor\":\"white\",\"lakecolor\":\"white\",\"landcolor\":\"#E5ECF6\",\"showlakes\":true,\"showland\":true,\"subunitcolor\":\"white\"},\"hoverlabel\":{\"align\":\"left\"},\"hovermode\":\"closest\",\"mapbox\":{\"style\":\"light\"},\"paper_bgcolor\":\"#fdead4\",\"plot_bgcolor\":\"rgba(0,0,0,0)\",\"polar\":{\"angularaxis\":{\"gridcolor\":\"white\",\"linecolor\":\"white\",\"ticks\":\"\"},\"bgcolor\":\"#E5ECF6\",\"radialaxis\":{\"gridcolor\":\"white\",\"linecolor\":\"white\",\"ticks\":\"\"}},\"scene\":{\"xaxis\":{\"backgroundcolor\":\"#E5ECF6\",\"gridcolor\":\"white\",\"gridwidth\":2,\"linecolor\":\"white\",\"showbackground\":true,\"ticks\":\"\",\"zerolinecolor\":\"white\"},\"yaxis\":{\"backgroundcolor\":\"#E5ECF6\",\"gridcolor\":\"white\",\"gridwidth\":2,\"linecolor\":\"white\",\"showbackground\":true,\"ticks\":\"\",\"zerolinecolor\":\"white\"},\"zaxis\":{\"backgroundcolor\":\"#E5ECF6\",\"gridcolor\":\"white\",\"gridwidth\":2,\"linecolor\":\"white\",\"showbackground\":true,\"ticks\":\"\",\"zerolinecolor\":\"white\"}},\"shapedefaults\":{\"line\":{\"color\":\"#2a3f5f\"}},\"ternary\":{\"aaxis\":{\"gridcolor\":\"white\",\"linecolor\":\"white\",\"ticks\":\"\"},\"baxis\":{\"gridcolor\":\"white\",\"linecolor\":\"white\",\"ticks\":\"\"},\"bgcolor\":\"#E5ECF6\",\"caxis\":{\"gridcolor\":\"white\",\"linecolor\":\"white\",\"ticks\":\"\"}},\"title\":{\"x\":0.5},\"xaxis\":{\"automargin\":true,\"gridcolor\":\"#d8bea1\",\"linecolor\":\"white\",\"ticks\":\"\",\"title\":{\"standoff\":15},\"zerolinecolor\":\"#d8bea1\",\"zerolinewidth\":1},\"yaxis\":{\"automargin\":true,\"gridcolor\":\"#d8bea1\",\"linecolor\":\"white\",\"ticks\":\"\",\"title\":{\"standoff\":15},\"zerolinecolor\":\"#d8bea1\",\"zerolinewidth\":1}}},\"xaxis\":{\"anchor\":\"y\",\"domain\":[0.0,1.0],\"title\":{\"text\":\"Average men per woman in position\"}},\"yaxis\":{\"anchor\":\"x\",\"domain\":[0.0,1.0],\"title\":{\"text\":\"Percentage higher payment of men\"}},\"legend\":{\"tracegroupgap\":0},\"title\":{\"text\":\"Gender ratio of positions versus pay gap\"}},                        {\"responsive\": true}                    ).then(function(){\n",
       "                            \n",
       "var gd = document.getElementById('34da7ce2-0e3a-4ecc-86e6-b486d0bf7164');\n",
       "var x = new MutationObserver(function (mutations, observer) {{\n",
       "        var display = window.getComputedStyle(gd).display;\n",
       "        if (!display || display === 'none') {{\n",
       "            console.log([gd, 'removed!']);\n",
       "            Plotly.purge(gd);\n",
       "            observer.disconnect();\n",
       "        }}\n",
       "}});\n",
       "\n",
       "// Listen for the removal of the full notebook cells\n",
       "var notebookContainer = gd.closest('#notebook-container');\n",
       "if (notebookContainer) {{\n",
       "    x.observe(notebookContainer, {childList: true});\n",
       "}}\n",
       "\n",
       "// Listen for the clearing of the current output cell\n",
       "var outputEl = gd.closest('.output');\n",
       "if (outputEl) {{\n",
       "    x.observe(outputEl, {childList: true});\n",
       "}}\n",
       "\n",
       "                        })                };                });            </script>        </div>"
      ]
     },
     "metadata": {},
     "output_type": "display_data"
    }
   ],
   "source": [
    "fig = px.scatter(\n",
    "    df.reset_index(names='Position'),\n",
    "    x='Prop',\n",
    "    y='Gap',\n",
    "    hover_data={'Position':True, 'Prop':False, 'Gap':False},\n",
    "    labels={\n",
    "        'Prop':'Average men per woman in position',\n",
    "        'Gap':'Percentage higher payment of men',\n",
    "    },\n",
    "    title='Gender ratio of positions versus pay gap'\n",
    ")\n",
    "\n",
    "fig.for_each_trace(lambda t: t.update(hovertemplate='Position: %{customdata[0]}<extra></extra>'))\n",
    "\n",
    "fig.show()"
   ]
  },
  {
   "cell_type": "code",
   "execution_count": null,
   "metadata": {},
   "outputs": [],
   "source": []
  }
 ],
 "metadata": {
  "kernelspec": {
   "display_name": "Python 3 (ipykernel)",
   "language": "python",
   "name": "python3"
  },
  "language_info": {
   "codemirror_mode": {
    "name": "ipython",
    "version": 3
   },
   "file_extension": ".py",
   "mimetype": "text/x-python",
   "name": "python",
   "nbconvert_exporter": "python",
   "pygments_lexer": "ipython3",
   "version": "3.10.6"
  }
 },
 "nbformat": 4,
 "nbformat_minor": 1
}
